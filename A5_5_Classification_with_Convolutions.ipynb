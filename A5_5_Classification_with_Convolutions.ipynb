{
  "nbformat": 4,
  "nbformat_minor": 0,
  "metadata": {
    "kernelspec": {
      "display_name": "Python 3",
      "language": "python",
      "name": "python3"
    },
    "language_info": {
      "codemirror_mode": {
        "name": "ipython",
        "version": 3
      },
      "file_extension": ".py",
      "mimetype": "text/x-python",
      "name": "python",
      "nbconvert_exporter": "python",
      "pygments_lexer": "ipython3",
      "version": "3.8.3"
    },
    "toc": {
      "base_numbering": 1,
      "nav_menu": {},
      "number_sections": true,
      "sideBar": true,
      "skip_h1_title": false,
      "title_cell": "Table of Contents",
      "title_sidebar": "Contents",
      "toc_cell": false,
      "toc_position": {},
      "toc_section_display": true,
      "toc_window_display": true
    },
    "colab": {
      "name": "A5.5_Classification_with_Convolutions.ipynb",
      "provenance": [],
      "collapsed_sections": [
        "zSwfMQfEy75W",
        "cvcYP5NBy75X"
      ]
    }
  },
  "cells": [
    {
      "cell_type": "markdown",
      "metadata": {
        "id": "z2VFiQA1y73j"
      },
      "source": [
        "# A5 Classification with CNNs\n",
        "\n",
        "In this assignment, you will define a new class named `NeuralNetworkClassifierCNN` that extends the `NeuralNetworkClassifier` class provided here. You will compare how your `NeuralNetworkClassifier` comapres with your `NeuralNetworkClassifierCNN` to train a classifier of Images."
      ]
    },
    {
      "cell_type": "code",
      "metadata": {
        "id": "bIB9uTYqy73o"
      },
      "source": [
        "import matplotlib.pyplot as plt\n",
        "import numpy as np"
      ],
      "execution_count": null,
      "outputs": []
    },
    {
      "cell_type": "code",
      "metadata": {
        "id": "SxfL3ySZzR13",
        "colab": {
          "base_uri": "https://localhost:8080/"
        },
        "outputId": "57334cbb-9114-4806-d017-f14ebdc0bba5"
      },
      "source": [
        "%%writefile optimizers.py\n",
        "import numpy as np\n",
        "\n",
        "######################################################################\n",
        "## class Optimizers()\n",
        "######################################################################\n",
        "\n",
        "class Optimizers():\n",
        "\n",
        "    def __init__(self, all_weights):\n",
        "        '''all_weights is a vector of all of a neural networks weights concatenated into a one-dimensional vector'''\n",
        "        \n",
        "        self.all_weights = all_weights\n",
        "\n",
        "        # The following initializations are only used by adam.\n",
        "        # Only initializing m, v, beta1t and beta2t here allows multiple calls to adam to handle training\n",
        "        # with multiple subsets (batches) of training data.\n",
        "        self.mt = np.zeros_like(all_weights)\n",
        "        self.vt = np.zeros_like(all_weights)\n",
        "        self.beta1 = 0.9\n",
        "        self.beta2 = 0.999\n",
        "        self.beta1t = 1\n",
        "        self.beta2t = 1\n",
        "\n",
        "        \n",
        "    def sgd(self, error_f, gradient_f, fargs=[], n_epochs=100, learning_rate=0.001, verbose=True, error_convert_f=None):\n",
        "        '''\n",
        "error_f: function that requires X and T as arguments (given in fargs) and returns mean squared error.\n",
        "gradient_f: function that requires X and T as arguments (in fargs) and returns gradient of mean squared error\n",
        "            with respect to each weight.\n",
        "error_convert_f: function that converts the standardized error from error_f to original T units.\n",
        "        '''\n",
        "\n",
        "        error_trace = []\n",
        "        epochs_per_print = n_epochs // 10\n",
        "\n",
        "        for epoch in range(n_epochs):\n",
        "\n",
        "            error = error_f(*fargs)\n",
        "            grad = gradient_f(*fargs)\n",
        "\n",
        "            # Update all weights using -= to modify their values in-place.\n",
        "            self.all_weights -= learning_rate * grad\n",
        "\n",
        "            if error_convert_f:\n",
        "                error = error_convert_f(error)\n",
        "            error_trace.append(error)\n",
        "\n",
        "            if verbose and ((epoch + 1) % max(1, epochs_per_print) == 0):\n",
        "                print(f'sgd: Epoch {epoch+1:d} Error={error:.5f}')\n",
        "\n",
        "        return error_trace\n",
        "\n",
        "    def adam(self, error_f, gradient_f, fargs=[], n_epochs=100, learning_rate=0.001, verbose=True, error_convert_f=None):\n",
        "        '''\n",
        "error_f: function that requires X and T as arguments (given in fargs) and returns mean squared error.\n",
        "gradient_f: function that requires X and T as arguments (in fargs) and returns gradient of mean squared error\n",
        "            with respect to each weight.\n",
        "error_convert_f: function that converts the standardized error from error_f to original T units.\n",
        "        '''\n",
        "\n",
        "        alpha = learning_rate  # learning rate called alpha in original paper on adam\n",
        "        epsilon = 1e-8\n",
        "        error_trace = []\n",
        "        epochs_per_print = n_epochs // 10\n",
        "\n",
        "        for epoch in range(n_epochs):\n",
        "\n",
        "            error = error_f(*fargs)\n",
        "            grad = gradient_f(*fargs)\n",
        "\n",
        "            self.mt[:] = self.beta1 * self.mt + (1 - self.beta1) * grad\n",
        "            self.vt[:] = self.beta2 * self.vt + (1 - self.beta2) * grad * grad\n",
        "            self.beta1t *= self.beta1\n",
        "            self.beta2t *= self.beta2\n",
        "\n",
        "            m_hat = self.mt / (1 - self.beta1t)\n",
        "            v_hat = self.vt / (1 - self.beta2t)\n",
        "\n",
        "            # Update all weights using -= to modify their values in-place.\n",
        "            self.all_weights -= alpha * m_hat / (np.sqrt(v_hat) + epsilon)\n",
        "    \n",
        "            if error_convert_f:\n",
        "                error = error_convert_f(error)\n",
        "            error_trace.append(error)\n",
        "\n",
        "            if verbose and ((epoch + 1) % max(1, epochs_per_print) == 0):\n",
        "                print(f'Adam: Epoch {epoch+1:d} Error={error:.5f}')\n",
        "\n",
        "        return error_trace\n",
        "\n",
        "if __name__ == '__main__':\n",
        "\n",
        "    import matplotlib.pyplot as plt\n",
        "    plt.ion()\n",
        "\n",
        "    def parabola(wmin):\n",
        "        return ((w - wmin) ** 2)[0]\n",
        "\n",
        "    def parabola_gradient(wmin):\n",
        "        return 2 * (w - wmin)\n",
        "\n",
        "    w = np.array([0.0])\n",
        "    optimizer = Optimizers(w)\n",
        "\n",
        "    wmin = 5\n",
        "    optimizer.sgd(parabola, parabola_gradient, [wmin],\n",
        "                  n_epochs=500, learning_rate=0.1)\n",
        "\n",
        "    print(f'sgd: Minimum of parabola is at {wmin}. Value found is {w}')\n",
        "\n",
        "    w = np.array([0.0])\n",
        "    optimizer = Optimizers(w)\n",
        "    optimizer.adam(parabola, parabola_gradient, [wmin],\n",
        "                   n_epochs=500, learning_rate=0.1)\n",
        "    \n",
        "    print(f'adam: Minimum of parabola is at {wmin}. Value found is {w}')"
      ],
      "execution_count": null,
      "outputs": [
        {
          "output_type": "stream",
          "text": [
            "Writing optimizers.py\n"
          ],
          "name": "stdout"
        }
      ]
    },
    {
      "cell_type": "code",
      "metadata": {
        "id": "mwByRR1ly-vW"
      },
      "source": [
        "import optimizers\n",
        "import sys  # for sys.float_info.epsilon\n",
        "\n",
        "######################################################################\n",
        "## class NeuralNetwork()\n",
        "######################################################################\n",
        "\n",
        "class NeuralNetwork():\n",
        "\n",
        "\n",
        "    def __init__(self, n_inputs, n_hiddens_per_layer, n_outputs, activation_function='tanh'):\n",
        "        self.n_inputs = n_inputs\n",
        "        self.n_outputs = n_outputs\n",
        "        self.activation_function = activation_function\n",
        "\n",
        "        # Set self.n_hiddens_per_layer to [] if argument is 0, [], or [0]\n",
        "        if n_hiddens_per_layer == 0 or n_hiddens_per_layer == [] or n_hiddens_per_layer == [0]:\n",
        "            self.n_hiddens_per_layer = []\n",
        "        else:\n",
        "            self.n_hiddens_per_layer = n_hiddens_per_layer\n",
        "\n",
        "        # Initialize weights, by first building list of all weight matrix shapes.\n",
        "        n_in = n_inputs\n",
        "        shapes = []\n",
        "        for nh in self.n_hiddens_per_layer:\n",
        "            shapes.append((n_in + 1, nh))\n",
        "            n_in = nh\n",
        "        shapes.append((n_in + 1, n_outputs))\n",
        "\n",
        "        # self.all_weights:  vector of all weights\n",
        "        # self.Ws: list of weight matrices by layer\n",
        "        self.all_weights, self.Ws = self.make_weights_and_views(shapes)\n",
        "\n",
        "        # Define arrays to hold gradient values.\n",
        "        # One array for each W array with same shape.\n",
        "        self.all_gradients, self.dE_dWs = self.make_weights_and_views(shapes)\n",
        "\n",
        "        self.trained = False\n",
        "        self.total_epochs = 0\n",
        "        self.error_trace = []\n",
        "        self.Xmeans = None\n",
        "        self.Xstds = None\n",
        "        self.Tmeans = None\n",
        "        self.Tstds = None\n",
        "\n",
        "\n",
        "    def make_weights_and_views(self, shapes):\n",
        "        # vector of all weights built by horizontally stacking flatenned matrices\n",
        "        # for each layer initialized with uniformly-distributed values.\n",
        "        all_weights = np.hstack([np.random.uniform(size=shape).flat / np.sqrt(shape[0])\n",
        "                                 for shape in shapes])\n",
        "        # Build list of views by reshaping corresponding elements from vector of all weights\n",
        "        # into correct shape for each layer.\n",
        "        views = []\n",
        "        start = 0\n",
        "        for shape in shapes:\n",
        "            size =shape[0] * shape[1]\n",
        "            views.append(all_weights[start:start + size].reshape(shape))\n",
        "            start += size\n",
        "        return all_weights, views\n",
        "\n",
        "\n",
        "    # Return string that shows how the constructor was called\n",
        "    def __repr__(self):\n",
        "        return f'{type(self).__name__}({self.n_inputs}, {self.n_hiddens_per_layer}, {self.n_outputs}, \\'{self.activation_function}\\')'\n",
        "\n",
        "\n",
        "    # Return string that is more informative to the user about the state of this neural network.\n",
        "    def __str__(self):\n",
        "        result = self.__repr__()\n",
        "        if len(self.error_trace) > 0:\n",
        "            return self.__repr__() + f' trained for {len(self.error_trace)} epochs, final training error {self.error_trace[-1]:.4f}'\n",
        "\n",
        "\n",
        "    def train(self, X, T, n_epochs, learning_rate, method='sgd', verbose=True):\n",
        "        '''\n",
        "train: \n",
        "  X: n_samples x n_inputs matrix of input samples, one per row\n",
        "  T: n_samples x n_outputs matrix of target output values, one sample per row\n",
        "  n_epochs: number of passes to take through all samples updating weights each pass\n",
        "  learning_rate: factor controlling the step size of each update\n",
        "  method: is either 'sgd' or 'adam'\n",
        "        '''\n",
        "\n",
        "        # Setup standardization parameters\n",
        "        if self.Xmeans is None:\n",
        "            self.Xmeans = X.mean(axis=0)\n",
        "            self.Xstds = X.std(axis=0)\n",
        "            self.Xstds[self.Xstds == 0] = 1  # So we don't divide by zero when standardizing\n",
        "            self.Tmeans = T.mean(axis=0)\n",
        "            self.Tstds = T.std(axis=0)\n",
        "            \n",
        "        # Standardize X and T\n",
        "        X = (X - self.Xmeans) / self.Xstds\n",
        "        T = (T - self.Tmeans) / self.Tstds\n",
        "\n",
        "        # Instantiate Optimizers object by giving it vector of all weights\n",
        "        optimizer = optimizers.Optimizers(self.all_weights)\n",
        "\n",
        "        # Define function to convert value from error_f into error in original T units, \n",
        "        # but only if the network has a single output. Multiplying by self.Tstds for \n",
        "        # multiple outputs does not correctly unstandardize the error.\n",
        "        if len(self.Tstds) == 1:\n",
        "            error_convert_f = lambda err: (np.sqrt(err) * self.Tstds)[0] # to scalar\n",
        "        else:\n",
        "            error_convert_f = lambda err: np.sqrt(err)[0] # to scalar\n",
        "            \n",
        "\n",
        "        if method == 'sgd':\n",
        "\n",
        "            error_trace = optimizer.sgd(self.error_f, self.gradient_f,\n",
        "                                        fargs=[X, T], n_epochs=n_epochs,\n",
        "                                        learning_rate=learning_rate,\n",
        "                                        verbose=True,\n",
        "                                        error_convert_f=error_convert_f)\n",
        "\n",
        "        elif method == 'adam':\n",
        "\n",
        "            error_trace = optimizer.adam(self.error_f, self.gradient_f,\n",
        "                                         fargs=[X, T], n_epochs=n_epochs,\n",
        "                                         learning_rate=learning_rate,\n",
        "                                         verbose=True,\n",
        "                                         error_convert_f=error_convert_f)\n",
        "\n",
        "        else:\n",
        "            raise Exception(\"method must be 'sgd' or 'adam'\")\n",
        "        \n",
        "        self.error_trace = error_trace\n",
        "\n",
        "        # Return neural network object to allow applying other methods after training.\n",
        "        #  Example:    Y = nnet.train(X, T, 100, 0.01).use(X)\n",
        "        return self\n",
        "\n",
        "    def relu(self, s):\n",
        "        s[s < 0] = 0\n",
        "        return s\n",
        "\n",
        "    def grad_relu(self, s):\n",
        "        return (s > 0).astype(int)\n",
        "    \n",
        "    def forward_pass(self, X):\n",
        "        '''X assumed already standardized. Output returned as standardized.'''\n",
        "        self.Ys = [X]\n",
        "        for W in self.Ws[:-1]:\n",
        "            if self.activation_function == 'relu':\n",
        "                self.Ys.append(self.relu(self.Ys[-1] @ W[1:, :] + W[0:1, :]))\n",
        "            else:\n",
        "                self.Ys.append(np.tanh(self.Ys[-1] @ W[1:, :] + W[0:1, :]))\n",
        "        last_W = self.Ws[-1]\n",
        "        self.Ys.append(self.Ys[-1] @ last_W[1:, :] + last_W[0:1, :])\n",
        "        return self.Ys\n",
        "\n",
        "    # Function to be minimized by optimizer method, mean squared error\n",
        "    def error_f(self, X, T):\n",
        "        Ys = self.forward_pass(X)\n",
        "        mean_sq_error = np.mean((T - Ys[-1]) ** 2)\n",
        "        return mean_sq_error\n",
        "\n",
        "    # Gradient of function to be minimized for use by optimizer method\n",
        "    def gradient_f(self, X, T):\n",
        "        '''Assumes forward_pass just called with layer outputs in self.Ys.'''\n",
        "        error = T - self.Ys[-1]\n",
        "        n_samples = X.shape[0]\n",
        "        n_outputs = T.shape[1]\n",
        "        delta = - error / (n_samples * n_outputs)\n",
        "        n_layers = len(self.n_hiddens_per_layer) + 1\n",
        "        # Step backwards through the layers to back-propagate the error (delta)\n",
        "        for layeri in range(n_layers - 1, -1, -1):\n",
        "            # gradient of all but bias weights\n",
        "            self.dE_dWs[layeri][1:, :] = self.Ys[layeri].T @ delta\n",
        "            # gradient of just the bias weights\n",
        "            self.dE_dWs[layeri][0:1, :] = np.sum(delta, 0)\n",
        "            # Back-propagate this layer's delta to previous layer\n",
        "            if self.activation_function == 'relu':\n",
        "                delta = delta @ self.Ws[layeri][1:, :].T * self.grad_relu(self.Ys[layeri])\n",
        "            else:\n",
        "                delta = delta @ self.Ws[layeri][1:, :].T * (1 - self.Ys[layeri] ** 2)\n",
        "        return self.all_gradients\n",
        "\n",
        "    def use(self, X):\n",
        "        '''X assumed to not be standardized'''\n",
        "        # Standardize X\n",
        "        X = (X - self.Xmeans) / self.Xstds\n",
        "        Ys = self.forward_pass(X)\n",
        "        Y = Ys[-1]\n",
        "        # Unstandardize output Y before returning it\n",
        "        return Y * self.Tstds + self.Tmeans"
      ],
      "execution_count": null,
      "outputs": []
    },
    {
      "cell_type": "code",
      "metadata": {
        "id": "3GWN5pW9y73t"
      },
      "source": [
        "class NeuralNetworkClassifier(NeuralNetwork):\n",
        "\n",
        "  def makeIndicatorVars(self, T):\n",
        "      # Make sure T is two-dimensional. Should be nSamples x 1.\n",
        "      if T.ndim == 1:\n",
        "          T = T.reshape((-1, 1))\n",
        "      retT = (T == np.unique(T)).astype(int)\n",
        "      return retT\n",
        "      \n",
        "  def softmax (self, X):\n",
        "      fs = np.exp(X)  # N x K\n",
        "      denom = np.sum(fs, axis=1).reshape((-1, 1))\n",
        "      gs = fs / (denom + sys.float_info.epsilon)\n",
        "      return gs\n",
        "\n",
        "  def train(self, X, T, n_epochs, learning_rate, method='sgd', verbose=True):\n",
        "        '''\n",
        "train: \n",
        "  X: n_samples x n_inputs matrix of input samples, one per row\n",
        "  T: n_samples x n_outputs matrix of target output values, one sample per row\n",
        "  n_epochs: number of passes to take through all samples updating weights each pass\n",
        "  learning_rate: factor controlling the step size of each update\n",
        "  method: is either 'sgd' or 'adam'\n",
        "        '''\n",
        "\n",
        "        # Setup standardization parameters\n",
        "        if self.Xmeans is None:\n",
        "            self.Xmeans = X.mean(axis=0)\n",
        "            self.Xstds = X.std(axis=0)\n",
        "            self.Xstds[self.Xstds == 0] = 1  # So we don't divide by zero when standardizing\n",
        "            self.Tmeans = T.mean(axis=0)\n",
        "            self.Tstds = T.std(axis=0)\n",
        "            \n",
        "        # Standardize X and T\n",
        "        X = (X - self.Xmeans) / self.Xstds\n",
        "        self.TtrainI = self.makeIndicatorVars(T)\n",
        "        self.uniqueT=np.unique(T)\n",
        "        # Instantiate Optimizers object by giving it vector of all weights\n",
        "        optimizer = optimizers.Optimizers(self.all_weights)\n",
        "\n",
        "        # Define function to convert value from error_f into error in original T units, \n",
        "        # but only if the network has a single output. Multiplying by self.Tstds for \n",
        "        # multiple outputs does not correctly unstandardize the error.\n",
        "        error_convert_f = lambda nll: (np.exp(-nll))\n",
        "\n",
        "        if method == 'sgd':\n",
        "\n",
        "            error_trace = optimizer.sgd(self.error_f, self.gradient_f,\n",
        "                                        fargs=[X, self.TtrainI], n_epochs=n_epochs,\n",
        "                                        learning_rate=learning_rate,\n",
        "                                        verbose=True,\n",
        "                                        error_convert_f=error_convert_f)\n",
        "\n",
        "        elif method == 'adam':\n",
        "\n",
        "            error_trace = optimizer.adam(self.error_f, self.gradient_f,\n",
        "                                         fargs=[X, self.TtrainI], n_epochs=n_epochs,\n",
        "                                         learning_rate=learning_rate,\n",
        "                                         verbose=True,\n",
        "                                         error_convert_f=error_convert_f)\n",
        "\n",
        "        else:\n",
        "            raise Exception(\"method must be 'sgd' or 'adam'\")\n",
        "        \n",
        "        self.error_trace = error_trace\n",
        "\n",
        "        # Return neural network object to allow applying other methods after training.\n",
        "        #  Example:    Y = nnet.train(X, T, 100, 0.01).use(X)\n",
        "        return self\n",
        "\n",
        "    # Function to be minimized by optimizer method, mean squared error  \n",
        "  def error_f(self, X, T):\n",
        "      temp = self.forward_pass(X)\n",
        "      Y = self.softmax(temp[-1])\n",
        "      #mean_sq_error = np.mean((T - Ys[-1]) ** 2)\n",
        "      return - np.mean((T * np.log(Y)))\n",
        "\n",
        "\n",
        "  # Gradient of function to be minimized for use by optimizer method \n",
        "  # Look at Lecture 10\n",
        "  def gradient_f(self, X, T):\n",
        "      Y = self.softmax(self.Ys[-1])\n",
        "      delta = (Y - T) / (T.shape[0] * T.shape[1])\n",
        "      n_layers = len(self.n_hiddens_per_layer) + 1\n",
        "      for layeri in range(n_layers - 1, -1, -1):\n",
        "            # gradient of all but bias weights\n",
        "            self.dE_dWs[layeri][1:, :] = self.Ys[layeri].T @ delta\n",
        "            # gradient of just the bias weights\n",
        "            self.dE_dWs[layeri][0:1, :] = np.sum(delta, 0)\n",
        "            # Back-propagate this layer's delta to previous layer\n",
        "            if self.activation_function == 'relu':\n",
        "                delta = delta @ self.Ws[layeri][1:, :].T * self.grad_relu(self.Ys[layeri])\n",
        "            else:\n",
        "                delta = delta @ self.Ws[layeri][1:, :].T * (1 - self.Ys[layeri] ** 2)\n",
        "      return self.all_gradients\n",
        "\n",
        "  def use(self, X):\n",
        "      Xtest = ((X - self.Xmeans)/self.Xstds)\n",
        "      #Xtest1 = np.hstack(( np.ones((Xtest.shape[0],1)), Xtest))\n",
        "      temp = self.forward_pass(Xtest)\n",
        "      logregOutput = self.softmax(temp[-1])\n",
        "      predictedTrain = np.argmax(logregOutput,axis=1)\n",
        "      result = np.array(list(map(lambda x: [self.uniqueT[x].astype(int)] , predictedTrain)))\n",
        "      return result , logregOutput"
      ],
      "execution_count": null,
      "outputs": []
    },
    {
      "cell_type": "code",
      "metadata": {
        "id": "m-c1pXsNy73y"
      },
      "source": [
        "class NeuralNetworkClassifierCNN(NeuralNetworkClassifier):\n",
        "      def __init__(self, n_inputs, n_hiddens_per_layer, n_outputs, patch_size, stride, activation_function='tanh'):\n",
        "        self.n_inputs = n_inputs\n",
        "        self.n_outputs = n_outputs\n",
        "        self.activation_function = activation_function\n",
        "        self.stride = stride\n",
        "        self.patch_size = patch_size \n",
        "\n",
        "        # Set self.n_hiddens_per_layer to [] if argument is 0, [], or [0]\n",
        "        if n_hiddens_per_layer == 0 or n_hiddens_per_layer == [] or n_hiddens_per_layer == [0]:\n",
        "            self.n_hiddens_per_layer = []\n",
        "        else:\n",
        "            self.n_hiddens_per_layer = n_hiddens_per_layer\n",
        "\n",
        "        # Initialize weights, by first building list of all weight matrix shapes.\n",
        "        n_in = n_inputs\n",
        "        shapes = []\n",
        "        # First build shape of weight matrix for convolutional layer.  Only one allowed.\n",
        "        shapes = [(self.patch_size * self.patch_size + 1, n_hiddens_per_layer[0])]\n",
        "        input_size = int(np.sqrt(n_inputs))\n",
        "        n_in = ((input_size - self.patch_size) // self.stride + 1) ** 2 * self.n_hiddens_per_layer[0]\n",
        "        for nh in self.n_hiddens_per_layer[1:]:\n",
        "            shapes.append((n_in + 1, nh))\n",
        "            n_in = nh\n",
        "        shapes.append((n_in + 1, self.n_outputs))\n",
        "\n",
        "        # self.all_weights:  vector of all weights\n",
        "        # self.Ws: list of weight matrices by layer\n",
        "        self.all_weights, self.Ws = self.make_weights_and_views(shapes)\n",
        "\n",
        "        # Define arrays to hold gradient values.\n",
        "        # One array for each W array with same shape.\n",
        "        self.all_gradients, self.dE_dWs = self.make_weights_and_views(shapes)\n",
        "\n",
        "        self.trained = False\n",
        "        self.total_epochs = 0\n",
        "        self.error_trace = []\n",
        "        self.Xmeans = None\n",
        "        self.Xstds = None\n",
        "        self.Tmeans = None\n",
        "        self.Tstds = None\n",
        "\n",
        "      def _make_patches(self, X, patch_size, stride=1):\n",
        "        '''X: n_samples x n_pixels  (flattened square images)'''\n",
        "        X = np.ascontiguousarray(X)  # make sure X values are contiguous in memory\n",
        "        n_samples = X.shape[0]\n",
        "        image_size = int(np.sqrt(X.shape[1]))\n",
        "        n_patches = (image_size - patch_size ) // stride + 1\n",
        "        nb = X.itemsize  # number of bytes each value\n",
        "        new_shape = [n_samples, n_patches, n_patches, patch_size, patch_size]\n",
        "        new_strides = [image_size * image_size * nb,\n",
        "                        image_size * stride * nb,\n",
        "                        stride * nb,\n",
        "                        image_size * nb,\n",
        "                        nb]\n",
        "        X = np.lib.stride_tricks.as_strided(X, shape=new_shape, strides=new_strides)\n",
        "        X = X.reshape(n_samples, n_patches * n_patches, patch_size * patch_size)\n",
        "        return X\n",
        "\n",
        "      def train(self, X, T, n_epochs, learning_rate, method='sgd', verbose=True):\n",
        "          '''\n",
        "          train: \n",
        "          X: n_samples x n_inputs matrix of input samples, one per row\n",
        "          T: n_samples x n_outputs matrix of target output values, one sample per row\n",
        "          n_epochs: number of passes to take through all samples updating weights each pass\n",
        "          learning_rate: factor controlling the step size of each update\n",
        "          method: is either 'sgd' or 'adam'\n",
        "          '''\n",
        "\n",
        "          # Setup standardization parameters\n",
        "          if self.Xmeans is None:\n",
        "              self.Xmeans = X.mean(axis=0)\n",
        "              self.Xstds = X.std(axis=0)\n",
        "              self.Xstds[self.Xstds == 0] = 1  # So we don't divide by zero when standardizing\n",
        "              self.Tmeans = T.mean(axis=0)\n",
        "              self.Tstds = T.std(axis=0)\n",
        "              \n",
        "          # Standardize X and T\n",
        "          X = (X - self.Xmeans) / self.Xstds\n",
        "          self.TtrainI = self.makeIndicatorVars(T)\n",
        "          self.uniqueT=np.unique(T)\n",
        "          # Instantiate Optimizers object by giving it vector of all weights\n",
        "          optimizer = optimizers.Optimizers(self.all_weights)\n",
        "\n",
        "          # Define function to convert value from error_f into error in original T units, \n",
        "          # but only if the network has a single output. Multiplying by self.Tstds for \n",
        "          # multiple outputs does not correctly unstandardize the error.\n",
        "          error_convert_f = lambda nll: (np.exp(-nll))\n",
        "\n",
        "          X_patches = self._make_patches(X, self.patch_size, self.stride)\n",
        "\n",
        "          if method == 'sgd':\n",
        "\n",
        "              error_trace = optimizer.sgd(self.error_f, self.gradient_f,\n",
        "                                          fargs=[X_patches, self.TtrainI], n_epochs=n_epochs,\n",
        "                                          learning_rate=learning_rate,\n",
        "                                          verbose=True,\n",
        "                                          error_convert_f=error_convert_f)\n",
        "\n",
        "          elif method == 'adam':\n",
        "\n",
        "              error_trace = optimizer.adam(self.error_f, self.gradient_f,\n",
        "                                          fargs=[X_patches, self.TtrainI], n_epochs=n_epochs,\n",
        "                                          learning_rate=learning_rate,\n",
        "                                          verbose=True,\n",
        "                                          error_convert_f=error_convert_f)\n",
        "\n",
        "          else:\n",
        "              raise Exception(\"method must be 'sgd' or 'adam'\")\n",
        "          \n",
        "          self.error_trace = error_trace\n",
        "\n",
        "          # Return neural network object to allow applying other methods after training.\n",
        "          #  Example:    Y = nnet.train(X, T, 100, 0.01).use(X)\n",
        "          return self\n",
        "\n",
        "      def forward_pass(self, X_patches):\n",
        "        '''X assumed already standardized. Output returned as standardized.'''\n",
        "        self.Ys = [X_patches]\n",
        "        for layer_i, W in enumerate(self.Ws[:-1]):\n",
        "            if self.activation_function == 'relu':\n",
        "                self.Ys.append(self.relu(self.Ys[-1] @ W[1:, :] + W[0:1, :]))\n",
        "            else:\n",
        "                self.Ys.append(np.tanh(self.Ys[-1] @ W[1:, :] + W[0:1, :]))\n",
        "            # If convolutional layer, flatten each sample into vector for input to following f\n",
        "            # fully-connected layer.\n",
        "            if layer_i == 0:\n",
        "                self.Ys[-1] = self.Ys[-1].reshape(self.Ys[-1].shape[0], -1)\n",
        "        last_W = self.Ws[-1]\n",
        "        self.Ys.append(self.Ys[-1] @ last_W[1:, :] + last_W[0:1, :])\n",
        "        return self.Ys\n",
        "\n",
        "      def gradient_f(self, X_patches, T):\n",
        "        Y = self.softmax(self.Ys[-1])\n",
        "        delta = (Y - T) / (T.shape[0] * T.shape[1])\n",
        "        n_layers = len(self.n_hiddens_per_layer) + 1\n",
        "        for layeri in range(n_layers - 1, -1, -1):\n",
        "              if layeri == 0:\n",
        "                  # Convolutional layer\n",
        "                  # delta, backpropagated from a fully-connected layer, has multiple values for each\n",
        "                  # convolutional unit, for each application of it to each patch.  We must sum the dE_dWs\n",
        "                  # for all of those delta values by multiplying each delta value for each convolutional\n",
        "                  # unit by the patch values used to produce the output by the input values for the \n",
        "                  # corresponding patch. \n",
        "                  # Do this by first reshaping the backed-up delta matrix to the right form.\n",
        "                  patch_n_values = X_patches.shape[-1]\n",
        "                  n_conv_units = self.n_hiddens_per_layer[0]\n",
        "                  delta_reshaped = delta.reshape(-1, n_conv_units)\n",
        "                  # And we must reshape the convolutional layer input matrix to a compatible shape.\n",
        "                  conv_layer_inputs_reshaped = self.Ys[0].reshape(-1, patch_n_values)\n",
        "                  # Now we can calculate the dE_dWs for the convolutional layer with a simple matrix\n",
        "                  # multiplication.\n",
        "                  self.dE_dWs[layeri][1:, :] = conv_layer_inputs_reshaped.T @ delta_reshaped\n",
        "                  self.dE_dWs[layeri][0:1, :] = np.sum(delta_reshaped, axis=0)\n",
        "              else:\n",
        "                  # Fully-connected layers\n",
        "                  # gradient of all but bias weights\n",
        "                  self.dE_dWs[layeri][1:, :] = self.Ys[layeri].T @ delta\n",
        "                  # gradient of just the bias weights\n",
        "                  self.dE_dWs[layeri][0:1, :] = np.sum(delta, 0)\n",
        "                  # Back-propagate this layer's delta to previous layer\n",
        "                  if self.activation_function == 'relu':\n",
        "                      delta = delta @ self.Ws[layeri][1:, :].T * self.grad_relu(self.Ys[layeri])\n",
        "                  else:\n",
        "                      delta = delta @ self.Ws[layeri][1:, :].T * (1 - self.Ys[layeri] ** 2)\n",
        "        return self.all_gradients\n",
        "\n",
        "      def use(self, X):\n",
        "        '''X assumed to not be standardized. Returns (classes, class_probabilities)'''\n",
        "        # Standardize X\n",
        "        X = (X - self.Xmeans) / self.Xstds\n",
        "        # Convert flattened samples into patches\n",
        "        X_patches = self._make_patches(X, self.patch_size, self.stride)\n",
        "        Ys = self.forward_pass(X_patches)\n",
        "        Y = self.softmax(Ys[-1])\n",
        "        classes = np.array(list(map(lambda x: [self.uniqueT[x.astype(int)].astype(int)] , Y)))\n",
        "        return classes, Y\n"
      ],
      "execution_count": null,
      "outputs": []
    },
    {
      "cell_type": "code",
      "metadata": {
        "id": "Aqy3v2TM0uXI",
        "colab": {
          "base_uri": "https://localhost:8080/"
        },
        "outputId": "23f3d611-ff53-4506-afa0-4da57c0343b1"
      },
      "source": [
        "!curl -O http://deeplearning.net/data/mnist/mnist.pkl.gz"
      ],
      "execution_count": null,
      "outputs": [
        {
          "output_type": "stream",
          "text": [
            "  % Total    % Received % Xferd  Average Speed   Time    Time     Time  Current\n",
            "                                 Dload  Upload   Total   Spent    Left  Speed\n",
            "  0     0    0     0    0     0      0      0 --:--:--  0:00:26 --:--:--     0^C\n"
          ],
          "name": "stdout"
        }
      ]
    },
    {
      "cell_type": "code",
      "metadata": {
        "id": "f7m-xde_y731",
        "colab": {
          "base_uri": "https://localhost:8080/"
        },
        "outputId": "4e524fb5-b041-4ac9-d8f6-619fc01184ca"
      },
      "source": [
        "import pickle\n",
        "import gzip\n",
        "\n",
        "with gzip.open('mnist.pkl.gz', 'rb') as f:\n",
        "    train_set, valid_set, test_set = pickle.load(f, encoding='latin1')\n",
        "    \n",
        "def unpickle(file):\n",
        "    import pickle\n",
        "    with open(file, 'rb') as fo:\n",
        "        dict = pickle.load(fo, encoding='bytes')\n",
        "    return dict\n",
        "\n",
        "Xtrain = train_set[0]\n",
        "Ttrain = train_set[1].reshape(-1, 1)\n",
        "\n",
        "Xval = valid_set[0]\n",
        "Tval = valid_set[1].reshape(-1, 1)\n",
        "\n",
        "Xtest = test_set[0]\n",
        "Ttest = test_set[1].reshape(-1, 1)\n",
        "\n",
        "print(Xtrain.shape, Ttrain.shape,  Xval.shape, Tval.shape,  Xtest.shape, Ttest.shape)"
      ],
      "execution_count": null,
      "outputs": [
        {
          "output_type": "stream",
          "text": [
            "(50000, 784) (50000, 1) (10000, 784) (10000, 1) (10000, 784) (10000, 1)\n"
          ],
          "name": "stdout"
        }
      ]
    },
    {
      "cell_type": "code",
      "metadata": {
        "id": "EwLDpS9xy736",
        "colab": {
          "base_uri": "https://localhost:8080/"
        },
        "outputId": "c8e4568f-3d5d-4b75-fc08-68b31a078f35"
      },
      "source": [
        "import time \n",
        "\n",
        "n_epochs = 100\n",
        "learning_rate = 0.01\n",
        "\n",
        "np.random.seed(142)\n",
        "start_time = time.time()\n",
        "\n",
        "nnet = NeuralNetworkClassifierCNN(Xtrain.shape[1], [2], len(np.unique(Ttrain)),\n",
        "                                       patch_size=5, stride=2)\n",
        "nnet.train(Xtrain, Ttrain, n_epochs, learning_rate, method='adam', verbose=True)\n",
        "\n",
        "print(f'took {time.time() - start_time} seconds')"
      ],
      "execution_count": null,
      "outputs": [
        {
          "output_type": "stream",
          "text": [
            "Adam: Epoch 10 Error=0.94528\n",
            "Adam: Epoch 20 Error=0.95903\n",
            "Adam: Epoch 30 Error=0.96421\n",
            "Adam: Epoch 40 Error=0.96684\n",
            "Adam: Epoch 50 Error=0.96858\n",
            "Adam: Epoch 60 Error=0.96982\n",
            "Adam: Epoch 70 Error=0.97083\n",
            "Adam: Epoch 80 Error=0.97174\n",
            "Adam: Epoch 90 Error=0.97258\n",
            "Adam: Epoch 100 Error=0.97335\n",
            "took 342.44557547569275 seconds\n"
          ],
          "name": "stdout"
        }
      ]
    },
    {
      "cell_type": "code",
      "metadata": {
        "id": "YxKKp2yZy73-",
        "colab": {
          "base_uri": "https://localhost:8080/"
        },
        "outputId": "43055074-820c-4239-cef5-b78e76e277b4"
      },
      "source": [
        "print(nnet)  # uses the __str__ method"
      ],
      "execution_count": null,
      "outputs": [
        {
          "output_type": "stream",
          "text": [
            "NeuralNetworkClassifierCNN(784, [2], 10, 'tanh') trained for 100 epochs, final training error 0.9734\n"
          ],
          "name": "stdout"
        }
      ]
    },
    {
      "cell_type": "code",
      "metadata": {
        "id": "RUkfMo-Hy74C",
        "colab": {
          "base_uri": "https://localhost:8080/",
          "height": 265
        },
        "outputId": "63510e5e-d889-48eb-9a14-4c845f3836dc"
      },
      "source": [
        "plt.plot(nnet.error_trace);"
      ],
      "execution_count": null,
      "outputs": [
        {
          "output_type": "display_data",
          "data": {
            "image/png": "[encoded data removed]",
            "text/plain": [
              "<Figure size 432x288 with 1 Axes>"
            ]
          },
          "metadata": {
            "tags": [],
            "needs_background": "light"
          }
        }
      ]
    },
    {
      "cell_type": "code",
      "metadata": {
        "id": "nGX5O6nry74G"
      },
      "source": [
        "classes_test, probs_test = nnet.use(Xtest)"
      ],
      "execution_count": null,
      "outputs": []
    },
    {
      "cell_type": "code",
      "metadata": {
        "id": "cM9oPbbly74K",
        "colab": {
          "base_uri": "https://localhost:8080/",
          "height": 163
        },
        "outputId": "627f1706-49f7-4dcb-9f2f-35b11a39ff09"
      },
      "source": [
        "confusion_matrix(classes_test, Ttest)"
      ],
      "execution_count": null,
      "outputs": [
        {
          "output_type": "error",
          "ename": "NameError",
          "evalue": "ignored",
          "traceback": [
            "\u001b[0;31m---------------------------------------------------------------------------\u001b[0m",
            "\u001b[0;31mNameError\u001b[0m                                 Traceback (most recent call last)",
            "\u001b[0;32m<ipython-input-1-10e00f7f304e>\u001b[0m in \u001b[0;36m<module>\u001b[0;34m()\u001b[0m\n\u001b[0;32m----> 1\u001b[0;31m \u001b[0mconfusion_matrix\u001b[0m\u001b[0;34m(\u001b[0m\u001b[0mclasses_test\u001b[0m\u001b[0;34m,\u001b[0m \u001b[0mTtest\u001b[0m\u001b[0;34m)\u001b[0m\u001b[0;34m\u001b[0m\u001b[0;34m\u001b[0m\u001b[0m\n\u001b[0m",
            "\u001b[0;31mNameError\u001b[0m: name 'confusion_matrix' is not defined"
          ]
        }
      ]
    },
    {
      "cell_type": "markdown",
      "metadata": {
        "id": "W-_lM40Wy74O"
      },
      "source": [
        "## CIFAR-10\n",
        "Great, now, load a subset of the CIFAR-10 data and train your network again with the hyperparameters that worked best for MNIST. How well do the parameters work for this new dataset? "
      ]
    },
    {
      "cell_type": "markdown",
      "metadata": {
        "id": "gJBxCOExbodl"
      },
      "source": [
        "# **I couldnt finish this part because I couldnt find the full address to curl the data**"
      ]
    },
    {
      "cell_type": "code",
      "metadata": {
        "id": "JEc9CzF_y74O"
      },
      "source": [
        "def unpickle(file):\n",
        "    import pickle\n",
        "    with open(file, 'rb') as fo:\n",
        "        dict = pickle.load(fo, encoding='bytes')\n",
        "    return dict"
      ],
      "execution_count": null,
      "outputs": []
    },
    {
      "cell_type": "code",
      "metadata": {
        "id": "FMTwi0oey74S",
        "colab": {
          "base_uri": "https://localhost:8080/",
          "height": 282
        },
        "outputId": "7168d9fd-fe9e-4ead-99b8-651342aafb4b"
      },
      "source": [
        "data_batch_1 = unpickle('cifar-10-batches-py/data_batch_1')"
      ],
      "execution_count": null,
      "outputs": [
        {
          "output_type": "error",
          "ename": "FileNotFoundError",
          "evalue": "ignored",
          "traceback": [
            "\u001b[0;31m---------------------------------------------------------------------------\u001b[0m",
            "\u001b[0;31mFileNotFoundError\u001b[0m                         Traceback (most recent call last)",
            "\u001b[0;32m<ipython-input-40-f0bbb11905a0>\u001b[0m in \u001b[0;36m<module>\u001b[0;34m()\u001b[0m\n\u001b[0;32m----> 1\u001b[0;31m \u001b[0mdata_batch_1\u001b[0m \u001b[0;34m=\u001b[0m \u001b[0munpickle\u001b[0m\u001b[0;34m(\u001b[0m\u001b[0;34m'cifar-10-batches-py/data_batch_1'\u001b[0m\u001b[0;34m)\u001b[0m\u001b[0;34m\u001b[0m\u001b[0;34m\u001b[0m\u001b[0m\n\u001b[0m",
            "\u001b[0;32m<ipython-input-38-f420c7a33123>\u001b[0m in \u001b[0;36munpickle\u001b[0;34m(file)\u001b[0m\n\u001b[1;32m      1\u001b[0m \u001b[0;32mdef\u001b[0m \u001b[0munpickle\u001b[0m\u001b[0;34m(\u001b[0m\u001b[0mfile\u001b[0m\u001b[0;34m)\u001b[0m\u001b[0;34m:\u001b[0m\u001b[0;34m\u001b[0m\u001b[0;34m\u001b[0m\u001b[0m\n\u001b[1;32m      2\u001b[0m     \u001b[0;32mimport\u001b[0m \u001b[0mpickle\u001b[0m\u001b[0;34m\u001b[0m\u001b[0;34m\u001b[0m\u001b[0m\n\u001b[0;32m----> 3\u001b[0;31m     \u001b[0;32mwith\u001b[0m \u001b[0mopen\u001b[0m\u001b[0;34m(\u001b[0m\u001b[0mfile\u001b[0m\u001b[0;34m,\u001b[0m \u001b[0;34m'rb'\u001b[0m\u001b[0;34m)\u001b[0m \u001b[0;32mas\u001b[0m \u001b[0mfo\u001b[0m\u001b[0;34m:\u001b[0m\u001b[0;34m\u001b[0m\u001b[0;34m\u001b[0m\u001b[0m\n\u001b[0m\u001b[1;32m      4\u001b[0m         \u001b[0mdict\u001b[0m \u001b[0;34m=\u001b[0m \u001b[0mpickle\u001b[0m\u001b[0;34m.\u001b[0m\u001b[0mload\u001b[0m\u001b[0;34m(\u001b[0m\u001b[0mfo\u001b[0m\u001b[0;34m,\u001b[0m \u001b[0mencoding\u001b[0m\u001b[0;34m=\u001b[0m\u001b[0;34m'bytes'\u001b[0m\u001b[0;34m)\u001b[0m\u001b[0;34m\u001b[0m\u001b[0;34m\u001b[0m\u001b[0m\n\u001b[1;32m      5\u001b[0m     \u001b[0;32mreturn\u001b[0m \u001b[0mdict\u001b[0m\u001b[0;34m\u001b[0m\u001b[0;34m\u001b[0m\u001b[0m\n",
            "\u001b[0;31mFileNotFoundError\u001b[0m: [Errno 2] No such file or directory: 'cifar-10-batches-py/data_batch_1'"
          ]
        }
      ]
    },
    {
      "cell_type": "code",
      "metadata": {
        "id": "Nv5i4jj_y74V",
        "outputId": "a0f7f932-a69b-4500-9a15-2ef3eb4f4f8c"
      },
      "source": [
        "data_batch_1.keys()"
      ],
      "execution_count": null,
      "outputs": [
        {
          "output_type": "execute_result",
          "data": {
            "text/plain": [
              "dict_keys([b'batch_label', b'labels', b'data', b'filenames'])"
            ]
          },
          "metadata": {
            "tags": []
          },
          "execution_count": 164
        }
      ]
    },
    {
      "cell_type": "code",
      "metadata": {
        "id": "g_XjH4o0y74Z"
      },
      "source": [
        "Xtrain = data_batch_1[b'data']\n",
        "Ttrain = np.array(data_batch_1[b'labels']).reshape(-1,1)"
      ],
      "execution_count": null,
      "outputs": []
    },
    {
      "cell_type": "code",
      "metadata": {
        "id": "WvHfRu_Qy74b",
        "outputId": "a07eae7a-f9e1-4a12-f6fb-67a2f884bf2b"
      },
      "source": [
        "image0 = Xtrain[0, :]\n",
        "image0 = image0.reshape(3, 32, 32)\n",
        "image0 = np.rollaxis(image0, 0, 3)\n",
        "image0.shape\n",
        "\n",
        "plt.imshow(image0);"
      ],
      "execution_count": null,
      "outputs": [
        {
          "output_type": "display_data",
          "data": {
            "image/png": "[encoded data removed]",
            "text/plain": [
              "<Figure size 432x288 with 1 Axes>"
            ]
          },
          "metadata": {
            "tags": [],
            "needs_background": "light"
          }
        }
      ]
    },
    {
      "cell_type": "code",
      "metadata": {
        "id": "2pVGhangy74f"
      },
      "source": [
        "Xtrain = Xtrain.reshape(-1, 3, 32, 32)\n",
        "Xtrain = np.rollaxis(Xtrain, 1, 4)"
      ],
      "execution_count": null,
      "outputs": []
    },
    {
      "cell_type": "code",
      "metadata": {
        "id": "P--1qCn2y74i"
      },
      "source": [
        ""
      ],
      "execution_count": null,
      "outputs": []
    },
    {
      "cell_type": "code",
      "metadata": {
        "id": "UHs07V5Py74m",
        "outputId": "f12fb81f-eef2-4362-dad7-d6fd9b0d7e5b"
      },
      "source": [
        "Xtrain.shape"
      ],
      "execution_count": null,
      "outputs": [
        {
          "output_type": "execute_result",
          "data": {
            "text/plain": [
              "(10000, 32, 32, 3)"
            ]
          },
          "metadata": {
            "tags": []
          },
          "execution_count": 168
        }
      ]
    },
    {
      "cell_type": "code",
      "metadata": {
        "id": "JykM6Dj6y74p"
      },
      "source": [
        "def grayscale(data, dtype='float32'):\n",
        "    # luma coding weighted average in video systems\n",
        "    r, g, b = np.asarray(.3, dtype=dtype), np.asarray(.59, dtype=dtype), np.asarray(.11, dtype=dtype)\n",
        "    rst = r * data[:, :, :, 0] + g * data[:, :, :, 1] + b * data[:, :, :, 2]\n",
        "    # add channel dimension\n",
        "    rst = np.expand_dims(rst, axis=3)\n",
        "    return rst\n",
        "\n",
        "X_train_gray = grayscale(Xtrain)"
      ],
      "execution_count": null,
      "outputs": []
    },
    {
      "cell_type": "code",
      "metadata": {
        "id": "mJR3EQeey74s",
        "outputId": "96a70692-85f7-43f0-9a0c-142d48bac88f"
      },
      "source": [
        "image0 = X_train_gray[0, :].reshape(32,32)\n",
        "\n",
        "plt.imshow(-image0, cmap='gray');"
      ],
      "execution_count": null,
      "outputs": [
        {
          "output_type": "display_data",
          "data": {
            "image/png": "[encoded data removed]",
            "text/plain": [
              "<Figure size 432x288 with 1 Axes>"
            ]
          },
          "metadata": {
            "tags": [],
            "needs_background": "light"
          }
        }
      ]
    },
    {
      "cell_type": "code",
      "metadata": {
        "id": "_INWSY9ny74v"
      },
      "source": [
        "test_batch = unpickle('cifar-10-batches-py/test_batch')"
      ],
      "execution_count": null,
      "outputs": []
    },
    {
      "cell_type": "code",
      "metadata": {
        "id": "NrNCicpLy74z"
      },
      "source": [
        "Xtest = test_batch[b'data']\n",
        "Ttest = np.array(test_batch[b'labels']).reshape(-1,1)"
      ],
      "execution_count": null,
      "outputs": []
    },
    {
      "cell_type": "code",
      "metadata": {
        "id": "XsJp7wtey742"
      },
      "source": [
        "Xtest = Xtest.reshape(-1, 3, 32, 32)\n",
        "Xtest = np.rollaxis(Xtest, 1, 4)\n",
        "X_test_gray = grayscale(Xtest)"
      ],
      "execution_count": null,
      "outputs": []
    },
    {
      "cell_type": "code",
      "metadata": {
        "id": "1RUZwaeuy745",
        "outputId": "7613e82b-821b-4e98-c93a-27834426d264"
      },
      "source": [
        "X_train_gray.shape, Ttrain.shape, X_test_gray.shape, Ttrain.shape"
      ],
      "execution_count": null,
      "outputs": [
        {
          "output_type": "execute_result",
          "data": {
            "text/plain": [
              "((10000, 32, 32, 1), (10000, 1), (10000, 32, 32, 1), (10000, 1))"
            ]
          },
          "metadata": {
            "tags": []
          },
          "execution_count": 174
        }
      ]
    },
    {
      "cell_type": "code",
      "metadata": {
        "id": "QCUJf_8Vy748"
      },
      "source": [
        "X_train_gray= X_train_gray.reshape(-1,32 * 32)\n",
        "X_test_gray = X_test_gray.reshape(-1,32 * 32)"
      ],
      "execution_count": null,
      "outputs": []
    },
    {
      "cell_type": "code",
      "metadata": {
        "id": "QXtnr_S7y74_",
        "outputId": "8e6a2baa-c359-4273-8b79-d7d7ecb08752"
      },
      "source": [
        "X_train_gray.shape, Ttrain.shape, X_test_gray.shape, Ttrain.shape"
      ],
      "execution_count": null,
      "outputs": [
        {
          "output_type": "execute_result",
          "data": {
            "text/plain": [
              "((10000, 1024), (10000, 1), (10000, 1024), (10000, 1))"
            ]
          },
          "metadata": {
            "tags": []
          },
          "execution_count": 176
        }
      ]
    },
    {
      "cell_type": "code",
      "metadata": {
        "id": "JCIwSIzvy75C",
        "outputId": "790046c5-b721-4841-c5a5-b7901dfa0272"
      },
      "source": [
        "X_train_gray.shape[1]"
      ],
      "execution_count": null,
      "outputs": [
        {
          "output_type": "execute_result",
          "data": {
            "text/plain": [
              "1024"
            ]
          },
          "metadata": {
            "tags": []
          },
          "execution_count": 179
        }
      ]
    },
    {
      "cell_type": "code",
      "metadata": {
        "id": "CWmhFI8Fy75G",
        "outputId": "3e62ed12-fdf5-49be-bdda-8574e97083b5"
      },
      "source": [
        "len(np.unique(Ttrain))"
      ],
      "execution_count": null,
      "outputs": [
        {
          "output_type": "execute_result",
          "data": {
            "text/plain": [
              "10"
            ]
          },
          "metadata": {
            "tags": []
          },
          "execution_count": 183
        }
      ]
    },
    {
      "cell_type": "code",
      "metadata": {
        "id": "qz5zYUdCy75J",
        "outputId": "a0d5506b-91e8-4dbb-a95e-f73c0bd5c191"
      },
      "source": [
        "nnet = NeuralNetworkClassifierCNN(X_train_gray.shape[1], [20, 20], len(np.unique(Ttrain)),\n",
        "                                       patch_size=2, stride=2)\n",
        "nnet.train(X_train_gray, Ttrain, n_epochs, learning_rate, method='adam', verbose=True)"
      ],
      "execution_count": null,
      "outputs": [
        {
          "output_type": "stream",
          "text": [
            "Adam: Epoch 10 Error=0.81352\n",
            "Adam: Epoch 20 Error=0.82172\n",
            "Adam: Epoch 30 Error=0.82694\n",
            "Adam: Epoch 40 Error=0.83118\n",
            "Adam: Epoch 50 Error=0.83459\n",
            "Adam: Epoch 60 Error=0.83709\n",
            "Adam: Epoch 70 Error=0.83975\n",
            "Adam: Epoch 80 Error=0.84173\n",
            "Adam: Epoch 90 Error=0.84433\n",
            "Adam: Epoch 100 Error=0.84626\n"
          ],
          "name": "stdout"
        },
        {
          "output_type": "execute_result",
          "data": {
            "text/plain": [
              "NeuralNetworkClassifierCNN(1024, [20, 20], 10, 2, 2, 'tanh')"
            ]
          },
          "metadata": {
            "tags": []
          },
          "execution_count": 186
        }
      ]
    },
    {
      "cell_type": "code",
      "metadata": {
        "id": "vQ4tzvHqy75N",
        "outputId": "a5ea1e9e-3325-48f3-fc9f-5f58e8a5d86f"
      },
      "source": [
        "X_train_gray.shape, Ttrain.shape, X_test_gray.shape, Ttrain.shape"
      ],
      "execution_count": null,
      "outputs": [
        {
          "output_type": "execute_result",
          "data": {
            "text/plain": [
              "((10000, 1024), (10000, 1), (10000, 1024), (10000, 1))"
            ]
          },
          "metadata": {
            "tags": []
          },
          "execution_count": 187
        }
      ]
    },
    {
      "cell_type": "code",
      "metadata": {
        "id": "xqlBdwUGy75P"
      },
      "source": [
        "cifar_predictions, cifar_probs = nnet.use(X_test_gray)"
      ],
      "execution_count": null,
      "outputs": []
    },
    {
      "cell_type": "code",
      "metadata": {
        "id": "KbckzE5py75S",
        "outputId": "4319f5f4-b7c2-4be6-e0a3-70ad7a90141d"
      },
      "source": [
        "confusion_matrix(cifar_predictions, Ttest)"
      ],
      "execution_count": null,
      "outputs": [
        {
          "output_type": "execute_result",
          "data": {
            "text/html": [
              "<div>\n",
              "<style scoped>\n",
              "    .dataframe tbody tr th:only-of-type {\n",
              "        vertical-align: middle;\n",
              "    }\n",
              "\n",
              "    .dataframe tbody tr th {\n",
              "        vertical-align: top;\n",
              "    }\n",
              "\n",
              "    .dataframe thead th {\n",
              "        text-align: right;\n",
              "    }\n",
              "</style>\n",
              "<table border=\"1\" class=\"dataframe\">\n",
              "  <thead>\n",
              "    <tr style=\"text-align: right;\">\n",
              "      <th></th>\n",
              "      <th>0</th>\n",
              "      <th>1</th>\n",
              "      <th>2</th>\n",
              "      <th>3</th>\n",
              "      <th>4</th>\n",
              "      <th>5</th>\n",
              "      <th>6</th>\n",
              "      <th>7</th>\n",
              "      <th>8</th>\n",
              "      <th>9</th>\n",
              "    </tr>\n",
              "  </thead>\n",
              "  <tbody>\n",
              "    <tr>\n",
              "      <th>0</th>\n",
              "      <td>25.8</td>\n",
              "      <td>3.4</td>\n",
              "      <td>14.8</td>\n",
              "      <td>3.7</td>\n",
              "      <td>10.4</td>\n",
              "      <td>6.6</td>\n",
              "      <td>7.1</td>\n",
              "      <td>7.0</td>\n",
              "      <td>15.6</td>\n",
              "      <td>5.6</td>\n",
              "    </tr>\n",
              "    <tr>\n",
              "      <th>1</th>\n",
              "      <td>2.8</td>\n",
              "      <td>30.2</td>\n",
              "      <td>4.6</td>\n",
              "      <td>6.1</td>\n",
              "      <td>4.1</td>\n",
              "      <td>2.5</td>\n",
              "      <td>9.5</td>\n",
              "      <td>5.0</td>\n",
              "      <td>11.9</td>\n",
              "      <td>23.3</td>\n",
              "    </tr>\n",
              "    <tr>\n",
              "      <th>2</th>\n",
              "      <td>10.0</td>\n",
              "      <td>3.2</td>\n",
              "      <td>26.9</td>\n",
              "      <td>6.7</td>\n",
              "      <td>15.9</td>\n",
              "      <td>7.8</td>\n",
              "      <td>14.4</td>\n",
              "      <td>7.7</td>\n",
              "      <td>4.8</td>\n",
              "      <td>2.6</td>\n",
              "    </tr>\n",
              "    <tr>\n",
              "      <th>3</th>\n",
              "      <td>7.2</td>\n",
              "      <td>3.5</td>\n",
              "      <td>11.5</td>\n",
              "      <td>14.1</td>\n",
              "      <td>12.2</td>\n",
              "      <td>15.9</td>\n",
              "      <td>13.0</td>\n",
              "      <td>9.7</td>\n",
              "      <td>6.5</td>\n",
              "      <td>6.4</td>\n",
              "    </tr>\n",
              "    <tr>\n",
              "      <th>4</th>\n",
              "      <td>6.7</td>\n",
              "      <td>3.0</td>\n",
              "      <td>19.6</td>\n",
              "      <td>7.3</td>\n",
              "      <td>27.5</td>\n",
              "      <td>6.6</td>\n",
              "      <td>12.2</td>\n",
              "      <td>8.9</td>\n",
              "      <td>5.4</td>\n",
              "      <td>2.8</td>\n",
              "    </tr>\n",
              "    <tr>\n",
              "      <th>5</th>\n",
              "      <td>6.0</td>\n",
              "      <td>2.1</td>\n",
              "      <td>11.2</td>\n",
              "      <td>12.9</td>\n",
              "      <td>11.5</td>\n",
              "      <td>24.2</td>\n",
              "      <td>11.2</td>\n",
              "      <td>8.4</td>\n",
              "      <td>9.0</td>\n",
              "      <td>3.5</td>\n",
              "    </tr>\n",
              "    <tr>\n",
              "      <th>6</th>\n",
              "      <td>4.8</td>\n",
              "      <td>7.7</td>\n",
              "      <td>10.1</td>\n",
              "      <td>9.5</td>\n",
              "      <td>11.0</td>\n",
              "      <td>9.7</td>\n",
              "      <td>31.7</td>\n",
              "      <td>5.1</td>\n",
              "      <td>4.9</td>\n",
              "      <td>5.5</td>\n",
              "    </tr>\n",
              "    <tr>\n",
              "      <th>7</th>\n",
              "      <td>6.7</td>\n",
              "      <td>4.8</td>\n",
              "      <td>11.6</td>\n",
              "      <td>9.3</td>\n",
              "      <td>13.4</td>\n",
              "      <td>6.2</td>\n",
              "      <td>7.6</td>\n",
              "      <td>27.2</td>\n",
              "      <td>7.3</td>\n",
              "      <td>5.9</td>\n",
              "    </tr>\n",
              "    <tr>\n",
              "      <th>8</th>\n",
              "      <td>11.6</td>\n",
              "      <td>8.2</td>\n",
              "      <td>5.0</td>\n",
              "      <td>4.2</td>\n",
              "      <td>4.3</td>\n",
              "      <td>7.6</td>\n",
              "      <td>4.4</td>\n",
              "      <td>6.5</td>\n",
              "      <td>39.1</td>\n",
              "      <td>9.1</td>\n",
              "    </tr>\n",
              "    <tr>\n",
              "      <th>9</th>\n",
              "      <td>4.3</td>\n",
              "      <td>16.1</td>\n",
              "      <td>2.6</td>\n",
              "      <td>4.3</td>\n",
              "      <td>3.3</td>\n",
              "      <td>2.4</td>\n",
              "      <td>6.4</td>\n",
              "      <td>6.9</td>\n",
              "      <td>14.3</td>\n",
              "      <td>39.4</td>\n",
              "    </tr>\n",
              "  </tbody>\n",
              "</table>\n",
              "</div>"
            ],
            "text/plain": [
              "      0     1     2     3     4     5     6     7     8     9\n",
              "0  25.8   3.4  14.8   3.7  10.4   6.6   7.1   7.0  15.6   5.6\n",
              "1   2.8  30.2   4.6   6.1   4.1   2.5   9.5   5.0  11.9  23.3\n",
              "2  10.0   3.2  26.9   6.7  15.9   7.8  14.4   7.7   4.8   2.6\n",
              "3   7.2   3.5  11.5  14.1  12.2  15.9  13.0   9.7   6.5   6.4\n",
              "4   6.7   3.0  19.6   7.3  27.5   6.6  12.2   8.9   5.4   2.8\n",
              "5   6.0   2.1  11.2  12.9  11.5  24.2  11.2   8.4   9.0   3.5\n",
              "6   4.8   7.7  10.1   9.5  11.0   9.7  31.7   5.1   4.9   5.5\n",
              "7   6.7   4.8  11.6   9.3  13.4   6.2   7.6  27.2   7.3   5.9\n",
              "8  11.6   8.2   5.0   4.2   4.3   7.6   4.4   6.5  39.1   9.1\n",
              "9   4.3  16.1   2.6   4.3   3.3   2.4   6.4   6.9  14.3  39.4"
            ]
          },
          "metadata": {
            "tags": []
          },
          "execution_count": 189
        }
      ]
    },
    {
      "cell_type": "markdown",
      "metadata": {
        "id": "zSwfMQfEy75W"
      },
      "source": [
        "## Grading and Check-In\n",
        "\n",
        "When ready, submit your notebook via the A4 link in our class Canvas web page. Your notebook must be named as Lastname-A4.ipynb.  "
      ]
    },
    {
      "cell_type": "markdown",
      "metadata": {
        "id": "cvcYP5NBy75X"
      },
      "source": [
        "## Extra Credit\n",
        "Earn 10 extra credit point on this assignment by doing the following.\n",
        "\n",
        "1. Add the additional CIFAR-10 data into your training. Do things improve? Worsen? (5 points)\n",
        "2. Train an equivalent CNN using pytorch, utilizing the GPU. Compare your accuracy and the speedup. (5 points) "
      ]
    },
    {
      "cell_type": "code",
      "metadata": {
        "id": "4GscbnRTy75X"
      },
      "source": [
        ""
      ],
      "execution_count": null,
      "outputs": []
    },
    {
      "cell_type": "code",
      "metadata": {
        "id": "A3M1A9xRy75a"
      },
      "source": [
        ""
      ],
      "execution_count": null,
      "outputs": []
    }
  ]
}