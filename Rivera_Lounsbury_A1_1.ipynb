{
  "nbformat": 4,
  "nbformat_minor": 0,
  "metadata": {
    "jupytext": {
      "formats": "ipynb,py"
    },
    "kernelspec": {
      "display_name": "Python 3",
      "language": "python",
      "name": "python3"
    },
    "language_info": {
      "codemirror_mode": {
        "name": "ipython",
        "version": 3
      },
      "file_extension": ".py",
      "mimetype": "text/x-python",
      "name": "python",
      "nbconvert_exporter": "python",
      "pygments_lexer": "ipython3",
      "version": "3.8.5-final"
    },
    "colab": {
      "name": "Rivera-Lounsbury-A1.1.ipynb",
      "provenance": [],
      "collapsed_sections": [
        "ZOqM9azb5ng5",
        "XsqY7jix5nhD",
        "egX7GZ_Z5nhJ",
        "U6ZiHT055njO"
      ]
    }
  },
  "cells": [
    {
      "cell_type": "markdown",
      "metadata": {
        "id": "GfszU_Ih5ngG"
      },
      "source": [
        "# A1.1 Linear Regression with SGD"
      ]
    },
    {
      "cell_type": "markdown",
      "metadata": {
        "id": "2ef8gjK15ngH"
      },
      "source": [
        "* A1.1: *Added preliminary grading script in last cells of notebook.*"
      ]
    },
    {
      "cell_type": "markdown",
      "metadata": {
        "id": "-FAyN8jliUGR"
      },
      "source": [
        ""
      ]
    },
    {
      "cell_type": "markdown",
      "metadata": {
        "id": "hXHhEJJP5ngI"
      },
      "source": [
        "In this assignment, you will implement three functions `train`, `use`, and `rmse` and apply them to some weather data.\n",
        "Here are the specifications for these functions, which you must satisfy."
      ]
    },
    {
      "cell_type": "markdown",
      "metadata": {
        "id": "ssnYZd5J5ngJ"
      },
      "source": [
        "`model = train(X, T, learning_rate, n_epochs, verbose)`\n",
        "* `X`: is an $N$ x $D$ matrix of input data samples, one per row. $N$ is the number of samples and $D$ is the number of variable values in\n",
        "each sample.\n",
        "* `T`: is an $N$ x $K$ matrix of desired target values for each sample.  $K$ is the number of output values you want to predict for each sample.\n",
        "* `learning_rate`: is a scalar that controls the step size of each update to the weight values.\n",
        "* `n_epochs`: is the number of epochs, or passes, through all $N$ samples, to take while updating the weight values.\n",
        "* `verbose`: is True or False (default value) to control whether or not occasional text is printed to show the training progress.\n",
        "* `model`: is the returned value, which must be a dictionary with the keys `'w'`, `'Xmeans'`, `'Xstds'`, `'Tmeans'` and `'Tstds'`.\n",
        "\n",
        "`Y = use(X, model)`\n",
        "* `X`: is an $N$ x $D$ matrix of input data samples, one per row, for which you want to predict the target values.\n",
        "* `model`: is the dictionary returned by `train`.\n",
        "* `Y`: is the returned $N$ x $K$ matrix of predicted values, one for each sample in `X`.\n",
        "\n",
        "`result = rmse(Y, T)`\n",
        "* `Y`: is an $N$ x $K$ matrix of predictions produced by `use`.\n",
        "* `T`: is the $N$ x $K$ matrix of target values.\n",
        "* `result`: is a scalar calculated as the square root of the mean of the squared differences between each sample (row) in `Y` and `T`."
      ]
    },
    {
      "cell_type": "markdown",
      "metadata": {
        "id": "Kp6L-mGb5ngK"
      },
      "source": [
        "To get you started, here are the standard imports we need."
      ]
    },
    {
      "cell_type": "code",
      "metadata": {
        "lines_to_next_cell": 1,
        "id": "Rdgy2dYx5ngL"
      },
      "source": [
        "import numpy as np\n",
        "import matplotlib.pyplot as plt\n",
        "import pandas"
      ],
      "execution_count": null,
      "outputs": []
    },
    {
      "cell_type": "markdown",
      "metadata": {
        "id": "_2hqNrTi5ngO"
      },
      "source": [
        "## 60 points: 40 for train, 10 for use, 10 for rmse"
      ]
    },
    {
      "cell_type": "markdown",
      "metadata": {
        "id": "GT9mSVwn5ngS"
      },
      "source": [
        "Now here is a start at defining the `train`, `use`, and `rmse`\n",
        "functions.  Fill in the correct code wherever you see `. . .` with\n",
        "one or more lines of code."
      ]
    },
    {
      "cell_type": "code",
      "metadata": {
        "lines_to_next_cell": 1,
        "tags": [],
        "id": "3Ppb0VYR5ngT"
      },
      "source": [
        "def train(X, T, learning_rate, n_epochs, verbose=False):\n",
        "    Xtrain = X\n",
        "    Ttrain = T\n",
        "\n",
        "    # Calculate means and standard deviations of each column in X and T\n",
        "    Xmeans = Xtrain.mean(0)\n",
        "    Xstds = Xtrain.std(0)\n",
        "    \n",
        "    Tmeans = Ttrain.mean(0)\n",
        "    Tstds = Ttrain.std(0)\n",
        "\n",
        "    # Use the means and standard deviations to standardize X and T\n",
        "    Xtrain = (Xtrain - Xmeans) / Xstds\n",
        "    Ttrain = (Ttrain - Tmeans) / Tstds\n",
        "\n",
        "    # Insert the column of constant 1's as a new initial column in X\n",
        "    Xtrain = np.insert(Xtrain, 0, 1, 1)\n",
        "    \n",
        "    # Initialize weights to be a numpy array of the correct shape and all zeros values.\n",
        "    n_samples, n_inputs = Xtrain.shape\n",
        "    w = np.zeros((n_inputs, 1))\n",
        "\n",
        "    for epoch in range(n_epochs):\n",
        "        sqerror_sum = 0\n",
        "\n",
        "        for n in range(n_samples):\n",
        "            # Use current weight values to predict output for sample n, then\n",
        "            y = Xtrain[n:n + 1, :] @ w\n",
        "\n",
        "            # calculate the error, and\n",
        "            error = Ttrain[n:n + 1, :] - y\n",
        "\n",
        "            # update the weight values.\n",
        "            w += learning_rate * Xtrain[n:n + 1, :].T * error\n",
        "            \n",
        "            # Add the squared error to sqerror_sum\n",
        "            sqerror_sum += error ** 2\n",
        "            \n",
        "        if verbose and (n_epochs < 11 or (epoch + 1) % (n_epochs // 10) == 0):\n",
        "            rmse = np.sqrt(sqerror_sum / n_samples)\n",
        "            rmse = rmse[0, 0]  # because rmse is 1x1 matrix\n",
        "            print(f'Epoch {epoch + 1} RMSE {rmse:.5f}')\n",
        "\n",
        "    return {'w': w, 'Xmeans': Xmeans, 'Xstds': Xstds,\n",
        "            'Tmeans': Tmeans, 'Tstds': Tstds}"
      ],
      "execution_count": null,
      "outputs": []
    },
    {
      "cell_type": "code",
      "metadata": {
        "lines_to_next_cell": 1,
        "tags": [],
        "id": "BGMqVRUg5ngX"
      },
      "source": [
        "def use(X, model):\n",
        "    # Standardize X using Xmeans and Xstds in model\n",
        "    X = (X - model['Xmeans']) / model['Xstds']\n",
        "    X = np.insert(X, 0, 1, 1)\n",
        "\n",
        "    # Predict output values using weights in model\n",
        "    predict = X @ model['w']\n",
        "\n",
        "    # Unstandardize the predicted output values using Tmeans and Tstds in model\n",
        "    unstandardize = (predict * model['Tstds']) + model['Tmeans']\n",
        "\n",
        "    # Return the unstandardized output values\n",
        "    return unstandardize"
      ],
      "execution_count": null,
      "outputs": []
    },
    {
      "cell_type": "code",
      "metadata": {
        "lines_to_next_cell": 1,
        "id": "8Q7pHGqh5nga"
      },
      "source": [
        "def rmse(A, B):\n",
        "    return np.sqrt(np.mean( (A - B)**2 ))"
      ],
      "execution_count": null,
      "outputs": []
    },
    {
      "cell_type": "markdown",
      "metadata": {
        "id": "U5_6lB8X5ngi"
      },
      "source": [
        "Here is a simple example use of your functions to help you debug them.  Your functions must produce the same results."
      ]
    },
    {
      "cell_type": "code",
      "metadata": {
        "id": "Ss68_0sz5ngi",
        "colab": {
          "base_uri": "https://localhost:8080/",
          "height": 279
        },
        "outputId": "5562614e-bb1c-4deb-fc2c-b9129de687c4"
      },
      "source": [
        "X = np.arange(0, 100).reshape(-1, 1)  # make X a 100 x 1 matrix\n",
        "T = 0.5 + 0.3 * X + 0.005 * (X - 50) ** 2\n",
        "plt.plot(X, T, '.')\n",
        "plt.xlabel('X')\n",
        "plt.ylabel('T');"
      ],
      "execution_count": null,
      "outputs": [
        {
          "output_type": "display_data",
          "data": {
            "image/png": "[encoded data removed]",
            "text/plain": [
              "<Figure size 432x288 with 1 Axes>"
            ]
          },
          "metadata": {
            "tags": [],
            "needs_background": "light"
          }
        }
      ]
    },
    {
      "cell_type": "code",
      "metadata": {
        "tags": [],
        "id": "TJjWPqGB5ngm",
        "colab": {
          "base_uri": "https://localhost:8080/",
          "height": 289
        },
        "outputId": "79999c3b-6483-45e1-9540-9b1ac8b677bc"
      },
      "source": [
        "model = train(X, T, 0.01, 50, verbose=True)\n",
        "model"
      ],
      "execution_count": null,
      "outputs": [
        {
          "output_type": "stream",
          "text": [
            "Epoch 5 RMSE 0.39553\n",
            "Epoch 10 RMSE 0.39989\n",
            "Epoch 15 RMSE 0.39992\n",
            "Epoch 20 RMSE 0.39992\n",
            "Epoch 25 RMSE 0.39992\n",
            "Epoch 30 RMSE 0.39992\n",
            "Epoch 35 RMSE 0.39992\n",
            "Epoch 40 RMSE 0.39992\n",
            "Epoch 45 RMSE 0.39992\n",
            "Epoch 50 RMSE 0.39992\n"
          ],
          "name": "stdout"
        },
        {
          "output_type": "execute_result",
          "data": {
            "text/plain": [
              "{'Tmeans': array([19.5175]),\n",
              " 'Tstds': array([9.29491938]),\n",
              " 'Xmeans': array([49.5]),\n",
              " 'Xstds': array([28.86607005]),\n",
              " 'w': array([[-0.00576098],\n",
              "        [ 1.05433338]])}"
            ]
          },
          "metadata": {
            "tags": []
          },
          "execution_count": 8
        }
      ]
    },
    {
      "cell_type": "code",
      "metadata": {
        "tags": [],
        "id": "9Jxx6m6a5ngt",
        "colab": {
          "base_uri": "https://localhost:8080/",
          "height": 265
        },
        "outputId": "493e98d5-95d7-4453-b32e-5caabf10d7ed"
      },
      "source": [
        "Y = use(X, model)\n",
        "plt.plot(T, '.', label='T')\n",
        "plt.plot(Y, '.', label='Y')\n",
        "plt.legend();"
      ],
      "execution_count": null,
      "outputs": [
        {
          "output_type": "display_data",
          "data": {
            "image/png": "[encoded data removed]",
            "text/plain": [
              "<Figure size 432x288 with 1 Axes>"
            ]
          },
          "metadata": {
            "tags": [],
            "needs_background": "light"
          }
        }
      ]
    },
    {
      "cell_type": "code",
      "metadata": {
        "id": "K02F3iTu5ngx",
        "colab": {
          "base_uri": "https://localhost:8080/",
          "height": 279
        },
        "outputId": "7a872c0d-cd44-4a9e-993b-9cde7fa0b86b"
      },
      "source": [
        "plt.plot(Y[:, 0], T[:, 0], 'o')\n",
        "plt.xlabel('Predicted')\n",
        "plt.ylabel('Actual')\n",
        "a = max(min(Y[:, 0]), min(T[:, 0]))\n",
        "b = min(max(Y[:, 0]), max(T[:, 0]))\n",
        "plt.plot([a, b], [a, b], 'r', linewidth=3);"
      ],
      "execution_count": null,
      "outputs": [
        {
          "output_type": "display_data",
          "data": {
            "image/png": "[encoded data removed]",
            "text/plain": [
              "<Figure size 432x288 with 1 Axes>"
            ]
          },
          "metadata": {
            "tags": [],
            "needs_background": "light"
          }
        }
      ]
    },
    {
      "cell_type": "code",
      "metadata": {
        "id": "o5LAQ6595ng0",
        "colab": {
          "base_uri": "https://localhost:8080/",
          "height": 34
        },
        "outputId": "0eccf28f-33db-404f-fd27-b2cf07a315bd"
      },
      "source": [
        "rmse(Y,T)"
      ],
      "execution_count": null,
      "outputs": [
        {
          "output_type": "execute_result",
          "data": {
            "text/plain": [
              "3.941399759526915"
            ]
          },
          "metadata": {
            "tags": []
          },
          "execution_count": 11
        }
      ]
    },
    {
      "cell_type": "markdown",
      "metadata": {
        "id": "ZOqM9azb5ng5"
      },
      "source": [
        "## Weather Data"
      ]
    },
    {
      "cell_type": "markdown",
      "metadata": {
        "id": "fTqohaPV5ng6"
      },
      "source": [
        "Now that your functions are working, we can apply them to some real data. We will use data\n",
        "from  [CSU's CoAgMet Station Daily Data Access](http://coagmet.colostate.edu/cgi-bin/dailydata_form.pl).\n",
        "\n",
        "You can get the data file [here](http://www.cs.colostate.edu/~cs445/notebooks/A1_data.txt)"
      ]
    },
    {
      "cell_type": "markdown",
      "metadata": {
        "id": "THs6BUUA5ng7"
      },
      "source": [
        "## 5 points:\n",
        "\n",
        "Read in the data into variable `df` using `pandas.read_csv` like we did in lecture notes.\n",
        "Missing values in this dataset are indicated by the string `'***'`."
      ]
    },
    {
      "cell_type": "code",
      "metadata": {
        "id": "wgpYht1g5ng7"
      },
      "source": [
        "df = pandas.read_csv('https://www.cs.colostate.edu/~cs445/notebooks/A1_data.txt', delim_whitespace=True, na_values='***')"
      ],
      "execution_count": null,
      "outputs": []
    },
    {
      "cell_type": "code",
      "metadata": {
        "id": "e5Nv95rO5nhA",
        "colab": {
          "base_uri": "https://localhost:8080/",
          "height": 419
        },
        "outputId": "a1071d1a-dff3-4d2d-a5ee-a59d23fc50a5"
      },
      "source": [
        "df"
      ],
      "execution_count": null,
      "outputs": [
        {
          "output_type": "execute_result",
          "data": {
            "text/html": [
              "<div>\n",
              "<style scoped>\n",
              "    .dataframe tbody tr th:only-of-type {\n",
              "        vertical-align: middle;\n",
              "    }\n",
              "\n",
              "    .dataframe tbody tr th {\n",
              "        vertical-align: top;\n",
              "    }\n",
              "\n",
              "    .dataframe thead th {\n",
              "        text-align: right;\n",
              "    }\n",
              "</style>\n",
              "<table border=\"1\" class=\"dataframe\">\n",
              "  <thead>\n",
              "    <tr style=\"text-align: right;\">\n",
              "      <th></th>\n",
              "      <th>Year</th>\n",
              "      <th>Mo</th>\n",
              "      <th>Dy</th>\n",
              "      <th>tave</th>\n",
              "      <th>tmax</th>\n",
              "      <th>mxtm</th>\n",
              "      <th>tmin</th>\n",
              "      <th>mntm</th>\n",
              "      <th>vp</th>\n",
              "      <th>rhmax</th>\n",
              "      <th>rhmxtm</th>\n",
              "      <th>rhmin</th>\n",
              "      <th>rhmntm</th>\n",
              "      <th>sr</th>\n",
              "      <th>wrun</th>\n",
              "      <th>pp</th>\n",
              "      <th>st5mx</th>\n",
              "      <th>st5mxtm</th>\n",
              "      <th>st5mn</th>\n",
              "      <th>st5mntm</th>\n",
              "      <th>st15mx</th>\n",
              "      <th>st15mxtm</th>\n",
              "      <th>st15mn</th>\n",
              "      <th>st15mntm</th>\n",
              "      <th>volts</th>\n",
              "      <th>year</th>\n",
              "      <th>gust</th>\n",
              "      <th>gusttm</th>\n",
              "      <th>gusdir</th>\n",
              "      <th>etr_asce</th>\n",
              "    </tr>\n",
              "  </thead>\n",
              "  <tbody>\n",
              "    <tr>\n",
              "      <th>0</th>\n",
              "      <td>2019</td>\n",
              "      <td>1</td>\n",
              "      <td>1</td>\n",
              "      <td>-13.535</td>\n",
              "      <td>-10.073</td>\n",
              "      <td>14:10</td>\n",
              "      <td>-16.997</td>\n",
              "      <td>23:50</td>\n",
              "      <td>0.153</td>\n",
              "      <td>0.830</td>\n",
              "      <td>05:10</td>\n",
              "      <td>0.595</td>\n",
              "      <td>15:00</td>\n",
              "      <td>5.319</td>\n",
              "      <td>62.924</td>\n",
              "      <td>0.000</td>\n",
              "      <td>NaN</td>\n",
              "      <td>NaN</td>\n",
              "      <td>NaN</td>\n",
              "      <td>NaN</td>\n",
              "      <td>-1.803</td>\n",
              "      <td>00:00</td>\n",
              "      <td>-3.195</td>\n",
              "      <td>23:00</td>\n",
              "      <td>NaN</td>\n",
              "      <td>2019.0</td>\n",
              "      <td>5.155</td>\n",
              "      <td>08:10</td>\n",
              "      <td>NaN</td>\n",
              "      <td>0.324</td>\n",
              "    </tr>\n",
              "    <tr>\n",
              "      <th>1</th>\n",
              "      <td>2019</td>\n",
              "      <td>1</td>\n",
              "      <td>2</td>\n",
              "      <td>-5.791</td>\n",
              "      <td>6.010</td>\n",
              "      <td>14:50</td>\n",
              "      <td>-17.591</td>\n",
              "      <td>04:00</td>\n",
              "      <td>0.209</td>\n",
              "      <td>0.839</td>\n",
              "      <td>04:20</td>\n",
              "      <td>0.216</td>\n",
              "      <td>15:10</td>\n",
              "      <td>7.388</td>\n",
              "      <td>27.234</td>\n",
              "      <td>0.508</td>\n",
              "      <td>NaN</td>\n",
              "      <td>NaN</td>\n",
              "      <td>NaN</td>\n",
              "      <td>NaN</td>\n",
              "      <td>-2.941</td>\n",
              "      <td>19:00</td>\n",
              "      <td>-4.802</td>\n",
              "      <td>11:00</td>\n",
              "      <td>NaN</td>\n",
              "      <td>2019.0</td>\n",
              "      <td>4.332</td>\n",
              "      <td>11:50</td>\n",
              "      <td>NaN</td>\n",
              "      <td>0.521</td>\n",
              "    </tr>\n",
              "    <tr>\n",
              "      <th>2</th>\n",
              "      <td>2019</td>\n",
              "      <td>1</td>\n",
              "      <td>3</td>\n",
              "      <td>1.374</td>\n",
              "      <td>13.444</td>\n",
              "      <td>13:50</td>\n",
              "      <td>-10.696</td>\n",
              "      <td>05:00</td>\n",
              "      <td>0.340</td>\n",
              "      <td>0.836</td>\n",
              "      <td>01:50</td>\n",
              "      <td>0.175</td>\n",
              "      <td>13:30</td>\n",
              "      <td>6.529</td>\n",
              "      <td>28.465</td>\n",
              "      <td>0.000</td>\n",
              "      <td>NaN</td>\n",
              "      <td>NaN</td>\n",
              "      <td>NaN</td>\n",
              "      <td>NaN</td>\n",
              "      <td>-1.979</td>\n",
              "      <td>22:00</td>\n",
              "      <td>-4.639</td>\n",
              "      <td>10:00</td>\n",
              "      <td>NaN</td>\n",
              "      <td>2019.0</td>\n",
              "      <td>4.096</td>\n",
              "      <td>15:40</td>\n",
              "      <td>NaN</td>\n",
              "      <td>0.729</td>\n",
              "    </tr>\n",
              "    <tr>\n",
              "      <th>3</th>\n",
              "      <td>2019</td>\n",
              "      <td>1</td>\n",
              "      <td>4</td>\n",
              "      <td>4.544</td>\n",
              "      <td>15.089</td>\n",
              "      <td>14:40</td>\n",
              "      <td>-6.000</td>\n",
              "      <td>06:00</td>\n",
              "      <td>0.429</td>\n",
              "      <td>0.815</td>\n",
              "      <td>06:00</td>\n",
              "      <td>0.202</td>\n",
              "      <td>14:30</td>\n",
              "      <td>6.202</td>\n",
              "      <td>36.616</td>\n",
              "      <td>0.000</td>\n",
              "      <td>NaN</td>\n",
              "      <td>NaN</td>\n",
              "      <td>NaN</td>\n",
              "      <td>NaN</td>\n",
              "      <td>-0.963</td>\n",
              "      <td>23:00</td>\n",
              "      <td>-2.768</td>\n",
              "      <td>10:00</td>\n",
              "      <td>NaN</td>\n",
              "      <td>2019.0</td>\n",
              "      <td>4.096</td>\n",
              "      <td>12:30</td>\n",
              "      <td>NaN</td>\n",
              "      <td>0.893</td>\n",
              "    </tr>\n",
              "    <tr>\n",
              "      <th>4</th>\n",
              "      <td>2019</td>\n",
              "      <td>1</td>\n",
              "      <td>5</td>\n",
              "      <td>4.465</td>\n",
              "      <td>14.441</td>\n",
              "      <td>12:50</td>\n",
              "      <td>-5.510</td>\n",
              "      <td>06:40</td>\n",
              "      <td>0.399</td>\n",
              "      <td>0.769</td>\n",
              "      <td>06:50</td>\n",
              "      <td>0.184</td>\n",
              "      <td>14:00</td>\n",
              "      <td>5.931</td>\n",
              "      <td>34.283</td>\n",
              "      <td>0.000</td>\n",
              "      <td>NaN</td>\n",
              "      <td>NaN</td>\n",
              "      <td>NaN</td>\n",
              "      <td>NaN</td>\n",
              "      <td>-0.350</td>\n",
              "      <td>23:00</td>\n",
              "      <td>-1.401</td>\n",
              "      <td>11:00</td>\n",
              "      <td>NaN</td>\n",
              "      <td>2019.0</td>\n",
              "      <td>4.077</td>\n",
              "      <td>12:20</td>\n",
              "      <td>NaN</td>\n",
              "      <td>0.867</td>\n",
              "    </tr>\n",
              "    <tr>\n",
              "      <th>...</th>\n",
              "      <td>...</td>\n",
              "      <td>...</td>\n",
              "      <td>...</td>\n",
              "      <td>...</td>\n",
              "      <td>...</td>\n",
              "      <td>...</td>\n",
              "      <td>...</td>\n",
              "      <td>...</td>\n",
              "      <td>...</td>\n",
              "      <td>...</td>\n",
              "      <td>...</td>\n",
              "      <td>...</td>\n",
              "      <td>...</td>\n",
              "      <td>...</td>\n",
              "      <td>...</td>\n",
              "      <td>...</td>\n",
              "      <td>...</td>\n",
              "      <td>...</td>\n",
              "      <td>...</td>\n",
              "      <td>...</td>\n",
              "      <td>...</td>\n",
              "      <td>...</td>\n",
              "      <td>...</td>\n",
              "      <td>...</td>\n",
              "      <td>...</td>\n",
              "      <td>...</td>\n",
              "      <td>...</td>\n",
              "      <td>...</td>\n",
              "      <td>...</td>\n",
              "      <td>...</td>\n",
              "    </tr>\n",
              "    <tr>\n",
              "      <th>360</th>\n",
              "      <td>2019</td>\n",
              "      <td>12</td>\n",
              "      <td>27</td>\n",
              "      <td>-1.493</td>\n",
              "      <td>2.260</td>\n",
              "      <td>14:40</td>\n",
              "      <td>-5.245</td>\n",
              "      <td>07:30</td>\n",
              "      <td>0.403</td>\n",
              "      <td>0.908</td>\n",
              "      <td>21:20</td>\n",
              "      <td>0.565</td>\n",
              "      <td>10:30</td>\n",
              "      <td>4.255</td>\n",
              "      <td>34.897</td>\n",
              "      <td>0.000</td>\n",
              "      <td>NaN</td>\n",
              "      <td>NaN</td>\n",
              "      <td>NaN</td>\n",
              "      <td>NaN</td>\n",
              "      <td>0.308</td>\n",
              "      <td>06:00</td>\n",
              "      <td>0.257</td>\n",
              "      <td>14:00</td>\n",
              "      <td>NaN</td>\n",
              "      <td>2019.0</td>\n",
              "      <td>4.469</td>\n",
              "      <td>16:00</td>\n",
              "      <td>NaN</td>\n",
              "      <td>0.473</td>\n",
              "    </tr>\n",
              "    <tr>\n",
              "      <th>361</th>\n",
              "      <td>2019</td>\n",
              "      <td>12</td>\n",
              "      <td>28</td>\n",
              "      <td>-2.695</td>\n",
              "      <td>-1.102</td>\n",
              "      <td>01:50</td>\n",
              "      <td>-4.288</td>\n",
              "      <td>07:00</td>\n",
              "      <td>0.363</td>\n",
              "      <td>0.973</td>\n",
              "      <td>04:00</td>\n",
              "      <td>0.477</td>\n",
              "      <td>22:30</td>\n",
              "      <td>2.994</td>\n",
              "      <td>108.310</td>\n",
              "      <td>0.000</td>\n",
              "      <td>NaN</td>\n",
              "      <td>NaN</td>\n",
              "      <td>NaN</td>\n",
              "      <td>NaN</td>\n",
              "      <td>0.298</td>\n",
              "      <td>20:00</td>\n",
              "      <td>0.264</td>\n",
              "      <td>10:00</td>\n",
              "      <td>NaN</td>\n",
              "      <td>2019.0</td>\n",
              "      <td>10.623</td>\n",
              "      <td>12:20</td>\n",
              "      <td>NaN</td>\n",
              "      <td>0.681</td>\n",
              "    </tr>\n",
              "    <tr>\n",
              "      <th>362</th>\n",
              "      <td>2019</td>\n",
              "      <td>12</td>\n",
              "      <td>29</td>\n",
              "      <td>-3.731</td>\n",
              "      <td>1.871</td>\n",
              "      <td>13:30</td>\n",
              "      <td>-9.333</td>\n",
              "      <td>22:40</td>\n",
              "      <td>0.221</td>\n",
              "      <td>0.690</td>\n",
              "      <td>22:50</td>\n",
              "      <td>0.267</td>\n",
              "      <td>15:50</td>\n",
              "      <td>5.551</td>\n",
              "      <td>104.831</td>\n",
              "      <td>4.064</td>\n",
              "      <td>NaN</td>\n",
              "      <td>NaN</td>\n",
              "      <td>NaN</td>\n",
              "      <td>NaN</td>\n",
              "      <td>0.288</td>\n",
              "      <td>00:00</td>\n",
              "      <td>0.219</td>\n",
              "      <td>23:00</td>\n",
              "      <td>NaN</td>\n",
              "      <td>2019.0</td>\n",
              "      <td>11.486</td>\n",
              "      <td>07:10</td>\n",
              "      <td>NaN</td>\n",
              "      <td>1.039</td>\n",
              "    </tr>\n",
              "    <tr>\n",
              "      <th>363</th>\n",
              "      <td>2019</td>\n",
              "      <td>12</td>\n",
              "      <td>30</td>\n",
              "      <td>-5.427</td>\n",
              "      <td>1.293</td>\n",
              "      <td>13:40</td>\n",
              "      <td>-12.147</td>\n",
              "      <td>06:20</td>\n",
              "      <td>0.226</td>\n",
              "      <td>0.833</td>\n",
              "      <td>06:50</td>\n",
              "      <td>0.278</td>\n",
              "      <td>12:00</td>\n",
              "      <td>6.694</td>\n",
              "      <td>36.863</td>\n",
              "      <td>0.508</td>\n",
              "      <td>NaN</td>\n",
              "      <td>NaN</td>\n",
              "      <td>NaN</td>\n",
              "      <td>NaN</td>\n",
              "      <td>0.200</td>\n",
              "      <td>00:00</td>\n",
              "      <td>-0.150</td>\n",
              "      <td>23:00</td>\n",
              "      <td>NaN</td>\n",
              "      <td>2019.0</td>\n",
              "      <td>4.586</td>\n",
              "      <td>14:30</td>\n",
              "      <td>NaN</td>\n",
              "      <td>0.504</td>\n",
              "    </tr>\n",
              "    <tr>\n",
              "      <th>364</th>\n",
              "      <td>2019</td>\n",
              "      <td>12</td>\n",
              "      <td>31</td>\n",
              "      <td>-4.175</td>\n",
              "      <td>4.810</td>\n",
              "      <td>13:10</td>\n",
              "      <td>-13.160</td>\n",
              "      <td>06:50</td>\n",
              "      <td>0.247</td>\n",
              "      <td>0.862</td>\n",
              "      <td>06:10</td>\n",
              "      <td>0.241</td>\n",
              "      <td>12:50</td>\n",
              "      <td>7.418</td>\n",
              "      <td>29.557</td>\n",
              "      <td>0.000</td>\n",
              "      <td>NaN</td>\n",
              "      <td>NaN</td>\n",
              "      <td>NaN</td>\n",
              "      <td>NaN</td>\n",
              "      <td>-0.174</td>\n",
              "      <td>00:00</td>\n",
              "      <td>-0.917</td>\n",
              "      <td>13:00</td>\n",
              "      <td>NaN</td>\n",
              "      <td>2019.0</td>\n",
              "      <td>5.566</td>\n",
              "      <td>18:40</td>\n",
              "      <td>NaN</td>\n",
              "      <td>0.503</td>\n",
              "    </tr>\n",
              "  </tbody>\n",
              "</table>\n",
              "<p>365 rows × 30 columns</p>\n",
              "</div>"
            ],
            "text/plain": [
              "     Year  Mo  Dy    tave    tmax  ...    year    gust gusttm  gusdir  etr_asce\n",
              "0    2019   1   1 -13.535 -10.073  ...  2019.0   5.155  08:10     NaN     0.324\n",
              "1    2019   1   2  -5.791   6.010  ...  2019.0   4.332  11:50     NaN     0.521\n",
              "2    2019   1   3   1.374  13.444  ...  2019.0   4.096  15:40     NaN     0.729\n",
              "3    2019   1   4   4.544  15.089  ...  2019.0   4.096  12:30     NaN     0.893\n",
              "4    2019   1   5   4.465  14.441  ...  2019.0   4.077  12:20     NaN     0.867\n",
              "..    ...  ..  ..     ...     ...  ...     ...     ...    ...     ...       ...\n",
              "360  2019  12  27  -1.493   2.260  ...  2019.0   4.469  16:00     NaN     0.473\n",
              "361  2019  12  28  -2.695  -1.102  ...  2019.0  10.623  12:20     NaN     0.681\n",
              "362  2019  12  29  -3.731   1.871  ...  2019.0  11.486  07:10     NaN     1.039\n",
              "363  2019  12  30  -5.427   1.293  ...  2019.0   4.586  14:30     NaN     0.504\n",
              "364  2019  12  31  -4.175   4.810  ...  2019.0   5.566  18:40     NaN     0.503\n",
              "\n",
              "[365 rows x 30 columns]"
            ]
          },
          "metadata": {
            "tags": []
          },
          "execution_count": 7
        }
      ]
    },
    {
      "cell_type": "markdown",
      "metadata": {
        "id": "XsqY7jix5nhD"
      },
      "source": [
        "## 5 points:\n",
        "\n",
        "Check for missing values by showing the number of NA values, as shown in lecture notes."
      ]
    },
    {
      "cell_type": "code",
      "metadata": {
        "id": "jabQ-YyJ5nhF",
        "colab": {
          "base_uri": "https://localhost:8080/",
          "height": 544
        },
        "outputId": "5c67baa0-9230-44e3-8823-9837c2ad9102"
      },
      "source": [
        "df.isna().sum()"
      ],
      "execution_count": null,
      "outputs": [
        {
          "output_type": "execute_result",
          "data": {
            "text/plain": [
              "Year          0\n",
              "Mo            0\n",
              "Dy            0\n",
              "tave          0\n",
              "tmax          0\n",
              "mxtm          0\n",
              "tmin          0\n",
              "mntm          0\n",
              "vp            0\n",
              "rhmax         0\n",
              "rhmxtm        0\n",
              "rhmin         0\n",
              "rhmntm        0\n",
              "sr            0\n",
              "wrun          0\n",
              "pp            0\n",
              "st5mx       211\n",
              "st5mxtm     211\n",
              "st5mn       211\n",
              "st5mntm     211\n",
              "st15mx        0\n",
              "st15mxtm      0\n",
              "st15mn        0\n",
              "st15mntm      0\n",
              "volts       365\n",
              "year          0\n",
              "gust          0\n",
              "gusttm        0\n",
              "gusdir      365\n",
              "etr_asce      0\n",
              "dtype: int64"
            ]
          },
          "metadata": {
            "tags": []
          },
          "execution_count": 14
        }
      ]
    },
    {
      "cell_type": "markdown",
      "metadata": {
        "id": "egX7GZ_Z5nhJ"
      },
      "source": [
        "## 5 points:\n",
        "\n",
        "If there are missing values, remove either samples or features that contain missing values. Prove that you\n",
        "were successful by counting the number of missing values now, which should be zero."
      ]
    },
    {
      "cell_type": "code",
      "metadata": {
        "id": "CSmTTatZ5nhK"
      },
      "source": [
        "df = pandas.read_csv('https://www.cs.colostate.edu/~cs445/notebooks/A1_data.txt', delim_whitespace=True, na_values='***', usecols = lambda column : column not in [\"st5mx\" , \"st5mxtm\", \"st5mn\", \"st5mntm\", \"volts\", \"gusdir\"])"
      ],
      "execution_count": null,
      "outputs": []
    },
    {
      "cell_type": "code",
      "metadata": {
        "id": "kUK9ZJzE5nhN",
        "colab": {
          "base_uri": "https://localhost:8080/",
          "height": 419
        },
        "outputId": "b1684015-dac7-491b-d2f7-f1d5e353236d"
      },
      "source": [
        "df"
      ],
      "execution_count": null,
      "outputs": [
        {
          "output_type": "execute_result",
          "data": {
            "text/html": [
              "<div>\n",
              "<style scoped>\n",
              "    .dataframe tbody tr th:only-of-type {\n",
              "        vertical-align: middle;\n",
              "    }\n",
              "\n",
              "    .dataframe tbody tr th {\n",
              "        vertical-align: top;\n",
              "    }\n",
              "\n",
              "    .dataframe thead th {\n",
              "        text-align: right;\n",
              "    }\n",
              "</style>\n",
              "<table border=\"1\" class=\"dataframe\">\n",
              "  <thead>\n",
              "    <tr style=\"text-align: right;\">\n",
              "      <th></th>\n",
              "      <th>Year</th>\n",
              "      <th>Mo</th>\n",
              "      <th>Dy</th>\n",
              "      <th>tave</th>\n",
              "      <th>tmax</th>\n",
              "      <th>mxtm</th>\n",
              "      <th>tmin</th>\n",
              "      <th>mntm</th>\n",
              "      <th>vp</th>\n",
              "      <th>rhmax</th>\n",
              "      <th>rhmxtm</th>\n",
              "      <th>rhmin</th>\n",
              "      <th>rhmntm</th>\n",
              "      <th>sr</th>\n",
              "      <th>wrun</th>\n",
              "      <th>pp</th>\n",
              "      <th>st15mx</th>\n",
              "      <th>st15mxtm</th>\n",
              "      <th>st15mn</th>\n",
              "      <th>st15mntm</th>\n",
              "      <th>year</th>\n",
              "      <th>gust</th>\n",
              "      <th>gusttm</th>\n",
              "      <th>etr_asce</th>\n",
              "    </tr>\n",
              "  </thead>\n",
              "  <tbody>\n",
              "    <tr>\n",
              "      <th>0</th>\n",
              "      <td>2019</td>\n",
              "      <td>1</td>\n",
              "      <td>1</td>\n",
              "      <td>-13.535</td>\n",
              "      <td>-10.073</td>\n",
              "      <td>14:10</td>\n",
              "      <td>-16.997</td>\n",
              "      <td>23:50</td>\n",
              "      <td>0.153</td>\n",
              "      <td>0.830</td>\n",
              "      <td>05:10</td>\n",
              "      <td>0.595</td>\n",
              "      <td>15:00</td>\n",
              "      <td>5.319</td>\n",
              "      <td>62.924</td>\n",
              "      <td>0.000</td>\n",
              "      <td>-1.803</td>\n",
              "      <td>00:00</td>\n",
              "      <td>-3.195</td>\n",
              "      <td>23:00</td>\n",
              "      <td>2019.0</td>\n",
              "      <td>5.155</td>\n",
              "      <td>08:10</td>\n",
              "      <td>0.324</td>\n",
              "    </tr>\n",
              "    <tr>\n",
              "      <th>1</th>\n",
              "      <td>2019</td>\n",
              "      <td>1</td>\n",
              "      <td>2</td>\n",
              "      <td>-5.791</td>\n",
              "      <td>6.010</td>\n",
              "      <td>14:50</td>\n",
              "      <td>-17.591</td>\n",
              "      <td>04:00</td>\n",
              "      <td>0.209</td>\n",
              "      <td>0.839</td>\n",
              "      <td>04:20</td>\n",
              "      <td>0.216</td>\n",
              "      <td>15:10</td>\n",
              "      <td>7.388</td>\n",
              "      <td>27.234</td>\n",
              "      <td>0.508</td>\n",
              "      <td>-2.941</td>\n",
              "      <td>19:00</td>\n",
              "      <td>-4.802</td>\n",
              "      <td>11:00</td>\n",
              "      <td>2019.0</td>\n",
              "      <td>4.332</td>\n",
              "      <td>11:50</td>\n",
              "      <td>0.521</td>\n",
              "    </tr>\n",
              "    <tr>\n",
              "      <th>2</th>\n",
              "      <td>2019</td>\n",
              "      <td>1</td>\n",
              "      <td>3</td>\n",
              "      <td>1.374</td>\n",
              "      <td>13.444</td>\n",
              "      <td>13:50</td>\n",
              "      <td>-10.696</td>\n",
              "      <td>05:00</td>\n",
              "      <td>0.340</td>\n",
              "      <td>0.836</td>\n",
              "      <td>01:50</td>\n",
              "      <td>0.175</td>\n",
              "      <td>13:30</td>\n",
              "      <td>6.529</td>\n",
              "      <td>28.465</td>\n",
              "      <td>0.000</td>\n",
              "      <td>-1.979</td>\n",
              "      <td>22:00</td>\n",
              "      <td>-4.639</td>\n",
              "      <td>10:00</td>\n",
              "      <td>2019.0</td>\n",
              "      <td>4.096</td>\n",
              "      <td>15:40</td>\n",
              "      <td>0.729</td>\n",
              "    </tr>\n",
              "    <tr>\n",
              "      <th>3</th>\n",
              "      <td>2019</td>\n",
              "      <td>1</td>\n",
              "      <td>4</td>\n",
              "      <td>4.544</td>\n",
              "      <td>15.089</td>\n",
              "      <td>14:40</td>\n",
              "      <td>-6.000</td>\n",
              "      <td>06:00</td>\n",
              "      <td>0.429</td>\n",
              "      <td>0.815</td>\n",
              "      <td>06:00</td>\n",
              "      <td>0.202</td>\n",
              "      <td>14:30</td>\n",
              "      <td>6.202</td>\n",
              "      <td>36.616</td>\n",
              "      <td>0.000</td>\n",
              "      <td>-0.963</td>\n",
              "      <td>23:00</td>\n",
              "      <td>-2.768</td>\n",
              "      <td>10:00</td>\n",
              "      <td>2019.0</td>\n",
              "      <td>4.096</td>\n",
              "      <td>12:30</td>\n",
              "      <td>0.893</td>\n",
              "    </tr>\n",
              "    <tr>\n",
              "      <th>4</th>\n",
              "      <td>2019</td>\n",
              "      <td>1</td>\n",
              "      <td>5</td>\n",
              "      <td>4.465</td>\n",
              "      <td>14.441</td>\n",
              "      <td>12:50</td>\n",
              "      <td>-5.510</td>\n",
              "      <td>06:40</td>\n",
              "      <td>0.399</td>\n",
              "      <td>0.769</td>\n",
              "      <td>06:50</td>\n",
              "      <td>0.184</td>\n",
              "      <td>14:00</td>\n",
              "      <td>5.931</td>\n",
              "      <td>34.283</td>\n",
              "      <td>0.000</td>\n",
              "      <td>-0.350</td>\n",
              "      <td>23:00</td>\n",
              "      <td>-1.401</td>\n",
              "      <td>11:00</td>\n",
              "      <td>2019.0</td>\n",
              "      <td>4.077</td>\n",
              "      <td>12:20</td>\n",
              "      <td>0.867</td>\n",
              "    </tr>\n",
              "    <tr>\n",
              "      <th>...</th>\n",
              "      <td>...</td>\n",
              "      <td>...</td>\n",
              "      <td>...</td>\n",
              "      <td>...</td>\n",
              "      <td>...</td>\n",
              "      <td>...</td>\n",
              "      <td>...</td>\n",
              "      <td>...</td>\n",
              "      <td>...</td>\n",
              "      <td>...</td>\n",
              "      <td>...</td>\n",
              "      <td>...</td>\n",
              "      <td>...</td>\n",
              "      <td>...</td>\n",
              "      <td>...</td>\n",
              "      <td>...</td>\n",
              "      <td>...</td>\n",
              "      <td>...</td>\n",
              "      <td>...</td>\n",
              "      <td>...</td>\n",
              "      <td>...</td>\n",
              "      <td>...</td>\n",
              "      <td>...</td>\n",
              "      <td>...</td>\n",
              "    </tr>\n",
              "    <tr>\n",
              "      <th>360</th>\n",
              "      <td>2019</td>\n",
              "      <td>12</td>\n",
              "      <td>27</td>\n",
              "      <td>-1.493</td>\n",
              "      <td>2.260</td>\n",
              "      <td>14:40</td>\n",
              "      <td>-5.245</td>\n",
              "      <td>07:30</td>\n",
              "      <td>0.403</td>\n",
              "      <td>0.908</td>\n",
              "      <td>21:20</td>\n",
              "      <td>0.565</td>\n",
              "      <td>10:30</td>\n",
              "      <td>4.255</td>\n",
              "      <td>34.897</td>\n",
              "      <td>0.000</td>\n",
              "      <td>0.308</td>\n",
              "      <td>06:00</td>\n",
              "      <td>0.257</td>\n",
              "      <td>14:00</td>\n",
              "      <td>2019.0</td>\n",
              "      <td>4.469</td>\n",
              "      <td>16:00</td>\n",
              "      <td>0.473</td>\n",
              "    </tr>\n",
              "    <tr>\n",
              "      <th>361</th>\n",
              "      <td>2019</td>\n",
              "      <td>12</td>\n",
              "      <td>28</td>\n",
              "      <td>-2.695</td>\n",
              "      <td>-1.102</td>\n",
              "      <td>01:50</td>\n",
              "      <td>-4.288</td>\n",
              "      <td>07:00</td>\n",
              "      <td>0.363</td>\n",
              "      <td>0.973</td>\n",
              "      <td>04:00</td>\n",
              "      <td>0.477</td>\n",
              "      <td>22:30</td>\n",
              "      <td>2.994</td>\n",
              "      <td>108.310</td>\n",
              "      <td>0.000</td>\n",
              "      <td>0.298</td>\n",
              "      <td>20:00</td>\n",
              "      <td>0.264</td>\n",
              "      <td>10:00</td>\n",
              "      <td>2019.0</td>\n",
              "      <td>10.623</td>\n",
              "      <td>12:20</td>\n",
              "      <td>0.681</td>\n",
              "    </tr>\n",
              "    <tr>\n",
              "      <th>362</th>\n",
              "      <td>2019</td>\n",
              "      <td>12</td>\n",
              "      <td>29</td>\n",
              "      <td>-3.731</td>\n",
              "      <td>1.871</td>\n",
              "      <td>13:30</td>\n",
              "      <td>-9.333</td>\n",
              "      <td>22:40</td>\n",
              "      <td>0.221</td>\n",
              "      <td>0.690</td>\n",
              "      <td>22:50</td>\n",
              "      <td>0.267</td>\n",
              "      <td>15:50</td>\n",
              "      <td>5.551</td>\n",
              "      <td>104.831</td>\n",
              "      <td>4.064</td>\n",
              "      <td>0.288</td>\n",
              "      <td>00:00</td>\n",
              "      <td>0.219</td>\n",
              "      <td>23:00</td>\n",
              "      <td>2019.0</td>\n",
              "      <td>11.486</td>\n",
              "      <td>07:10</td>\n",
              "      <td>1.039</td>\n",
              "    </tr>\n",
              "    <tr>\n",
              "      <th>363</th>\n",
              "      <td>2019</td>\n",
              "      <td>12</td>\n",
              "      <td>30</td>\n",
              "      <td>-5.427</td>\n",
              "      <td>1.293</td>\n",
              "      <td>13:40</td>\n",
              "      <td>-12.147</td>\n",
              "      <td>06:20</td>\n",
              "      <td>0.226</td>\n",
              "      <td>0.833</td>\n",
              "      <td>06:50</td>\n",
              "      <td>0.278</td>\n",
              "      <td>12:00</td>\n",
              "      <td>6.694</td>\n",
              "      <td>36.863</td>\n",
              "      <td>0.508</td>\n",
              "      <td>0.200</td>\n",
              "      <td>00:00</td>\n",
              "      <td>-0.150</td>\n",
              "      <td>23:00</td>\n",
              "      <td>2019.0</td>\n",
              "      <td>4.586</td>\n",
              "      <td>14:30</td>\n",
              "      <td>0.504</td>\n",
              "    </tr>\n",
              "    <tr>\n",
              "      <th>364</th>\n",
              "      <td>2019</td>\n",
              "      <td>12</td>\n",
              "      <td>31</td>\n",
              "      <td>-4.175</td>\n",
              "      <td>4.810</td>\n",
              "      <td>13:10</td>\n",
              "      <td>-13.160</td>\n",
              "      <td>06:50</td>\n",
              "      <td>0.247</td>\n",
              "      <td>0.862</td>\n",
              "      <td>06:10</td>\n",
              "      <td>0.241</td>\n",
              "      <td>12:50</td>\n",
              "      <td>7.418</td>\n",
              "      <td>29.557</td>\n",
              "      <td>0.000</td>\n",
              "      <td>-0.174</td>\n",
              "      <td>00:00</td>\n",
              "      <td>-0.917</td>\n",
              "      <td>13:00</td>\n",
              "      <td>2019.0</td>\n",
              "      <td>5.566</td>\n",
              "      <td>18:40</td>\n",
              "      <td>0.503</td>\n",
              "    </tr>\n",
              "  </tbody>\n",
              "</table>\n",
              "<p>365 rows × 24 columns</p>\n",
              "</div>"
            ],
            "text/plain": [
              "     Year  Mo  Dy    tave    tmax  ... st15mntm    year    gust  gusttm  etr_asce\n",
              "0    2019   1   1 -13.535 -10.073  ...    23:00  2019.0   5.155   08:10     0.324\n",
              "1    2019   1   2  -5.791   6.010  ...    11:00  2019.0   4.332   11:50     0.521\n",
              "2    2019   1   3   1.374  13.444  ...    10:00  2019.0   4.096   15:40     0.729\n",
              "3    2019   1   4   4.544  15.089  ...    10:00  2019.0   4.096   12:30     0.893\n",
              "4    2019   1   5   4.465  14.441  ...    11:00  2019.0   4.077   12:20     0.867\n",
              "..    ...  ..  ..     ...     ...  ...      ...     ...     ...     ...       ...\n",
              "360  2019  12  27  -1.493   2.260  ...    14:00  2019.0   4.469   16:00     0.473\n",
              "361  2019  12  28  -2.695  -1.102  ...    10:00  2019.0  10.623   12:20     0.681\n",
              "362  2019  12  29  -3.731   1.871  ...    23:00  2019.0  11.486   07:10     1.039\n",
              "363  2019  12  30  -5.427   1.293  ...    23:00  2019.0   4.586   14:30     0.504\n",
              "364  2019  12  31  -4.175   4.810  ...    13:00  2019.0   5.566   18:40     0.503\n",
              "\n",
              "[365 rows x 24 columns]"
            ]
          },
          "metadata": {
            "tags": []
          },
          "execution_count": 16
        }
      ]
    },
    {
      "cell_type": "code",
      "metadata": {
        "id": "zO_3HIY05nhR",
        "colab": {
          "base_uri": "https://localhost:8080/",
          "height": 442
        },
        "outputId": "5d6b2dbd-c49c-42b6-f72a-12048c50ba00"
      },
      "source": [
        "df.isna().sum()"
      ],
      "execution_count": null,
      "outputs": [
        {
          "output_type": "execute_result",
          "data": {
            "text/plain": [
              "Year        0\n",
              "Mo          0\n",
              "Dy          0\n",
              "tave        0\n",
              "tmax        0\n",
              "mxtm        0\n",
              "tmin        0\n",
              "mntm        0\n",
              "vp          0\n",
              "rhmax       0\n",
              "rhmxtm      0\n",
              "rhmin       0\n",
              "rhmntm      0\n",
              "sr          0\n",
              "wrun        0\n",
              "pp          0\n",
              "st15mx      0\n",
              "st15mxtm    0\n",
              "st15mn      0\n",
              "st15mntm    0\n",
              "year        0\n",
              "gust        0\n",
              "gusttm      0\n",
              "etr_asce    0\n",
              "dtype: int64"
            ]
          },
          "metadata": {
            "tags": []
          },
          "execution_count": 17
        }
      ]
    },
    {
      "cell_type": "markdown",
      "metadata": {
        "id": "gFyfWwn_5nhX"
      },
      "source": [
        "Your job is now to create a linear model that predicts the next day's average temperature (tave) from the previous day's values. A discription of all features can be found [here](https://coagmet.colostate.edu/rawdata_docs.php). To start, consider just focusing on these features: \n",
        "1. tave: average temperature\n",
        "2. tmax: maximum temperature\n",
        "3. tmin: minimum temperature\n",
        "4. vp: vapor pressure\n",
        "5. rhmax: maximum relative humidity\n",
        "6. rhmin: minimum relative humidity\n",
        "7. pp: precipitation\n",
        "8. gust: wind gust speed\n",
        "\n",
        "First, modify the datafile to add a new column: 'next tave' -- here's a hint on your X and T vectors names:"
      ]
    },
    {
      "cell_type": "code",
      "metadata": {
        "id": "sHaXV0Zf5nhY"
      },
      "source": [
        "Xnames = ['tave', 'tmax', 'tmin', 'vp', 'rhmax', 'rhmin', 'pp', 'gust']\n",
        "Tnames = ['next tave']"
      ],
      "execution_count": null,
      "outputs": []
    },
    {
      "cell_type": "code",
      "metadata": {
        "tags": [],
        "id": "6WVi5SWb5nhb"
      },
      "source": [
        "df['next tave'] = ''\n",
        "# data = df.iloc[30:40].values\n",
        "# T = data[:, -1:]\n",
        "# X = data[:, 0:-1]\n",
        "# names = df.columns\n",
        "# Xnames = names[:-1]\n",
        "# Tname = names[-1:]\n",
        "# print(\"Xnames = \", Xnames)\n",
        "# print(\"Tnames = \", Tnames)"
      ],
      "execution_count": null,
      "outputs": []
    },
    {
      "cell_type": "markdown",
      "metadata": {
        "id": "XBWfQKmJ5nhe"
      },
      "source": [
        "## 5 points:\n",
        "\n",
        "Now select those eight columns from `df` and convert the result to a `numpy` array.  (Easier than it sounds.)\n",
        "Then assign `X` to be all columns and all but the last row.  Assign `T` to be just the first column (tave) and all but the first sample.  So now the first row (sample) in `X` is associated with the first row (sample) in `T` which tave for the following day."
      ]
    },
    {
      "cell_type": "code",
      "metadata": {
        "id": "Zr2tmxIr5nhh"
      },
      "source": [
        "Xnames = ['bias','tave','tmax','tmin','vp','rhmax','rhmin','pp','gust']"
      ],
      "execution_count": null,
      "outputs": []
    },
    {
      "cell_type": "code",
      "metadata": {
        "id": "s_EXNxtj5nhk"
      },
      "source": [
        "XnamesAdditional = ['bias','tave','tmax','tmin','vp','rhmax','rhmin','pp','gust', 'sr', 'wrun', 'st15mx', 'st15mn']"
      ],
      "execution_count": null,
      "outputs": []
    },
    {
      "cell_type": "code",
      "metadata": {
        "id": "5mKhmeV15nhn"
      },
      "source": [
        "# useful_data = np.array(df.iloc[30:40][['tave', 'tmax', 'tmin', 'vp', 'rhmax', 'rhmin', 'pp', 'gust']])\n",
        "useful_data = np.array(df[['tave', 'tmax', 'tmin', 'vp', 'rhmax', 'rhmin', 'pp', 'gust']])\n",
        "X = useful_data[:-1, :]\n",
        "T = useful_data[1:, 0:1]"
      ],
      "execution_count": null,
      "outputs": []
    },
    {
      "cell_type": "code",
      "metadata": {
        "id": "67I3whV95nhp"
      },
      "source": [
        "# useful_data = np.array(df.iloc[30:40][['tave', 'tmax', 'tmin', 'vp', 'rhmax', 'rhmin', 'pp', 'gust']])\n",
        "useful_data_additional = np.array(df[['tave', 'tmax', 'tmin', 'vp', 'rhmax', 'rhmin', 'pp', 'gust', 'sr', 'wrun', 'st15mx', 'st15mn']])\n",
        "X_additional = useful_data_additional[:-1, :]\n",
        "T_additional = useful_data_additional[1:, 0:1]"
      ],
      "execution_count": null,
      "outputs": []
    },
    {
      "cell_type": "code",
      "metadata": {
        "tags": [],
        "id": "r-RbvjfI5nhs",
        "colab": {
          "base_uri": "https://localhost:8080/",
          "height": 1000
        },
        "outputId": "eb3aa10a-dd33-4deb-95ea-f5dcc150a50b"
      },
      "source": [
        "print(X)\n",
        "print(T)"
      ],
      "execution_count": null,
      "outputs": [
        {
          "output_type": "stream",
          "text": [
            "[[-13.535 -10.073 -16.997 ...   0.595   0.      5.155]\n",
            " [ -5.791   6.01  -17.591 ...   0.216   0.508   4.332]\n",
            " [  1.374  13.444 -10.696 ...   0.175   0.      4.096]\n",
            " ...\n",
            " [ -2.695  -1.102  -4.288 ...   0.477   0.     10.623]\n",
            " [ -3.731   1.871  -9.333 ...   0.267   4.064  11.486]\n",
            " [ -5.427   1.293 -12.147 ...   0.278   0.508   4.586]]\n",
            "[[ -5.791]\n",
            " [  1.374]\n",
            " [  4.544]\n",
            " [  4.465]\n",
            " [  6.484]\n",
            " [  3.951]\n",
            " [  0.073]\n",
            " [ -1.611]\n",
            " [  6.022]\n",
            " [  3.194]\n",
            " [  1.587]\n",
            " [ -0.441]\n",
            " [  0.164]\n",
            " [  1.711]\n",
            " [  4.581]\n",
            " [  3.755]\n",
            " [  1.748]\n",
            " [  0.794]\n",
            " [  3.699]\n",
            " [  1.509]\n",
            " [ -2.389]\n",
            " [ -2.238]\n",
            " [ -4.389]\n",
            " [ -4.567]\n",
            " [  0.199]\n",
            " [  5.772]\n",
            " [ -2.951]\n",
            " [ -5.122]\n",
            " [ -3.679]\n",
            " [  1.366]\n",
            " [  3.617]\n",
            " [  4.365]\n",
            " [  8.895]\n",
            " [  1.934]\n",
            " [ -0.69 ]\n",
            " [ -9.659]\n",
            " [-15.989]\n",
            " [ -9.802]\n",
            " [ -5.18 ]\n",
            " [ -4.825]\n",
            " [ -3.589]\n",
            " [  2.783]\n",
            " [  6.673]\n",
            " [  5.976]\n",
            " [  2.393]\n",
            " [ -0.857]\n",
            " [ -4.927]\n",
            " [-11.115]\n",
            " [ -8.522]\n",
            " [ -5.496]\n",
            " [ -4.461]\n",
            " [ -5.376]\n",
            " [ -0.835]\n",
            " [  2.057]\n",
            " [  0.91 ]\n",
            " [  0.546]\n",
            " [ -5.434]\n",
            " [  0.958]\n",
            " [  3.836]\n",
            " [ -9.381]\n",
            " [-17.259]\n",
            " [-14.075]\n",
            " [ -9.756]\n",
            " [ -0.159]\n",
            " [  0.28 ]\n",
            " [  1.555]\n",
            " [  5.548]\n",
            " [  2.875]\n",
            " [  3.626]\n",
            " [  7.334]\n",
            " [  2.158]\n",
            " [ -1.047]\n",
            " [ -0.942]\n",
            " [  1.528]\n",
            " [  4.437]\n",
            " [  3.946]\n",
            " [  3.991]\n",
            " [  4.995]\n",
            " [  6.753]\n",
            " [  8.284]\n",
            " [  5.628]\n",
            " [  5.952]\n",
            " [  9.615]\n",
            " [  9.51 ]\n",
            " [ 12.244]\n",
            " [  9.424]\n",
            " [  2.402]\n",
            " [  1.393]\n",
            " [  3.309]\n",
            " [  5.954]\n",
            " [  7.191]\n",
            " [ 10.169]\n",
            " [ 10.094]\n",
            " [ 13.743]\n",
            " [ 12.372]\n",
            " [ 12.309]\n",
            " [ 15.33 ]\n",
            " [ 15.449]\n",
            " [  3.699]\n",
            " [ -0.4  ]\n",
            " [  0.782]\n",
            " [  3.315]\n",
            " [  8.52 ]\n",
            " [ 11.6  ]\n",
            " [ 10.6  ]\n",
            " [ 12.037]\n",
            " [ 11.451]\n",
            " [ 12.991]\n",
            " [ 16.126]\n",
            " [ 14.06 ]\n",
            " [  7.064]\n",
            " [ 13.259]\n",
            " [ 13.686]\n",
            " [ 13.524]\n",
            " [ 14.618]\n",
            " [ 11.846]\n",
            " [ 13.838]\n",
            " [  2.053]\n",
            " [  0.962]\n",
            " [  5.752]\n",
            " [  7.898]\n",
            " [ 10.629]\n",
            " [ 13.433]\n",
            " [ 15.598]\n",
            " [ 13.808]\n",
            " [  8.052]\n",
            " [  5.587]\n",
            " [  2.934]\n",
            " [  7.615]\n",
            " [  9.104]\n",
            " [ 13.366]\n",
            " [ 16.434]\n",
            " [ 17.219]\n",
            " [ 17.453]\n",
            " [ 18.84 ]\n",
            " [ 13.831]\n",
            " [ 10.457]\n",
            " [  6.479]\n",
            " [  2.686]\n",
            " [  3.922]\n",
            " [  6.614]\n",
            " [  5.209]\n",
            " [ 12.437]\n",
            " [ 13.189]\n",
            " [ 17.438]\n",
            " [ 13.971]\n",
            " [  9.855]\n",
            " [ 11.051]\n",
            " [ 12.587]\n",
            " [ 15.364]\n",
            " [ 15.911]\n",
            " [ 17.6  ]\n",
            " [ 17.848]\n",
            " [ 18.24 ]\n",
            " [ 17.777]\n",
            " [ 18.845]\n",
            " [ 20.925]\n",
            " [ 18.39 ]\n",
            " [ 13.504]\n",
            " [ 15.443]\n",
            " [ 17.137]\n",
            " [ 17.654]\n",
            " [ 19.823]\n",
            " [ 21.344]\n",
            " [ 18.736]\n",
            " [ 17.691]\n",
            " [ 17.648]\n",
            " [ 14.909]\n",
            " [ 19.698]\n",
            " [ 19.215]\n",
            " [ 12.516]\n",
            " [ 12.052]\n",
            " [ 13.21 ]\n",
            " [ 17.322]\n",
            " [ 20.203]\n",
            " [ 21.258]\n",
            " [ 22.239]\n",
            " [ 23.866]\n",
            " [ 26.975]\n",
            " [ 24.651]\n",
            " [ 22.77 ]\n",
            " [ 22.014]\n",
            " [ 23.874]\n",
            " [ 21.633]\n",
            " [ 20.368]\n",
            " [ 20.122]\n",
            " [ 22.491]\n",
            " [ 21.703]\n",
            " [ 22.384]\n",
            " [ 21.311]\n",
            " [ 24.762]\n",
            " [ 23.957]\n",
            " [ 23.364]\n",
            " [ 25.183]\n",
            " [ 23.936]\n",
            " [ 23.733]\n",
            " [ 24.523]\n",
            " [ 25.733]\n",
            " [ 25.462]\n",
            " [ 23.42 ]\n",
            " [ 21.137]\n",
            " [ 22.314]\n",
            " [ 23.186]\n",
            " [ 24.413]\n",
            " [ 23.919]\n",
            " [ 22.739]\n",
            " [ 23.808]\n",
            " [ 24.904]\n",
            " [ 23.916]\n",
            " [ 24.473]\n",
            " [ 24.417]\n",
            " [ 22.413]\n",
            " [ 24.611]\n",
            " [ 24.785]\n",
            " [ 25.057]\n",
            " [ 24.941]\n",
            " [ 25.338]\n",
            " [ 22.905]\n",
            " [ 23.393]\n",
            " [ 25.459]\n",
            " [ 23.102]\n",
            " [ 21.836]\n",
            " [ 22.714]\n",
            " [ 21.349]\n",
            " [ 22.896]\n",
            " [ 23.367]\n",
            " [ 21.311]\n",
            " [ 21.729]\n",
            " [ 21.435]\n",
            " [ 24.403]\n",
            " [ 26.491]\n",
            " [ 22.667]\n",
            " [ 23.647]\n",
            " [ 22.986]\n",
            " [ 22.84 ]\n",
            " [ 24.845]\n",
            " [ 20.021]\n",
            " [ 18.477]\n",
            " [ 21.389]\n",
            " [ 22.209]\n",
            " [ 21.284]\n",
            " [ 23.1  ]\n",
            " [ 24.936]\n",
            " [ 26.067]\n",
            " [ 21.023]\n",
            " [ 22.515]\n",
            " [ 25.131]\n",
            " [ 21.701]\n",
            " [ 23.659]\n",
            " [ 16.851]\n",
            " [ 20.121]\n",
            " [ 20.359]\n",
            " [ 18.117]\n",
            " [ 17.389]\n",
            " [ 16.231]\n",
            " [ 19.058]\n",
            " [ 19.799]\n",
            " [ 23.127]\n",
            " [ 22.181]\n",
            " [ 18.735]\n",
            " [ 18.865]\n",
            " [ 20.66 ]\n",
            " [ 16.279]\n",
            " [ 13.746]\n",
            " [ 16.429]\n",
            " [ 18.454]\n",
            " [ 16.31 ]\n",
            " [ 16.157]\n",
            " [ 15.796]\n",
            " [ 15.372]\n",
            " [ 19.619]\n",
            " [ 14.761]\n",
            " [  8.635]\n",
            " [  9.73 ]\n",
            " [ 10.894]\n",
            " [ 13.02 ]\n",
            " [ 13.747]\n",
            " [  9.554]\n",
            " [ 10.464]\n",
            " [ 13.3  ]\n",
            " [ 12.308]\n",
            " [ -1.673]\n",
            " [  1.423]\n",
            " [  6.274]\n",
            " [  9.82 ]\n",
            " [ 11.73 ]\n",
            " [  8.552]\n",
            " [ 12.152]\n",
            " [ 12.792]\n",
            " [ 12.393]\n",
            " [  9.497]\n",
            " [  7.065]\n",
            " [  7.504]\n",
            " [  9.526]\n",
            " [  7.613]\n",
            " [  2.265]\n",
            " [  6.845]\n",
            " [ 10.758]\n",
            " [ -4.739]\n",
            " [ -5.022]\n",
            " [ -8.807]\n",
            " [ -8.924]\n",
            " [ -2.865]\n",
            " [  0.229]\n",
            " [  1.698]\n",
            " [  5.141]\n",
            " [  4.19 ]\n",
            " [  5.219]\n",
            " [  4.235]\n",
            " [  2.372]\n",
            " [  7.648]\n",
            " [ 10.911]\n",
            " [  5.47 ]\n",
            " [ -7.825]\n",
            " [ -0.043]\n",
            " [  8.319]\n",
            " [  5.547]\n",
            " [  7.779]\n",
            " [ 10.66 ]\n",
            " [  4.43 ]\n",
            " [ 11.554]\n",
            " [  7.153]\n",
            " [  4.67 ]\n",
            " [ -1.739]\n",
            " [ -1.255]\n",
            " [  4.217]\n",
            " [  5.667]\n",
            " [  3.452]\n",
            " [ -8.343]\n",
            " [-10.873]\n",
            " [ -5.517]\n",
            " [ -3.236]\n",
            " [ -1.06 ]\n",
            " [ -5.94 ]\n",
            " [  0.889]\n",
            " [  5.218]\n",
            " [  2.47 ]\n",
            " [  2.082]\n",
            " [  1.805]\n",
            " [  3.531]\n",
            " [  4.837]\n",
            " [  0.249]\n",
            " [ -2.283]\n",
            " [ -1.104]\n",
            " [  2.316]\n",
            " [  3.39 ]\n",
            " [ -3.137]\n",
            " [ -5.13 ]\n",
            " [ -4.894]\n",
            " [ -5.347]\n",
            " [ -0.846]\n",
            " [  0.338]\n",
            " [  0.552]\n",
            " [  4.018]\n",
            " [  2.506]\n",
            " [  5.234]\n",
            " [  6.829]\n",
            " [  2.781]\n",
            " [  0.223]\n",
            " [ -1.493]\n",
            " [ -2.695]\n",
            " [ -3.731]\n",
            " [ -5.427]\n",
            " [ -4.175]]\n"
          ],
          "name": "stdout"
        }
      ]
    },
    {
      "cell_type": "code",
      "metadata": {
        "tags": [],
        "id": "G9OGLeED5nhx",
        "colab": {
          "base_uri": "https://localhost:8080/",
          "height": 51
        },
        "outputId": "7cd5b669-7453-411a-ffb8-9b212bc5c846"
      },
      "source": [
        "print(Xnames)\n",
        "print(XnamesAdditional)\n"
      ],
      "execution_count": null,
      "outputs": [
        {
          "output_type": "stream",
          "text": [
            "['bias', 'tave', 'tmax', 'tmin', 'vp', 'rhmax', 'rhmin', 'pp', 'gust']\n",
            "['bias', 'tave', 'tmax', 'tmin', 'vp', 'rhmax', 'rhmin', 'pp', 'gust', 'sr', 'wrun', 'st15mx', 'st15mn']\n"
          ],
          "name": "stdout"
        }
      ]
    },
    {
      "cell_type": "code",
      "metadata": {
        "id": "gs8fmX2M5nh1",
        "colab": {
          "base_uri": "https://localhost:8080/",
          "height": 136
        },
        "outputId": "2c050d36-cdb2-4cec-f018-14fba9595837"
      },
      "source": [
        "useful_data"
      ],
      "execution_count": null,
      "outputs": [
        {
          "output_type": "execute_result",
          "data": {
            "text/plain": [
              "array([[-13.535, -10.073, -16.997, ...,   0.595,   0.   ,   5.155],\n",
              "       [ -5.791,   6.01 , -17.591, ...,   0.216,   0.508,   4.332],\n",
              "       [  1.374,  13.444, -10.696, ...,   0.175,   0.   ,   4.096],\n",
              "       ...,\n",
              "       [ -3.731,   1.871,  -9.333, ...,   0.267,   4.064,  11.486],\n",
              "       [ -5.427,   1.293, -12.147, ...,   0.278,   0.508,   4.586],\n",
              "       [ -4.175,   4.81 , -13.16 , ...,   0.241,   0.   ,   5.566]])"
            ]
          },
          "metadata": {
            "tags": []
          },
          "execution_count": 26
        }
      ]
    },
    {
      "cell_type": "code",
      "metadata": {
        "id": "gOcLCZCQ5nh4",
        "colab": {
          "base_uri": "https://localhost:8080/",
          "height": 34
        },
        "outputId": "a254021b-32ca-48fa-ed5f-c751a5b90eb5"
      },
      "source": [
        "X.shape"
      ],
      "execution_count": null,
      "outputs": [
        {
          "output_type": "execute_result",
          "data": {
            "text/plain": [
              "(364, 8)"
            ]
          },
          "metadata": {
            "tags": []
          },
          "execution_count": 27
        }
      ]
    },
    {
      "cell_type": "code",
      "metadata": {
        "id": "VQLHBv2G5nh-",
        "colab": {
          "base_uri": "https://localhost:8080/",
          "height": 34
        },
        "outputId": "e6b9c91a-7535-4123-f461-dbf3c4293c19"
      },
      "source": [
        "T.shape"
      ],
      "execution_count": null,
      "outputs": [
        {
          "output_type": "execute_result",
          "data": {
            "text/plain": [
              "(364, 1)"
            ]
          },
          "metadata": {
            "tags": []
          },
          "execution_count": 28
        }
      ]
    },
    {
      "cell_type": "markdown",
      "metadata": {
        "id": "gF38dVD55niB"
      },
      "source": [
        "## 15 points:\n",
        "\n",
        "Use the function `train` to train a model for the `X`\n",
        "and `T` data.  Run it several times with different `learning_rate`\n",
        "and `n_epochs` values to produce decreasing errors. Use the `use`\n",
        "function and plots of `T` versus predicted `Y` values to show how\n",
        "well the model is working.  Type your observations of the plot and of the value of `rmse` to discuss how well the model succeeds."
      ]
    },
    {
      "cell_type": "code",
      "metadata": {
        "tags": [],
        "id": "AEmKEbMb5niB",
        "colab": {
          "base_uri": "https://localhost:8080/",
          "height": 187
        },
        "outputId": "3644ef2c-ca9e-4879-ad90-af4513931d9d"
      },
      "source": [
        "model_additional = train(X_additional, T_additional, 0.000001, 10000, verbose=True)"
      ],
      "execution_count": null,
      "outputs": [
        {
          "output_type": "stream",
          "text": [
            "Epoch 1000 RMSE 0.32963\n",
            "Epoch 2000 RMSE 0.30887\n",
            "Epoch 3000 RMSE 0.30586\n",
            "Epoch 4000 RMSE 0.30443\n",
            "Epoch 5000 RMSE 0.30349\n",
            "Epoch 6000 RMSE 0.30275\n",
            "Epoch 7000 RMSE 0.30212\n",
            "Epoch 8000 RMSE 0.30157\n",
            "Epoch 9000 RMSE 0.30108\n",
            "Epoch 10000 RMSE 0.30063\n"
          ],
          "name": "stdout"
        }
      ]
    },
    {
      "cell_type": "code",
      "metadata": {
        "tags": [],
        "id": "kTw0KCsP5niF",
        "colab": {
          "base_uri": "https://localhost:8080/",
          "height": 187
        },
        "outputId": "8a3aed7f-3087-4b32-929a-ab9f682ecc40"
      },
      "source": [
        "model = train(X, T, 0.000001, 7000, verbose=True)"
      ],
      "execution_count": null,
      "outputs": [
        {
          "output_type": "stream",
          "text": [
            "Epoch 700 RMSE 0.48918\n",
            "Epoch 1400 RMSE 0.36921\n",
            "Epoch 2100 RMSE 0.34518\n",
            "Epoch 2800 RMSE 0.33862\n",
            "Epoch 3500 RMSE 0.33583\n",
            "Epoch 4200 RMSE 0.33432\n",
            "Epoch 4900 RMSE 0.33341\n",
            "Epoch 5600 RMSE 0.33285\n",
            "Epoch 6300 RMSE 0.33248\n",
            "Epoch 7000 RMSE 0.33223\n"
          ],
          "name": "stdout"
        }
      ]
    },
    {
      "cell_type": "code",
      "metadata": {
        "tags": [],
        "id": "mO7IGQyR5niJ",
        "colab": {
          "base_uri": "https://localhost:8080/",
          "height": 187
        },
        "outputId": "0521c88e-407b-49e1-9bb5-85466d4545b9"
      },
      "source": [
        "model = train(X, T, 0.001, 20, verbose=True)"
      ],
      "execution_count": null,
      "outputs": [
        {
          "output_type": "stream",
          "text": [
            "Epoch 2 RMSE 0.37014\n",
            "Epoch 4 RMSE 0.33721\n",
            "Epoch 6 RMSE 0.33421\n",
            "Epoch 8 RMSE 0.33336\n",
            "Epoch 10 RMSE 0.33307\n",
            "Epoch 12 RMSE 0.33296\n",
            "Epoch 14 RMSE 0.33291\n",
            "Epoch 16 RMSE 0.33289\n",
            "Epoch 18 RMSE 0.33287\n",
            "Epoch 20 RMSE 0.33287\n"
          ],
          "name": "stdout"
        }
      ]
    },
    {
      "cell_type": "code",
      "metadata": {
        "tags": [],
        "id": "mjLLdzxx5niN",
        "colab": {
          "base_uri": "https://localhost:8080/",
          "height": 187
        },
        "outputId": "35cf5ce1-44a4-4793-a7e6-184986e18d9c"
      },
      "source": [
        "model_additional = train(X_additional, T_additional, 0.001, 2000, verbose=True)"
      ],
      "execution_count": null,
      "outputs": [
        {
          "output_type": "stream",
          "text": [
            "Epoch 200 RMSE 0.29657\n",
            "Epoch 400 RMSE 0.29654\n",
            "Epoch 600 RMSE 0.29653\n",
            "Epoch 800 RMSE 0.29653\n",
            "Epoch 1000 RMSE 0.29653\n",
            "Epoch 1200 RMSE 0.29653\n",
            "Epoch 1400 RMSE 0.29653\n",
            "Epoch 1600 RMSE 0.29653\n",
            "Epoch 1800 RMSE 0.29653\n",
            "Epoch 2000 RMSE 0.29653\n"
          ],
          "name": "stdout"
        }
      ]
    },
    {
      "cell_type": "code",
      "metadata": {
        "tags": [],
        "id": "1h8qv_OX5niQ",
        "colab": {
          "base_uri": "https://localhost:8080/",
          "height": 187
        },
        "outputId": "2d459c19-0e59-4453-acb9-48de1f8bc281"
      },
      "source": [
        "# Seems to give us our best RMSE for the initial 8 columns\n",
        "model = train(X, T, 0.0001, 2000, verbose=True)"
      ],
      "execution_count": null,
      "outputs": [
        {
          "output_type": "stream",
          "text": [
            "Epoch 200 RMSE 0.33178\n",
            "Epoch 400 RMSE 0.33176\n",
            "Epoch 600 RMSE 0.33175\n",
            "Epoch 800 RMSE 0.33174\n",
            "Epoch 1000 RMSE 0.33174\n",
            "Epoch 1200 RMSE 0.33174\n",
            "Epoch 1400 RMSE 0.33174\n",
            "Epoch 1600 RMSE 0.33174\n",
            "Epoch 1800 RMSE 0.33174\n",
            "Epoch 2000 RMSE 0.33173\n"
          ],
          "name": "stdout"
        }
      ]
    },
    {
      "cell_type": "code",
      "metadata": {
        "tags": [],
        "id": "7dJRAiNm5niS",
        "colab": {
          "base_uri": "https://localhost:8080/",
          "height": 187
        },
        "outputId": "dd6ce1a3-1b14-43a4-b742-5e4bd4128817"
      },
      "source": [
        "# Seems to give us our best RMSE values for the additional columns\n",
        "model_additional = train(X_additional, T_additional, 0.0001, 2000, verbose=True)"
      ],
      "execution_count": null,
      "outputs": [
        {
          "output_type": "stream",
          "text": [
            "Epoch 200 RMSE 0.29802\n",
            "Epoch 400 RMSE 0.29612\n",
            "Epoch 600 RMSE 0.29558\n",
            "Epoch 800 RMSE 0.29537\n",
            "Epoch 1000 RMSE 0.29527\n",
            "Epoch 1200 RMSE 0.29521\n",
            "Epoch 1400 RMSE 0.29517\n",
            "Epoch 1600 RMSE 0.29515\n",
            "Epoch 1800 RMSE 0.29514\n",
            "Epoch 2000 RMSE 0.29513\n"
          ],
          "name": "stdout"
        }
      ]
    },
    {
      "cell_type": "markdown",
      "metadata": {
        "id": "JViMaoWppObw"
      },
      "source": [
        "We decided to use a learning rate of .0001 with 2000 epochs because it resulted with the lowest rmse value for both models while running fast. "
      ]
    },
    {
      "cell_type": "code",
      "metadata": {
        "id": "zhywZLDe5niX",
        "colab": {
          "base_uri": "https://localhost:8080/",
          "height": 279
        },
        "outputId": "cdb285fb-9973-418b-8f0b-44c4d9db2a46"
      },
      "source": [
        "Y = use(X, model)\n",
        "plt.plot(T, '.', label='Training Data')\n",
        "plt.plot(Y, 'r.', label='Predicted Data')\n",
        "plt.xlabel('day of year')\n",
        "plt.ylabel('Average Temp')\n",
        "plt.legend();"
      ],
      "execution_count": null,
      "outputs": [
        {
          "output_type": "display_data",
          "data": {
            "image/png": "[encoded data removed]",
            "text/plain": [
              "<Figure size 432x288 with 1 Axes>"
            ]
          },
          "metadata": {
            "tags": [],
            "needs_background": "light"
          }
        }
      ]
    },
    {
      "cell_type": "code",
      "metadata": {
        "id": "5fG1xS8V5nia",
        "colab": {
          "base_uri": "https://localhost:8080/",
          "height": 279
        },
        "outputId": "0672ca62-49c2-47e0-8835-2a0af6180b32"
      },
      "source": [
        "Y_additional = use(X_additional, model_additional)\n",
        "plt.plot(T, '.', label='Training Data')\n",
        "plt.plot(Y_additional, 'r.', label='Predicted Data')\n",
        "plt.xlabel('day of year')\n",
        "plt.ylabel('Average Temp')\n",
        "plt.legend();"
      ],
      "execution_count": null,
      "outputs": [
        {
          "output_type": "display_data",
          "data": {
            "image/png": "[encoded data removed]",
            "text/plain": [
              "<Figure size 432x288 with 1 Axes>"
            ]
          },
          "metadata": {
            "tags": [],
            "needs_background": "light"
          }
        }
      ]
    },
    {
      "cell_type": "code",
      "metadata": {
        "id": "ObNmaTjV5nid",
        "colab": {
          "base_uri": "https://localhost:8080/",
          "height": 279
        },
        "outputId": "c16598bd-a69a-48a8-9105-8f1935acb7bb"
      },
      "source": [
        "plt.plot(T, '.', label='Training Data')\n",
        "plt.xlabel('day of year')\n",
        "plt.legend();"
      ],
      "execution_count": null,
      "outputs": [
        {
          "output_type": "display_data",
          "data": {
            "image/png": "[encoded data removed]",
            "text/plain": [
              "<Figure size 432x288 with 1 Axes>"
            ]
          },
          "metadata": {
            "tags": [],
            "needs_background": "light"
          }
        }
      ]
    },
    {
      "cell_type": "code",
      "metadata": {
        "id": "N69Ym5tV5nif",
        "colab": {
          "base_uri": "https://localhost:8080/",
          "height": 279
        },
        "outputId": "8a8db80f-2cd0-4124-db3e-2bcea33a8bb1"
      },
      "source": [
        "\n",
        "plt.plot(Y, 'r.', label='Predicted Data')\n",
        "plt.xlabel('day of year')\n",
        "plt.legend();"
      ],
      "execution_count": null,
      "outputs": [
        {
          "output_type": "display_data",
          "data": {
            "image/png": "[encoded data removed]",
            "text/plain": [
              "<Figure size 432x288 with 1 Axes>"
            ]
          },
          "metadata": {
            "tags": [],
            "needs_background": "light"
          }
        }
      ]
    },
    {
      "cell_type": "code",
      "metadata": {
        "id": "gP_LNURu5nil",
        "colab": {
          "base_uri": "https://localhost:8080/",
          "height": 279
        },
        "outputId": "f55d08f9-614d-4373-d494-6f08e86e155a"
      },
      "source": [
        "plt.plot(Y_additional, 'r.', label='Predicted Data')\n",
        "plt.xlabel('day of year')\n",
        "plt.legend();"
      ],
      "execution_count": null,
      "outputs": [
        {
          "output_type": "display_data",
          "data": {
            "image/png": "[encoded data removed]",
            "text/plain": [
              "<Figure size 432x288 with 1 Axes>"
            ]
          },
          "metadata": {
            "tags": [],
            "needs_background": "light"
          }
        }
      ]
    },
    {
      "cell_type": "markdown",
      "metadata": {
        "id": "RTEkOJkb5nio"
      },
      "source": [
        "# Discussion of results with basic 8 columns\n",
        "Seems our model is more sporadic when the avearge temperature is more sporadic - which seems to happen in the colder months of the year.  We are still within the same bounds as the actual data. RMSE calc shows about 3.3 degrees celsius.  The temperature spread ranges from ~ -20 to ~30 degrees celsius so an error of just over 3 degrees demonstrates a stong model.\n",
        " \n",
        "The appearance of more error during the cold months seems to be due to the fact that there is a larger temperature variation from day to day in the cold months.  Additional training data from multiple years would help lower our error.\n",
        "\n",
        "After running our model with the suggested 8 columns, we looked at the data to pull in other features that we thought could have an effect.  We added in Solar Radiation, Wind Run, and min/max Soil Temperature at 15 cm.  SR and WRun both played a significant role on reducing our RMSE while the soil temperatures didn't adjust the model much at all. Also after adding the extra features there was a decrease in the weight values of Tmax, Tave, vp and gust. We believe this to be due to the additional features impact on the orignal eight i.e. gust and Wind run(Wrun)."
      ]
    },
    {
      "cell_type": "code",
      "metadata": {
        "id": "-4ffmC4x5nip",
        "colab": {
          "base_uri": "https://localhost:8080/",
          "height": 279
        },
        "outputId": "38988dcb-7ba9-4931-dd19-f110a847387d"
      },
      "source": [
        "plt.plot(T, Y, 'o')\n",
        "plt.xlabel('Predicted TAVE')\n",
        "plt.ylabel('Actual TAVE');\n",
        "plt.plot([-10,30],[-10,30],'r');"
      ],
      "execution_count": null,
      "outputs": [
        {
          "output_type": "display_data",
          "data": {
            "image/png": "[encoded data removed]",
            "text/plain": [
              "<Figure size 432x288 with 1 Axes>"
            ]
          },
          "metadata": {
            "tags": [],
            "needs_background": "light"
          }
        }
      ]
    },
    {
      "cell_type": "code",
      "metadata": {
        "id": "1zOdWxg95niu",
        "colab": {
          "base_uri": "https://localhost:8080/",
          "height": 279
        },
        "outputId": "8a3ef865-413d-4804-db45-4c67e983918e"
      },
      "source": [
        "plt.plot(T, Y_additional, 'o')\n",
        "plt.xlabel('Predicted TAVE')\n",
        "plt.ylabel('Actual TAVE');\n",
        "plt.plot([-10,30],[-10,30],'r');"
      ],
      "execution_count": null,
      "outputs": [
        {
          "output_type": "display_data",
          "data": {
            "image/png": "[encoded data removed]",
            "text/plain": [
              "<Figure size 432x288 with 1 Axes>"
            ]
          },
          "metadata": {
            "tags": [],
            "needs_background": "light"
          }
        }
      ]
    },
    {
      "cell_type": "code",
      "metadata": {
        "id": "4VLj_3GQ5niz",
        "colab": {
          "base_uri": "https://localhost:8080/",
          "height": 34
        },
        "outputId": "2ab1d8d9-9729-4b80-a098-7113d687fb68"
      },
      "source": [
        "rmse(Y, T)"
      ],
      "execution_count": null,
      "outputs": [
        {
          "output_type": "execute_result",
          "data": {
            "text/plain": [
              "3.3158901848022344"
            ]
          },
          "metadata": {
            "tags": []
          },
          "execution_count": 42
        }
      ]
    },
    {
      "cell_type": "code",
      "metadata": {
        "id": "5SGfCrdy5ni3",
        "colab": {
          "base_uri": "https://localhost:8080/",
          "height": 34
        },
        "outputId": "b08a931d-5be4-4735-ed06-8298366d7e0b"
      },
      "source": [
        "rmse(Y_additional, T_additional)"
      ],
      "execution_count": null,
      "outputs": [
        {
          "output_type": "execute_result",
          "data": {
            "text/plain": [
              "2.9494080499066024"
            ]
          },
          "metadata": {
            "tags": []
          },
          "execution_count": 43
        }
      ]
    },
    {
      "cell_type": "markdown",
      "metadata": {
        "id": "z_sONFZ45ni5"
      },
      "source": [
        "## 5 points:\n",
        "\n",
        "Print the weight values in the resulting model along with their corresponding variable names (in `Xnames`). Use the relative magnitude\n",
        "of the weight values to discuss which input variables are most significant in predicting the changes in the tave values."
      ]
    },
    {
      "cell_type": "code",
      "metadata": {
        "tags": [],
        "id": "qQCN1iKJ5ni6",
        "colab": {
          "base_uri": "https://localhost:8080/",
          "height": 170
        },
        "outputId": "c34185b6-4727-4d21-cebb-2a372579e7b1"
      },
      "source": [
        "sortedOrder = np.argsort(np.abs(model['w'].flat))[::-1]\n",
        "Xnames = np.array(Xnames)\n",
        "for wi, name in zip(model['w'].flat[sortedOrder], Xnames[sortedOrder]):\n",
        "    print(f'{wi:8.3f}  {name:s}')"
      ],
      "execution_count": null,
      "outputs": [
        {
          "output_type": "stream",
          "text": [
            "   0.251  tave\n",
            "   0.250  tmax\n",
            "   0.238  tmin\n",
            "   0.226  vp\n",
            "  -0.102  gust\n",
            "  -0.039  rhmin\n",
            "  -0.029  rhmax\n",
            "   0.024  pp\n",
            "  -0.000  bias\n"
          ],
          "name": "stdout"
        }
      ]
    },
    {
      "cell_type": "code",
      "metadata": {
        "tags": [],
        "id": "7fWuY_4u5njC",
        "colab": {
          "base_uri": "https://localhost:8080/",
          "height": 238
        },
        "outputId": "1cf01838-0f84-496d-d389-70303c284826"
      },
      "source": [
        "sortedOrder = np.argsort(np.abs(model_additional['w'].flat))[::-1]\n",
        "XnamesAdditional = np.array(XnamesAdditional)\n",
        "for wi, name in zip(model_additional['w'].flat[sortedOrder], XnamesAdditional[sortedOrder]):\n",
        "    print(f'{wi:8.3f}  {name:s}')"
      ],
      "execution_count": null,
      "outputs": [
        {
          "output_type": "stream",
          "text": [
            "   0.325  tmin\n",
            "   0.202  tave\n",
            "   0.192  sr\n",
            "  -0.145  wrun\n",
            "   0.103  vp\n",
            "   0.089  tmax\n",
            "   0.064  st15mx\n",
            "  -0.036  rhmax\n",
            "   0.033  st15mn\n",
            "   0.016  pp\n",
            "   0.012  rhmin\n",
            "  -0.006  gust\n",
            "   0.000  bias\n"
          ],
          "name": "stdout"
        }
      ]
    },
    {
      "cell_type": "code",
      "metadata": {
        "id": "7B4UckW_5njG",
        "colab": {
          "base_uri": "https://localhost:8080/",
          "height": 272
        },
        "outputId": "671c811a-1172-413f-e94b-22367c517666"
      },
      "source": [
        "model"
      ],
      "execution_count": null,
      "outputs": [
        {
          "output_type": "execute_result",
          "data": {
            "text/plain": [
              "{'Tmeans': array([9.69735165]),\n",
              " 'Tstds': array([9.99956005]),\n",
              " 'Xmeans': array([ 9.67163736, 16.92682967,  2.41645879,  0.80093132,  0.84943956,\n",
              "         0.31448901,  1.14648901,  7.78864286]),\n",
              " 'Xstds': array([10.04712202, 11.24335508,  9.36897334,  0.47412505,  0.10822301,\n",
              "         0.17059411,  2.99470258,  2.86809983]),\n",
              " 'w': array([[-0.00036834],\n",
              "        [ 0.25139679],\n",
              "        [ 0.25047456],\n",
              "        [ 0.23848164],\n",
              "        [ 0.22585272],\n",
              "        [-0.0289884 ],\n",
              "        [-0.03876477],\n",
              "        [ 0.02414865],\n",
              "        [-0.10209242]])}"
            ]
          },
          "metadata": {
            "tags": []
          },
          "execution_count": 46
        }
      ]
    },
    {
      "cell_type": "code",
      "metadata": {
        "id": "8owTHJi35njK",
        "colab": {
          "base_uri": "https://localhost:8080/",
          "height": 374
        },
        "outputId": "0e4d7d0e-120d-41b3-f8e9-e173f7891786"
      },
      "source": [
        "model_additional"
      ],
      "execution_count": null,
      "outputs": [
        {
          "output_type": "execute_result",
          "data": {
            "text/plain": [
              "{'Tmeans': array([9.69735165]),\n",
              " 'Tstds': array([9.99956005]),\n",
              " 'Xmeans': array([ 9.67163736, 16.92682967,  2.41645879,  0.80093132,  0.84943956,\n",
              "         0.31448901,  1.14648901,  7.78864286, 10.79595879, 60.4973544 ,\n",
              "        12.8157967 ,  9.95957967]),\n",
              " 'Xstds': array([10.04712202, 11.24335508,  9.36897334,  0.47412505,  0.10822301,\n",
              "         0.17059411,  2.99470258,  2.86809983,  5.01998576, 22.69066427,\n",
              "         9.77617547,  8.43624504]),\n",
              " 'w': array([[ 4.47050297e-05],\n",
              "        [ 2.01687676e-01],\n",
              "        [ 8.91329685e-02],\n",
              "        [ 3.25470549e-01],\n",
              "        [ 1.03410590e-01],\n",
              "        [-3.64262889e-02],\n",
              "        [ 1.16765855e-02],\n",
              "        [ 1.62599025e-02],\n",
              "        [-6.25281626e-03],\n",
              "        [ 1.91772227e-01],\n",
              "        [-1.45129607e-01],\n",
              "        [ 6.40816905e-02],\n",
              "        [ 3.30458662e-02]])}"
            ]
          },
          "metadata": {
            "tags": []
          },
          "execution_count": 47
        }
      ]
    },
    {
      "cell_type": "markdown",
      "metadata": {
        "id": "U6ZiHT055njO"
      },
      "source": [
        "## Grading and Check-in\n",
        "\n",
        "You must name your notebook as `Lastname-A1.ipynb` with `Lastname` being your last name, and then save this notebook and check it in at the A1 assignment link in our Canvas web page."
      ]
    },
    {
      "cell_type": "markdown",
      "metadata": {
        "id": "vNPUn5CH5njP"
      },
      "source": [
        "## Extra Credit: 1 point"
      ]
    },
    {
      "cell_type": "markdown",
      "metadata": {
        "id": "2U5nAGO95njP"
      },
      "source": [
        "A typical problem when predicting the next value in a time series is\n",
        "that the best solution may be to predict the previous value.  The\n",
        "predicted value will look a lot like the input tave value shifted on\n",
        "time step later.\n",
        "\n",
        "To do better, try predicting the change in tave from one day to the next. `T` can be assigned as"
      ]
    },
    {
      "cell_type": "code",
      "metadata": {
        "id": "Q3pFQ-lf5njQ",
        "colab": {
          "base_uri": "https://localhost:8080/",
          "height": 163
        },
        "outputId": "052fe566-f651-4e48-dcce-67a82db2d624"
      },
      "source": [
        "T = data[1:, 0:1] -  data[:-1, 0:1]"
      ],
      "execution_count": null,
      "outputs": [
        {
          "output_type": "error",
          "ename": "NameError",
          "evalue": "ignored",
          "traceback": [
            "\u001b[0;31m---------------------------------------------------------------------------\u001b[0m",
            "\u001b[0;31mNameError\u001b[0m                                 Traceback (most recent call last)",
            "\u001b[0;32m<ipython-input-48-7ea189d6ccb7>\u001b[0m in \u001b[0;36m<module>\u001b[0;34m()\u001b[0m\n\u001b[0;32m----> 1\u001b[0;31m \u001b[0mT\u001b[0m \u001b[0;34m=\u001b[0m \u001b[0mdata\u001b[0m\u001b[0;34m[\u001b[0m\u001b[0;36m1\u001b[0m\u001b[0;34m:\u001b[0m\u001b[0;34m,\u001b[0m \u001b[0;36m0\u001b[0m\u001b[0;34m:\u001b[0m\u001b[0;36m1\u001b[0m\u001b[0;34m]\u001b[0m \u001b[0;34m-\u001b[0m  \u001b[0mdata\u001b[0m\u001b[0;34m[\u001b[0m\u001b[0;34m:\u001b[0m\u001b[0;34m-\u001b[0m\u001b[0;36m1\u001b[0m\u001b[0;34m,\u001b[0m \u001b[0;36m0\u001b[0m\u001b[0;34m:\u001b[0m\u001b[0;36m1\u001b[0m\u001b[0;34m]\u001b[0m\u001b[0;34m\u001b[0m\u001b[0;34m\u001b[0m\u001b[0m\n\u001b[0m",
            "\u001b[0;31mNameError\u001b[0m: name 'data' is not defined"
          ]
        }
      ]
    },
    {
      "cell_type": "markdown",
      "metadata": {
        "id": "cXBxuIeA5njU"
      },
      "source": [
        "Now repeat the training experiments to pick good `learning_rate` and\n",
        "`n_epochs`.  Use predicted values to produce next day tave values by\n",
        "adding the predicted values to the previous day's tave.  Use `rmse`\n",
        "to determine if this way of predicting next tave is better than\n",
        "directly predicting tave."
      ]
    }
  ]
}