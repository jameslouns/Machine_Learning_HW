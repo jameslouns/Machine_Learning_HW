{
  "nbformat": 4,
  "nbformat_minor": 0,
  "metadata": {
    "kernelspec": {
      "display_name": "Python 3",
      "language": "python",
      "name": "python3"
    },
    "language_info": {
      "codemirror_mode": {
        "name": "ipython",
        "version": 3
      },
      "file_extension": ".py",
      "mimetype": "text/x-python",
      "name": "python",
      "nbconvert_exporter": "python",
      "pygments_lexer": "ipython3",
      "version": "3.8.3"
    },
    "toc": {
      "base_numbering": 1,
      "nav_menu": {},
      "number_sections": true,
      "sideBar": true,
      "skip_h1_title": false,
      "title_cell": "Table of Contents",
      "title_sidebar": "Contents",
      "toc_cell": false,
      "toc_position": {},
      "toc_section_display": true,
      "toc_window_display": true
    },
    "colab": {
      "name": "Cunningham-Lounsbury-A3.ipynb",
      "provenance": []
    },
    "accelerator": "GPU"
  },
  "cells": [
    {
      "cell_type": "markdown",
      "metadata": {
        "id": "s29Jmp7MAmnV"
      },
      "source": [
        "# NNet class in Pytorch"
      ]
    },
    {
      "cell_type": "markdown",
      "metadata": {
        "id": "uHKoqhf3AmnX"
      },
      "source": [
        "In this assignment you will complete an implementation of a neural network class that uses `pytorch`.  You will then use it to conduct some training experiments on specified data.  The data will be partitioned into some number of non-intersecting folds.  You will train, validate and test neural networks of various sizes on all ways of picking one fold to be testing, one fold to be validation, and remaining folds to be training sets."
      ]
    },
    {
      "cell_type": "markdown",
      "metadata": {
        "id": "lm3JRvCbAmnX"
      },
      "source": [
        "## Implementation"
      ]
    },
    {
      "cell_type": "code",
      "metadata": {
        "id": "IRkunNR0AmnY"
      },
      "source": [
        "import numpy as np\n",
        "import torch\n",
        "import pandas\n",
        "import matplotlib.pyplot as plt"
      ],
      "execution_count": null,
      "outputs": []
    },
    {
      "cell_type": "markdown",
      "metadata": {
        "id": "mdMNtC7xAmnf"
      },
      "source": [
        "Complete the following definition of class `NNet` by completing its `train` function."
      ]
    },
    {
      "cell_type": "code",
      "metadata": {
        "id": "zaG-dKQlAmng"
      },
      "source": [
        "class NNet(torch.nn.Module):\n",
        "    \n",
        "    def __init__(self, n_inputs, n_hiddens_per_layer, n_outputs, act_func='tanh'):\n",
        "        super().__init__()  # call parent class (torch.nn.Module) constructor\n",
        "        \n",
        "        # Set self.n_hiddens_per_layer to [] if argument is 0, [], or [0]\n",
        "        if n_hiddens_per_layer == 0 or n_hiddens_per_layer == [] or n_hiddens_per_layer == [0]:\n",
        "            self.n_hiddens_per_layer = []\n",
        "        else:\n",
        "            self.n_hiddens_per_layer = n_hiddens_per_layer\n",
        "\n",
        "        self.hidden_layers = torch.nn.ModuleList()  # necessary for model.to('cuda')\n",
        "\n",
        "        for nh in self.n_hiddens_per_layer:\n",
        "            self.hidden_layers.append( torch.nn.Sequential(\n",
        "                torch.nn.Linear(n_inputs, nh),\n",
        "                torch.nn.Tanh() if act_func == 'tanh' else torch.nn.ReLU()))\n",
        "            \n",
        "            n_inputs = nh\n",
        "\n",
        "        self.output_layer = torch.nn.Linear(n_inputs, n_outputs)\n",
        "            \n",
        "        self.Xmeans = None\n",
        "        self.Xstds = None\n",
        "        self.Tmeans = None\n",
        "        self.Tstds = None\n",
        "\n",
        "        self.error_trace = []\n",
        "        \n",
        "    def forward(self, X):\n",
        "        Y = X\n",
        "        for hidden_layer in self.hidden_layers:\n",
        "            Y = hidden_layer(Y)\n",
        "        Y = self.output_layer(Y)\n",
        "        return Y\n",
        "\n",
        "    def train(self, X, T, n_epochs, learning_rate, verbose=True):\n",
        "\n",
        "        # Set data matrices to torch.tensors if not already.\n",
        "        if not isinstance(X, torch.Tensor):\n",
        "            X = torch.from_numpy(X).float()\n",
        "        if not isinstance(T, torch.Tensor):\n",
        "            T = torch.from_numpy(T).float()\n",
        "            \n",
        "        # Calculate standardization parameters if not already calculated\n",
        "        if self.Xmeans is None:\n",
        "            self.Xmeans = X.mean(0)\n",
        "            self.Xstds = X.std(0)\n",
        "            self.Xstds[self.Xstds == 0] = 1\n",
        "            self.Tmeans = T.mean(0)\n",
        "            self.Tstds = T.std(0)\n",
        "            self.Tstds[self.Tstds == 0] = 1\n",
        "            \n",
        "        # Standardize inputs and targets\n",
        "        X = (X - self.Xmeans) / self.Xstds\n",
        "        T = (T - self.Tmeans) / self.Tstds\n",
        "        \n",
        "        # Set optimizer to Adam and loss functions to MSELoss\n",
        "        optimizer = torch.optim.Adam(self.parameters(), lr=learning_rate)\n",
        "        mse_func = torch.nn.MSELoss()\n",
        "\n",
        "        # For each epoch:\n",
        "        # DONE  Do forward pass to calculate output Y.\n",
        "        # DONE  Calculate mean squared error loss, mse.\n",
        "        # DONE  Calculate gradient of mse with respect to all weights by calling mse.backward().\n",
        "        # DONE  Take weight update step, then zero the gradient values.\n",
        "        # =====TODO=====  Unstandardize the mse error and save in self.error_trace\n",
        "        # DONE  Print epoch+1 and unstandardized error if verbose is True and\n",
        "        #             (epoch+1 is n_epochs or epoch+1 % (n_epochs // 10) == 0)\n",
        "        \n",
        "        for epoch in range(n_epochs):\n",
        "            Y = self.forward(X)\n",
        "    \n",
        "            mse = mse_func(T, Y)\n",
        "            mse.backward()\n",
        "    \n",
        "            optimizer.step() \n",
        "            optimizer.zero_grad()\n",
        "            \n",
        "            mse_unstd = (np.sqrt(mse.cpu().detach().numpy()) * self.Tstds).cpu().numpy().item()\n",
        "            self.error_trace.append(mse_unstd)\n",
        "            \n",
        "            if verbose and ((epoch + 1 is n_epochs) or ((epoch + 1) % (n_epochs // 10) == 0)):\n",
        "                print(f'Epoch {epoch + 1}: RMSE {mse_unstd:.3f}')\n",
        "\n",
        "    def use(self, X):\n",
        " \n",
        "       # Set input matrix to torch.tensors if not already.\n",
        "        if not isinstance(X, torch.Tensor):\n",
        "            X = torch.from_numpy(X).float()\n",
        "\n",
        "        # DONE Standardize X\n",
        "        X = (X - self.Xmeans) / self.Xstds\n",
        "        \n",
        "        # DONE Do forward pass and unstandardize resulting output. Assign to variable Y.\n",
        "        forward_pass = self.forward(X)\n",
        "        Y = forward_pass * self.Tstds + self.Tmeans\n",
        "        \n",
        "        # Return output Y after detaching from computation graph and converting to numpy\n",
        "        return Y.detach().cpu().numpy()"
      ],
      "execution_count": null,
      "outputs": []
    },
    {
      "cell_type": "markdown",
      "metadata": {
        "id": "9ofhDlrNAmnk"
      },
      "source": [
        "## Example"
      ]
    },
    {
      "cell_type": "code",
      "metadata": {
        "scrolled": true,
        "id": "tXxZyUMFAmnl",
        "colab": {
          "base_uri": "https://localhost:8080/",
          "height": 204
        },
        "outputId": "6aff7a56-b96b-4be0-ca9e-1b71da7bf0aa"
      },
      "source": [
        "torch.manual_seed(42)\n",
        "np.random.seed(42)\n",
        "    \n",
        "n_samples = 10000\n",
        "X = np.linspace(0, 10, n_samples).reshape((-1, 1))\n",
        "T = X ** 2\n",
        "\n",
        "n_samples, n_inputs = X.shape \n",
        "n_outputs = T.shape[1]\n",
        "\n",
        "n_hiddens = [100, 100]\n",
        "net = NNet(n_inputs, n_hiddens, n_outputs, act_func='relu')\n",
        "net.train(X, T, 50, 0.01)\n",
        "Y = net.use(X)\n",
        "\n",
        "def rmse(Y, T):\n",
        "    return np.sqrt(np.mean((T - Y)**2))\n",
        "\n",
        "print(f'RMSE {rmse(Y, T):.3f}')"
      ],
      "execution_count": null,
      "outputs": [
        {
          "output_type": "stream",
          "text": [
            "Epoch 5: RMSE 11.155\n",
            "Epoch 10: RMSE 6.062\n",
            "Epoch 15: RMSE 5.169\n",
            "Epoch 20: RMSE 2.103\n",
            "Epoch 25: RMSE 2.317\n",
            "Epoch 30: RMSE 2.636\n",
            "Epoch 35: RMSE 1.463\n",
            "Epoch 40: RMSE 1.137\n",
            "Epoch 45: RMSE 1.170\n",
            "Epoch 50: RMSE 0.922\n",
            "RMSE 0.867\n"
          ],
          "name": "stdout"
        }
      ]
    },
    {
      "cell_type": "code",
      "metadata": {
        "id": "VKyBVkygAmnq",
        "colab": {
          "base_uri": "https://localhost:8080/",
          "height": 585
        },
        "outputId": "d901dede-be37-47c2-a8cb-41ba434b66e9"
      },
      "source": [
        "plt.figure(figsize=(15, 8))\n",
        "\n",
        "plt.subplot(1, 2, 1)\n",
        "plt.plot(T, label='T')\n",
        "plt.plot(Y, label='Y')\n",
        "plt.legend()\n",
        "\n",
        "plt.subplot(1, 2, 2)\n",
        "plt.plot(T, Y, '.')\n",
        "a = max(np.min(T), np.min(Y))\n",
        "b = min(np.max(T), np.max(Y))\n",
        "plt.plot([a, b], [a, b], lw=10, alpha=0.5)\n",
        "plt.xlabel('T')\n",
        "plt.ylabel('Y')\n",
        "plt.tight_layout()"
      ],
      "execution_count": null,
      "outputs": [
        {
          "output_type": "display_data",
          "data": {
            "image/png": "[encoded data removed]",
            "text/plain": [
              "<Figure size 1080x576 with 2 Axes>"
            ]
          },
          "metadata": {
            "tags": [],
            "needs_background": "light"
          }
        }
      ]
    },
    {
      "cell_type": "markdown",
      "metadata": {
        "id": "NyegS9oTAmnx"
      },
      "source": [
        "# Function to generate all train, validate, and test partitions given number of folds"
      ]
    },
    {
      "cell_type": "markdown",
      "metadata": {
        "id": "gK_VMXiFAmnx"
      },
      "source": [
        "## Implementation"
      ]
    },
    {
      "cell_type": "markdown",
      "metadata": {
        "id": "iXOkk5ETAmny"
      },
      "source": [
        "This is complete code for `generate_k_fold_cross_validation_sets`."
      ]
    },
    {
      "cell_type": "code",
      "metadata": {
        "id": "HAd_gjSpAmnz"
      },
      "source": [
        "def generate_k_fold_cross_validation_sets(X, T, n_folds, shuffle=True):\n",
        "\n",
        "    if shuffle:\n",
        "        # Randomly order X and T\n",
        "        randorder = np.arange(X.shape[0])\n",
        "        np.random.shuffle(randorder)\n",
        "        X = X[randorder, :]\n",
        "        T = T[randorder, :]\n",
        "\n",
        "    # Partition X and T into folds\n",
        "    n_samples = X.shape[0]\n",
        "    n_per_fold = round(n_samples / n_folds)\n",
        "    n_last_fold = n_samples - n_per_fold * (n_folds - 1)\n",
        "\n",
        "    folds = []\n",
        "    start = 0\n",
        "    for foldi in range(n_folds-1):\n",
        "        folds.append( (X[start:start + n_per_fold, :], T[start:start + n_per_fold, :]) )\n",
        "        start += n_per_fold\n",
        "    folds.append( (X[start:, :], T[start:, :]) )\n",
        "\n",
        "    # Yield k(k-1) assignments of Xtrain, Train, Xvalidate, Tvalidate, Xtest, Ttest\n",
        "\n",
        "    for validation_i in range(n_folds):\n",
        "        for test_i in range(n_folds):\n",
        "            if test_i == validation_i:\n",
        "                continue\n",
        "\n",
        "            train_i = np.setdiff1d(range(n_folds), [validation_i, test_i])\n",
        "\n",
        "            Xvalidate, Tvalidate = folds[validation_i]\n",
        "            Xtest, Ttest = folds[test_i]\n",
        "            if len(train_i) > 1:\n",
        "                Xtrain = np.vstack([folds[i][0] for i in train_i])\n",
        "                Ttrain = np.vstack([folds[i][1] for i in train_i])\n",
        "            else:\n",
        "                Xtrain, Ttrain = folds[train_i[0]]\n",
        "\n",
        "            yield Xtrain, Ttrain, Xvalidate, Tvalidate, Xtest, Ttest"
      ],
      "execution_count": null,
      "outputs": []
    },
    {
      "cell_type": "markdown",
      "metadata": {
        "id": "G68u75YoAmn3"
      },
      "source": [
        "## Example"
      ]
    },
    {
      "cell_type": "code",
      "metadata": {
        "id": "_kQ06ywZAmn7",
        "colab": {
          "base_uri": "https://localhost:8080/",
          "height": 204
        },
        "outputId": "4edd1b98-1da4-4f84-8c4f-1b3490540597"
      },
      "source": [
        "X = np.arange(2 * 6).reshape((6, 2))\n",
        "T = np.arange(6).reshape((6, 1)) * 10\n",
        "X, T"
      ],
      "execution_count": null,
      "outputs": [
        {
          "output_type": "execute_result",
          "data": {
            "text/plain": [
              "(array([[ 0,  1],\n",
              "        [ 2,  3],\n",
              "        [ 4,  5],\n",
              "        [ 6,  7],\n",
              "        [ 8,  9],\n",
              "        [10, 11]]), array([[ 0],\n",
              "        [10],\n",
              "        [20],\n",
              "        [30],\n",
              "        [40],\n",
              "        [50]]))"
            ]
          },
          "metadata": {
            "tags": []
          },
          "execution_count": 7
        }
      ]
    },
    {
      "cell_type": "code",
      "metadata": {
        "id": "iD4fMQ8qAmoD",
        "colab": {
          "base_uri": "https://localhost:8080/",
          "height": 1000
        },
        "outputId": "1d275f15-3252-4acc-bd62-60b620fcd8bc"
      },
      "source": [
        "np.random.seed(42)\n",
        "\n",
        "for Xtrain, Ttrain, Xvalidate, Tvalidate, Xtest, Ttest in generate_k_fold_cross_validation_sets(X, T, 3):\n",
        "    print()\n",
        "    print('Xtrain\\n', Xtrain)\n",
        "    print('Ttrain\\n', Ttrain)\n",
        "    print('Xvalidate\\n', Xvalidate)\n",
        "    print('Tvalidate\\n', Tvalidate)\n",
        "    print('Xtest\\n', Xtest)\n",
        "    print('Ttest\\n', Ttest)\n",
        "    "
      ],
      "execution_count": null,
      "outputs": [
        {
          "output_type": "stream",
          "text": [
            "\n",
            "Xtrain\n",
            " [[8 9]\n",
            " [6 7]]\n",
            "Ttrain\n",
            " [[40]\n",
            " [30]]\n",
            "Xvalidate\n",
            " [[0 1]\n",
            " [2 3]]\n",
            "Tvalidate\n",
            " [[ 0]\n",
            " [10]]\n",
            "Xtest\n",
            " [[10 11]\n",
            " [ 4  5]]\n",
            "Ttest\n",
            " [[50]\n",
            " [20]]\n",
            "\n",
            "Xtrain\n",
            " [[10 11]\n",
            " [ 4  5]]\n",
            "Ttrain\n",
            " [[50]\n",
            " [20]]\n",
            "Xvalidate\n",
            " [[0 1]\n",
            " [2 3]]\n",
            "Tvalidate\n",
            " [[ 0]\n",
            " [10]]\n",
            "Xtest\n",
            " [[8 9]\n",
            " [6 7]]\n",
            "Ttest\n",
            " [[40]\n",
            " [30]]\n",
            "\n",
            "Xtrain\n",
            " [[8 9]\n",
            " [6 7]]\n",
            "Ttrain\n",
            " [[40]\n",
            " [30]]\n",
            "Xvalidate\n",
            " [[10 11]\n",
            " [ 4  5]]\n",
            "Tvalidate\n",
            " [[50]\n",
            " [20]]\n",
            "Xtest\n",
            " [[0 1]\n",
            " [2 3]]\n",
            "Ttest\n",
            " [[ 0]\n",
            " [10]]\n",
            "\n",
            "Xtrain\n",
            " [[0 1]\n",
            " [2 3]]\n",
            "Ttrain\n",
            " [[ 0]\n",
            " [10]]\n",
            "Xvalidate\n",
            " [[10 11]\n",
            " [ 4  5]]\n",
            "Tvalidate\n",
            " [[50]\n",
            " [20]]\n",
            "Xtest\n",
            " [[8 9]\n",
            " [6 7]]\n",
            "Ttest\n",
            " [[40]\n",
            " [30]]\n",
            "\n",
            "Xtrain\n",
            " [[10 11]\n",
            " [ 4  5]]\n",
            "Ttrain\n",
            " [[50]\n",
            " [20]]\n",
            "Xvalidate\n",
            " [[8 9]\n",
            " [6 7]]\n",
            "Tvalidate\n",
            " [[40]\n",
            " [30]]\n",
            "Xtest\n",
            " [[0 1]\n",
            " [2 3]]\n",
            "Ttest\n",
            " [[ 0]\n",
            " [10]]\n",
            "\n",
            "Xtrain\n",
            " [[0 1]\n",
            " [2 3]]\n",
            "Ttrain\n",
            " [[ 0]\n",
            " [10]]\n",
            "Xvalidate\n",
            " [[8 9]\n",
            " [6 7]]\n",
            "Tvalidate\n",
            " [[40]\n",
            " [30]]\n",
            "Xtest\n",
            " [[10 11]\n",
            " [ 4  5]]\n",
            "Ttest\n",
            " [[50]\n",
            " [20]]\n"
          ],
          "name": "stdout"
        }
      ]
    },
    {
      "cell_type": "markdown",
      "metadata": {
        "id": "dsc2vKX6AmoI"
      },
      "source": [
        "# Function to train NNets and average RMSE over all ways of partitioning"
      ]
    },
    {
      "cell_type": "markdown",
      "metadata": {
        "id": "DvRoIhO1AmoI"
      },
      "source": [
        "## Implementation"
      ]
    },
    {
      "cell_type": "markdown",
      "metadata": {
        "id": "4G4RvpFLAmoJ"
      },
      "source": [
        "Define the following function that trains neural networks of different architectures, given by `list_of_n_hiddens`, for one value each of `n_epochs`, `learning_rate`, and `act_fun`.  For each network, train on all k-fold cross-validation training sets, and calculate the RMSEs for the training, validation and test. Calculate the mean of training, validation and test RMSEs over the k-fold partitions, so that you have one training, one validation, and one test set RMSE for each network.  Append a list of the architecture and these three mean RMSEs to a list of results and return the list as a pandas DataFrame described below when done.\n",
        "\n",
        "To iterate over all k-fold partitions, use a for loop like the example in the previous code cell. Call `generate_k_fold_cross_validation_sets` with `shuffle=True`. "
      ]
    },
    {
      "cell_type": "code",
      "metadata": {
        "id": "oGK7w-ujAmoJ"
      },
      "source": [
        "def run_k_fold_cross_validation(X, T, n_folds, list_of_n_hiddens, \n",
        "                                n_epochs, learning_rate, act_func):\n",
        "    n_samples, n_inputs = X.shape\n",
        "    n_outputs = T.shape[1]\n",
        "    \n",
        "    # Initialize the list for aggregating results\n",
        "    results_list = []\n",
        "    \n",
        "    # Iterate over network architectures given by list_of_n_hiddens\n",
        "    for network in list_of_n_hiddens:\n",
        "        total_train_rmse, total_validate_rmse, total_test_rmse, total_training_sets = 0, 0, 0, 0\n",
        "        \n",
        "        # For each network, train on all k=fold cross-validation training sets\n",
        "        for Xtrain, Ttrain, Xvalidate, Tvalidate, Xtest, Ttest in generate_k_fold_cross_validation_sets(X, T, n_folds):\n",
        "            # Increment for mean RMSE calculation later\n",
        "            total_training_sets += 1\n",
        "            \n",
        "            # Run the netowkr with the given architecture and train on the given training set\n",
        "            net = NNet(n_inputs, network, n_outputs, act_func)\n",
        "            net.train(Xtrain, Ttrain, n_epochs, learning_rate, False)\n",
        "            \n",
        "            # Calculate RMSE values for the current network/cross-validation combination\n",
        "            use_train = net.use(Xtrain)\n",
        "            use_validate = net.use(Xvalidate)\n",
        "            use_test = net.use(Xtest)\n",
        "            rmse_train = np.sqrt(np.mean((Ttrain - use_train)**2)).item()\n",
        "            total_train_rmse += rmse_train\n",
        "            rmse_validate = np.sqrt(np.mean((Tvalidate - use_validate)**2)).item()\n",
        "            total_validate_rmse += rmse_validate\n",
        "            rmse_test = np.sqrt(np.mean((Ttest - use_test)**2)).item()\n",
        "            total_test_rmse += rmse_test\n",
        "        \n",
        "        mean_train_rmse = total_train_rmse / total_training_sets\n",
        "        mean_validate_rmse = total_validate_rmse / total_training_sets\n",
        "        mean_test_rmse = total_test_rmse / total_training_sets\n",
        "        \n",
        "        # Add this network's mean RMSEs to the list\n",
        "        new_row = (network, mean_train_rmse, mean_validate_rmse, mean_test_rmse)\n",
        "        results_list.append(new_row)\n",
        "\n",
        "    # Add all results to a DataFrame\n",
        "    column_names = ['Arch', 'Training RMSE', 'Validate RMSE', 'Test RMSE']\n",
        "    df = pandas.DataFrame(results_list, columns = column_names)\n",
        "    \n",
        "    return df"
      ],
      "execution_count": null,
      "outputs": []
    },
    {
      "cell_type": "markdown",
      "metadata": {
        "id": "fJSX-4OmAmoN"
      },
      "source": [
        "## Apply to Airfoil Data"
      ]
    },
    {
      "cell_type": "markdown",
      "metadata": {
        "id": "ozS33H5ZAmoN"
      },
      "source": [
        "Download `airfoil_self_noise.dat` from [Airfoil Data Website](https://archive.ics.uci.edu/ml/datasets/Airfoil+Self-Noise) and read it as shown below."
      ]
    },
    {
      "cell_type": "code",
      "metadata": {
        "id": "y0_4Bt1pAmoO",
        "colab": {
          "base_uri": "https://localhost:8080/",
          "height": 68
        },
        "outputId": "0369a179-7235-44f8-b215-564528740505"
      },
      "source": [
        "!curl -O https://archive.ics.uci.edu/ml/machine-learning-databases/00291/airfoil_self_noise.dat\n",
        "airfoil = pandas.read_csv('airfoil_self_noise.dat', delimiter='\\t',\n",
        "                          names=('frequency', 'angle', 'chord', \n",
        "                                 'velocity', 'thickness', 'pressure'))"
      ],
      "execution_count": null,
      "outputs": [
        {
          "output_type": "stream",
          "text": [
            "  % Total    % Received % Xferd  Average Speed   Time    Time     Time  Current\n",
            "                                 Dload  Upload   Total   Spent    Left  Speed\n",
            "100 59984  100 59984    0     0   254k      0 --:--:-- --:--:-- --:--:--  254k\n"
          ],
          "name": "stdout"
        }
      ]
    },
    {
      "cell_type": "markdown",
      "metadata": {
        "id": "1ltRQM1LAmoR"
      },
      "source": [
        "Apply your `run_k_fold_cross_validation` to the airfoil data, with `X` being the first five columns of the data and `T` being the last column, the 'pressure'. \n",
        "\n",
        "Here is an example run.  You must try more neural network architectures.  Keep the following points in mind when you choose parameter values to try:\n",
        "* Larger networks will require more epochs of training to converge.\n",
        "* Large learning rates could limit convergence, but small learning rates may take many more epochs than you have patience for.\n",
        "* Display results as a `pandas` `DataFrame` and in plots.  <font color=red>Your tabular results and plots must be described with at least 10 sentences.</font>\n",
        "* Name the columns of your `DataFrame` result to be `columns=('Arch', 'Train RMSE', 'Validate RMSE', 'Test RMSE'))`"
      ]
    },
    {
      "cell_type": "code",
      "metadata": {
        "id": "sEaE2nSsAmoS"
      },
      "source": [
        "X = airfoil.iloc[:,:-1].to_numpy()\n",
        "T = airfoil.iloc[:,-1:].to_numpy()"
      ],
      "execution_count": null,
      "outputs": []
    },
    {
      "cell_type": "code",
      "metadata": {
        "id": "tsDfaTjHAmoX",
        "colab": {
          "base_uri": "https://localhost:8080/",
          "height": 34
        },
        "outputId": "3853a55d-85bd-4aba-e8d3-7195b3f64a11"
      },
      "source": [
        "X.shape, T.shape"
      ],
      "execution_count": null,
      "outputs": [
        {
          "output_type": "execute_result",
          "data": {
            "text/plain": [
              "((1503, 5), (1503, 1))"
            ]
          },
          "metadata": {
            "tags": []
          },
          "execution_count": 12
        }
      ]
    },
    {
      "cell_type": "code",
      "metadata": {
        "id": "FGh9ZcdTAmoa",
        "colab": {
          "base_uri": "https://localhost:8080/",
          "height": 190
        },
        "outputId": "d3a439ec-0c75-439f-814c-f821aeabb1c7"
      },
      "source": [
        "torch.manual_seed(42)\n",
        "np.random.seed(42)\n",
        "\n",
        "import time\n",
        "start = time.time()\n",
        "\n",
        "results = run_k_fold_cross_validation(X, T, 5,\n",
        "                                      [[], [1], [5], [200, 200]],\n",
        "                                      200, 0.01, 'tanh')\n",
        "\n",
        "elapsed = (time.time() - start) / 60/ 60\n",
        "print(f'Took {elapsed:.2f} hours')\n",
        "results"
      ],
      "execution_count": null,
      "outputs": [
        {
          "output_type": "stream",
          "text": [
            "Took 0.01 hours\n"
          ],
          "name": "stdout"
        },
        {
          "output_type": "execute_result",
          "data": {
            "text/html": [
              "<div>\n",
              "<style scoped>\n",
              "    .dataframe tbody tr th:only-of-type {\n",
              "        vertical-align: middle;\n",
              "    }\n",
              "\n",
              "    .dataframe tbody tr th {\n",
              "        vertical-align: top;\n",
              "    }\n",
              "\n",
              "    .dataframe thead th {\n",
              "        text-align: right;\n",
              "    }\n",
              "</style>\n",
              "<table border=\"1\" class=\"dataframe\">\n",
              "  <thead>\n",
              "    <tr style=\"text-align: right;\">\n",
              "      <th></th>\n",
              "      <th>Arch</th>\n",
              "      <th>Training RMSE</th>\n",
              "      <th>Validate RMSE</th>\n",
              "      <th>Test RMSE</th>\n",
              "    </tr>\n",
              "  </thead>\n",
              "  <tbody>\n",
              "    <tr>\n",
              "      <th>0</th>\n",
              "      <td>[]</td>\n",
              "      <td>4.790511</td>\n",
              "      <td>4.839218</td>\n",
              "      <td>4.840742</td>\n",
              "    </tr>\n",
              "    <tr>\n",
              "      <th>1</th>\n",
              "      <td>[1]</td>\n",
              "      <td>4.519531</td>\n",
              "      <td>4.550374</td>\n",
              "      <td>4.544003</td>\n",
              "    </tr>\n",
              "    <tr>\n",
              "      <th>2</th>\n",
              "      <td>[5]</td>\n",
              "      <td>3.945287</td>\n",
              "      <td>4.075278</td>\n",
              "      <td>4.056469</td>\n",
              "    </tr>\n",
              "    <tr>\n",
              "      <th>3</th>\n",
              "      <td>[200, 200]</td>\n",
              "      <td>1.247697</td>\n",
              "      <td>1.835294</td>\n",
              "      <td>1.811896</td>\n",
              "    </tr>\n",
              "  </tbody>\n",
              "</table>\n",
              "</div>"
            ],
            "text/plain": [
              "         Arch  Training RMSE  Validate RMSE  Test RMSE\n",
              "0          []       4.790511       4.839218   4.840742\n",
              "1         [1]       4.519531       4.550374   4.544003\n",
              "2         [5]       3.945287       4.075278   4.056469\n",
              "3  [200, 200]       1.247697       1.835294   1.811896"
            ]
          },
          "metadata": {
            "tags": []
          },
          "execution_count": 13
        }
      ]
    },
    {
      "cell_type": "markdown",
      "metadata": {
        "id": "Hapv-VfMAmod"
      },
      "source": [
        "Here is a handy function to plot the RMSEs you have in your results table.  You may use this function to plot your results.  Remember to describe what you see."
      ]
    },
    {
      "cell_type": "code",
      "metadata": {
        "id": "LfCxfmSDAmoe"
      },
      "source": [
        "def plot_results(results):\n",
        "    errors = results.iloc[:, 1:].values\n",
        "    archs = results.iloc[:, 0].values\n",
        "    archs = [str(ar) for ar in archs]\n",
        "\n",
        "    plt.plot(archs, errors, 'o-')\n",
        "    plt.legend(('Train', 'Validate', 'Test'))\n",
        "    plt.ylabel('RMSE')\n",
        "    plt.xticks(range(errors.shape[0]), archs, rotation=45, ha='right')\n",
        "    plt.tight_layout()"
      ],
      "execution_count": null,
      "outputs": []
    },
    {
      "cell_type": "code",
      "metadata": {
        "id": "rqx5b0ycAmok",
        "colab": {
          "base_uri": "https://localhost:8080/",
          "height": 297
        },
        "outputId": "d898706f-2b55-42eb-a523-5ac57851f17b"
      },
      "source": [
        "plot_results(results)"
      ],
      "execution_count": null,
      "outputs": [
        {
          "output_type": "display_data",
          "data": {
            "image/png": "[encoded data removed]",
            "text/plain": [
              "<Figure size 432x288 with 1 Axes>"
            ]
          },
          "metadata": {
            "tags": [],
            "needs_background": "light"
          }
        }
      ]
    },
    {
      "cell_type": "markdown",
      "metadata": {
        "id": "MmNmgv-2zkNx"
      },
      "source": [
        "For these 4 different acrhs [200,200] is by far the best arch for this data set. It has a significantly lower RMSE value than the other archs, but there is a larger differnce between the train and the test sets."
      ]
    },
    {
      "cell_type": "code",
      "metadata": {
        "id": "N2HIu7EMpcsW",
        "colab": {
          "base_uri": "https://localhost:8080/",
          "height": 190
        },
        "outputId": "5d30aa3a-0830-4f14-dffc-1ef0ea069dfc"
      },
      "source": [
        "torch.manual_seed(42)\n",
        "np.random.seed(42)\n",
        "\n",
        "import time\n",
        "start = time.time()\n",
        "\n",
        "results = run_k_fold_cross_validation(X, T, 5,\n",
        "                                      [[200, 200],[50,100,200],[50,50,50,50],[300,300]],\n",
        "                                      1000, 0.01, 'tanh')\n",
        "\n",
        "elapsed = (time.time() - start) / 60/ 60\n",
        "print(f'Took {elapsed:.2f} hours')\n",
        "results"
      ],
      "execution_count": null,
      "outputs": [
        {
          "output_type": "stream",
          "text": [
            "Took 0.15 hours\n"
          ],
          "name": "stdout"
        },
        {
          "output_type": "execute_result",
          "data": {
            "text/html": [
              "<div>\n",
              "<style scoped>\n",
              "    .dataframe tbody tr th:only-of-type {\n",
              "        vertical-align: middle;\n",
              "    }\n",
              "\n",
              "    .dataframe tbody tr th {\n",
              "        vertical-align: top;\n",
              "    }\n",
              "\n",
              "    .dataframe thead th {\n",
              "        text-align: right;\n",
              "    }\n",
              "</style>\n",
              "<table border=\"1\" class=\"dataframe\">\n",
              "  <thead>\n",
              "    <tr style=\"text-align: right;\">\n",
              "      <th></th>\n",
              "      <th>Arch</th>\n",
              "      <th>Training RMSE</th>\n",
              "      <th>Validate RMSE</th>\n",
              "      <th>Test RMSE</th>\n",
              "    </tr>\n",
              "  </thead>\n",
              "  <tbody>\n",
              "    <tr>\n",
              "      <th>0</th>\n",
              "      <td>[200, 200]</td>\n",
              "      <td>0.433623</td>\n",
              "      <td>1.629706</td>\n",
              "      <td>1.677498</td>\n",
              "    </tr>\n",
              "    <tr>\n",
              "      <th>1</th>\n",
              "      <td>[50, 100, 200]</td>\n",
              "      <td>0.515800</td>\n",
              "      <td>1.468725</td>\n",
              "      <td>1.510950</td>\n",
              "    </tr>\n",
              "    <tr>\n",
              "      <th>2</th>\n",
              "      <td>[50, 50, 50, 50]</td>\n",
              "      <td>0.591242</td>\n",
              "      <td>1.403789</td>\n",
              "      <td>1.400605</td>\n",
              "    </tr>\n",
              "    <tr>\n",
              "      <th>3</th>\n",
              "      <td>[300, 300]</td>\n",
              "      <td>0.419588</td>\n",
              "      <td>1.685651</td>\n",
              "      <td>1.669916</td>\n",
              "    </tr>\n",
              "  </tbody>\n",
              "</table>\n",
              "</div>"
            ],
            "text/plain": [
              "               Arch  Training RMSE  Validate RMSE  Test RMSE\n",
              "0        [200, 200]       0.433623       1.629706   1.677498\n",
              "1    [50, 100, 200]       0.515800       1.468725   1.510950\n",
              "2  [50, 50, 50, 50]       0.591242       1.403789   1.400605\n",
              "3        [300, 300]       0.419588       1.685651   1.669916"
            ]
          },
          "metadata": {
            "tags": []
          },
          "execution_count": 16
        }
      ]
    },
    {
      "cell_type": "code",
      "metadata": {
        "id": "Mmsz2leisIA1",
        "colab": {
          "base_uri": "https://localhost:8080/",
          "height": 297
        },
        "outputId": "05b2c84f-0fa3-4101-81d9-c024b2d145e7"
      },
      "source": [
        "plot_results(results)"
      ],
      "execution_count": null,
      "outputs": [
        {
          "output_type": "display_data",
          "data": {
            "image/png": "[encoded data removed]",
            "text/plain": [
              "<Figure size 432x288 with 1 Axes>"
            ]
          },
          "metadata": {
            "tags": [],
            "needs_background": "light"
          }
        }
      ]
    },
    {
      "cell_type": "markdown",
      "metadata": {
        "id": "lW8TscdB1UBN"
      },
      "source": [
        "For these archs we kept [200,200] as a reference to the previous set. For this set [200,200] and [300,300] had the lowest RMSE values for the train data. But [50,50,50,50] had the lowest RMSE values for the test data. Which implies that [50,50,50,50] would be a better model for this data set.\n"
      ]
    },
    {
      "cell_type": "code",
      "metadata": {
        "id": "jLcB2UUisVQT",
        "colab": {
          "base_uri": "https://localhost:8080/",
          "height": 159
        },
        "outputId": "76770a8d-8648-4d4a-9f0b-dab8a89ebbec"
      },
      "source": [
        "torch.manual_seed(42)\n",
        "np.random.seed(42)\n",
        "\n",
        "import time\n",
        "start = time.time()\n",
        "\n",
        "results = run_k_fold_cross_validation(X, T, 5,\n",
        "                                      [[200, 200],[50,100,200],[300,300]],\n",
        "                                      500, 0.05, 'tanh')\n",
        "\n",
        "elapsed = (time.time() - start) / 60/ 60\n",
        "print(f'Took {elapsed:.2f} hours')\n",
        "results"
      ],
      "execution_count": null,
      "outputs": [
        {
          "output_type": "stream",
          "text": [
            "Took 0.06 hours\n"
          ],
          "name": "stdout"
        },
        {
          "output_type": "execute_result",
          "data": {
            "text/html": [
              "<div>\n",
              "<style scoped>\n",
              "    .dataframe tbody tr th:only-of-type {\n",
              "        vertical-align: middle;\n",
              "    }\n",
              "\n",
              "    .dataframe tbody tr th {\n",
              "        vertical-align: top;\n",
              "    }\n",
              "\n",
              "    .dataframe thead th {\n",
              "        text-align: right;\n",
              "    }\n",
              "</style>\n",
              "<table border=\"1\" class=\"dataframe\">\n",
              "  <thead>\n",
              "    <tr style=\"text-align: right;\">\n",
              "      <th></th>\n",
              "      <th>Arch</th>\n",
              "      <th>Training RMSE</th>\n",
              "      <th>Validate RMSE</th>\n",
              "      <th>Test RMSE</th>\n",
              "    </tr>\n",
              "  </thead>\n",
              "  <tbody>\n",
              "    <tr>\n",
              "      <th>0</th>\n",
              "      <td>[200, 200]</td>\n",
              "      <td>0.910486</td>\n",
              "      <td>2.617486</td>\n",
              "      <td>2.586856</td>\n",
              "    </tr>\n",
              "    <tr>\n",
              "      <th>1</th>\n",
              "      <td>[50, 100, 200]</td>\n",
              "      <td>2.148392</td>\n",
              "      <td>2.994599</td>\n",
              "      <td>2.977439</td>\n",
              "    </tr>\n",
              "    <tr>\n",
              "      <th>2</th>\n",
              "      <td>[300, 300]</td>\n",
              "      <td>1.094534</td>\n",
              "      <td>2.896087</td>\n",
              "      <td>2.943870</td>\n",
              "    </tr>\n",
              "  </tbody>\n",
              "</table>\n",
              "</div>"
            ],
            "text/plain": [
              "             Arch  Training RMSE  Validate RMSE  Test RMSE\n",
              "0      [200, 200]       0.910486       2.617486   2.586856\n",
              "1  [50, 100, 200]       2.148392       2.994599   2.977439\n",
              "2      [300, 300]       1.094534       2.896087   2.943870"
            ]
          },
          "metadata": {
            "tags": []
          },
          "execution_count": 19
        }
      ]
    },
    {
      "cell_type": "code",
      "metadata": {
        "id": "sJlFVY5Otkz1",
        "colab": {
          "base_uri": "https://localhost:8080/",
          "height": 297
        },
        "outputId": "02c980d7-30f3-40d9-c19f-bfdbaec8431b"
      },
      "source": [
        "plot_results(results)"
      ],
      "execution_count": null,
      "outputs": [
        {
          "output_type": "display_data",
          "data": {
            "image/png": "[encoded data removed]",
            "text/plain": [
              "<Figure size 432x288 with 1 Axes>"
            ]
          },
          "metadata": {
            "tags": [],
            "needs_background": "light"
          }
        }
      ]
    },
    {
      "cell_type": "markdown",
      "metadata": {
        "id": "XT8sZdXx3Sxc"
      },
      "source": [
        "For this set we are comparing the effect of changing training rate and the amount of epochs. In comparison to the previous sets the larger training rate and less epcohs resulted in a much higher RMSE values for all archs showing that there not create accurate models."
      ]
    },
    {
      "cell_type": "markdown",
      "metadata": {
        "id": "M0iOaxmi5bP7"
      },
      "source": [
        "WARNING Do not run the cell bellow unless you want to wait for a while i.e. around 1.28 hours"
      ]
    },
    {
      "cell_type": "code",
      "metadata": {
        "id": "N9at15yEtunp",
        "colab": {
          "base_uri": "https://localhost:8080/",
          "height": 159
        },
        "outputId": "74616d20-473b-4af1-f335-0f06e42141fc"
      },
      "source": [
        "torch.manual_seed(42)\n",
        "np.random.seed(42)\n",
        "\n",
        "import time\n",
        "start = time.time()\n",
        "\n",
        "results = run_k_fold_cross_validation(X, T, 5,\n",
        "                                      [[200, 200],[50,100,200],[300,300]],\n",
        "                                      10000, 0.001, 'tanh')\n",
        "\n",
        "elapsed = (time.time() - start) / 60/ 60\n",
        "print(f'Took {elapsed:.2f} hours')\n",
        "results"
      ],
      "execution_count": null,
      "outputs": [
        {
          "output_type": "stream",
          "text": [
            "Took 1.28 hours\n"
          ],
          "name": "stdout"
        },
        {
          "output_type": "execute_result",
          "data": {
            "text/html": [
              "<div>\n",
              "<style scoped>\n",
              "    .dataframe tbody tr th:only-of-type {\n",
              "        vertical-align: middle;\n",
              "    }\n",
              "\n",
              "    .dataframe tbody tr th {\n",
              "        vertical-align: top;\n",
              "    }\n",
              "\n",
              "    .dataframe thead th {\n",
              "        text-align: right;\n",
              "    }\n",
              "</style>\n",
              "<table border=\"1\" class=\"dataframe\">\n",
              "  <thead>\n",
              "    <tr style=\"text-align: right;\">\n",
              "      <th></th>\n",
              "      <th>Arch</th>\n",
              "      <th>Training RMSE</th>\n",
              "      <th>Validate RMSE</th>\n",
              "      <th>Test RMSE</th>\n",
              "    </tr>\n",
              "  </thead>\n",
              "  <tbody>\n",
              "    <tr>\n",
              "      <th>0</th>\n",
              "      <td>[200, 200]</td>\n",
              "      <td>0.121118</td>\n",
              "      <td>1.741529</td>\n",
              "      <td>1.770974</td>\n",
              "    </tr>\n",
              "    <tr>\n",
              "      <th>1</th>\n",
              "      <td>[50, 100, 200]</td>\n",
              "      <td>0.327569</td>\n",
              "      <td>1.599677</td>\n",
              "      <td>1.588627</td>\n",
              "    </tr>\n",
              "    <tr>\n",
              "      <th>2</th>\n",
              "      <td>[300, 300]</td>\n",
              "      <td>0.127285</td>\n",
              "      <td>1.781090</td>\n",
              "      <td>1.829314</td>\n",
              "    </tr>\n",
              "  </tbody>\n",
              "</table>\n",
              "</div>"
            ],
            "text/plain": [
              "             Arch  Training RMSE  Validate RMSE  Test RMSE\n",
              "0      [200, 200]       0.121118       1.741529   1.770974\n",
              "1  [50, 100, 200]       0.327569       1.599677   1.588627\n",
              "2      [300, 300]       0.127285       1.781090   1.829314"
            ]
          },
          "metadata": {
            "tags": []
          },
          "execution_count": 21
        }
      ]
    },
    {
      "cell_type": "code",
      "metadata": {
        "id": "0L1HHKGXFKl8",
        "colab": {
          "base_uri": "https://localhost:8080/",
          "height": 297
        },
        "outputId": "4132f8b2-5e07-4b98-9f69-59a0e1633166"
      },
      "source": [
        "plot_results(results)"
      ],
      "execution_count": null,
      "outputs": [
        {
          "output_type": "display_data",
          "data": {
            "image/png": "[encoded data removed]",
            "text/plain": [
              "<Figure size 432x288 with 1 Axes>"
            ]
          },
          "metadata": {
            "tags": [],
            "needs_background": "light"
          }
        }
      ]
    },
    {
      "cell_type": "markdown",
      "metadata": {
        "id": "jYSKekntaPT4"
      },
      "source": [
        "For this high epoch number and low learning rate we were able to get a very low rmse value for the training data but saw no improvment with the test data set so it looks like we possible over trained our model "
      ]
    },
    {
      "cell_type": "markdown",
      "metadata": {
        "id": "kkPr3Z1bAmon"
      },
      "source": [
        "# Grading and Check-In"
      ]
    },
    {
      "cell_type": "markdown",
      "metadata": {
        "id": "kZ9b4RPbAmoo"
      },
      "source": [
        "Name your notebook as `Lastname-A3.ipynb`| with Lastname being your last name, and then save this notebook and check it in at the A3 assignment link in our Canvas web page."
      ]
    },
    {
      "cell_type": "markdown",
      "metadata": {
        "id": "me3qOFs7Amoo"
      },
      "source": [
        "# Extra Credit"
      ]
    },
    {
      "cell_type": "markdown",
      "metadata": {
        "id": "JqKUvR11Amop"
      },
      "source": [
        "Earn up to 10 extra credit points on this assignment.\n",
        "\n",
        "1. Add a keyword argument `gpu` that is `False` by default.  If set to `True`, move data and neural network model to the GPU and train and test it there.  Compare total execution time without and with the use of the GPU.\n",
        "2. Find another data set, not used previously in an assignment or in lecture, and repeat your training experiment without and with GPU on this new data.\n",
        "\n",
        "Describe all results."
      ]
    },
    {
      "cell_type": "code",
      "metadata": {
        "id": "Ork2fcDqAmoq"
      },
      "source": [
        "def run_k_fold_cross_validation(X, T, n_folds, list_of_n_hiddens, \n",
        "                                n_epochs, learning_rate, act_func, gpu=False):\n",
        "    n_samples, n_inputs = X.shape\n",
        "    n_outputs = T.shape[1]\n",
        "    \n",
        "    # Initialize the list for aggregating results\n",
        "    results_list = []\n",
        "    \n",
        "    # Iterate over network architectures given by list_of_n_hiddens\n",
        "    for network in list_of_n_hiddens:\n",
        "        total_train_rmse, total_validate_rmse, total_test_rmse, total_training_sets = 0, 0, 0, 0\n",
        "        \n",
        "        # For each network, train on all k=fold cross-validation training sets\n",
        "        for Xtrain, Ttrain, Xvalidate, Tvalidate, Xtest, Ttest in generate_k_fold_cross_validation_sets(X, T, n_folds):\n",
        "            # Increment for mean RMSE calculation later\n",
        "            total_training_sets += 1\n",
        "            \n",
        "            # Run the netowkr with the given architecture and train on the given training set\n",
        "            net = NNet(n_inputs, network, n_outputs, act_func)\n",
        "            did_gpu=False\n",
        "            if gpu == True:\n",
        "              #print(torch.cuda.is_available())\n",
        "              if torch.cuda.is_available() == True:\n",
        "                net.to('cuda')\n",
        "                Xtrain=torch.from_numpy(Xtrain).float().to('cuda')\n",
        "                Ttrain=torch.from_numpy(Ttrain).float().to('cuda')\n",
        "                Xtest=torch.from_numpy(Xtest).float().to('cuda')\n",
        "                Xvalidate=torch.from_numpy(Xvalidate).float().to('cuda')\n",
        "                did_gpu=True\n",
        "            net.train(Xtrain, Ttrain, n_epochs, learning_rate, False)\n",
        "            if did_gpu:\n",
        "              Ttrain=Ttrain.cpu().numpy()\n",
        "            # Calculate RMSE values for the current network/cross-validation combination\n",
        "            use_train = net.use(Xtrain)\n",
        "            use_validate = net.use(Xvalidate)\n",
        "            use_test = net.use(Xtest)\n",
        "            rmse_train = np.sqrt(np.mean((Ttrain - use_train)**2)).item()\n",
        "            total_train_rmse += rmse_train\n",
        "            rmse_validate = np.sqrt(np.mean((Tvalidate - use_validate)**2)).item()\n",
        "            total_validate_rmse += rmse_validate\n",
        "            rmse_test = np.sqrt(np.mean((Ttest - use_test)**2)).item()\n",
        "            total_test_rmse += rmse_test\n",
        "\n",
        "        mean_train_rmse = total_train_rmse / total_training_sets\n",
        "        mean_validate_rmse = total_validate_rmse / total_training_sets\n",
        "        mean_test_rmse = total_test_rmse / total_training_sets\n",
        "        \n",
        "        # Add this network's mean RMSEs to the list\n",
        "        new_row = (network, mean_train_rmse, mean_validate_rmse, mean_test_rmse)\n",
        "        results_list.append(new_row)\n",
        "\n",
        "    # Add all results to a DataFrame\n",
        "    column_names = ['Arch', 'Training RMSE', 'Validate RMSE', 'Test RMSE']\n",
        "    df = pandas.DataFrame(results_list, columns = column_names)\n",
        "    \n",
        "    return df"
      ],
      "execution_count": null,
      "outputs": []
    },
    {
      "cell_type": "code",
      "metadata": {
        "id": "oHX9WRRbLkmg",
        "colab": {
          "base_uri": "https://localhost:8080/",
          "height": 207
        },
        "outputId": "22f8f6a1-dbbb-4265-c3e8-4896d060c8cb"
      },
      "source": [
        "torch.manual_seed(42)\n",
        "np.random.seed(42)\n",
        "\n",
        "import time\n",
        "start = time.time()\n",
        "\n",
        "results = run_k_fold_cross_validation(X, T, 5,\n",
        "                                      [[], [1], [5], [200, 200, 200]],\n",
        "                                      400, 0.01, 'tanh')\n",
        "\n",
        "elapsed = (time.time() - start)\n",
        "print(f'Took {elapsed:.2f} seconds')\n",
        "results\n",
        "\n",
        "start = time.time()\n",
        "\n",
        "results = run_k_fold_cross_validation(X, T, 5,\n",
        "                                      [[], [1], [5], [200, 200]],\n",
        "                                      200, 0.01, 'tanh', True)\n",
        "\n",
        "elapsed = (time.time() - start)\n",
        "print(f'Took {elapsed:.2f} seconds')\n",
        "results"
      ],
      "execution_count": null,
      "outputs": [
        {
          "output_type": "stream",
          "text": [
            "Took 98.42 seconds\n",
            "Took 30.44 seconds\n"
          ],
          "name": "stdout"
        },
        {
          "output_type": "execute_result",
          "data": {
            "text/html": [
              "<div>\n",
              "<style scoped>\n",
              "    .dataframe tbody tr th:only-of-type {\n",
              "        vertical-align: middle;\n",
              "    }\n",
              "\n",
              "    .dataframe tbody tr th {\n",
              "        vertical-align: top;\n",
              "    }\n",
              "\n",
              "    .dataframe thead th {\n",
              "        text-align: right;\n",
              "    }\n",
              "</style>\n",
              "<table border=\"1\" class=\"dataframe\">\n",
              "  <thead>\n",
              "    <tr style=\"text-align: right;\">\n",
              "      <th></th>\n",
              "      <th>Arch</th>\n",
              "      <th>Training RMSE</th>\n",
              "      <th>Validate RMSE</th>\n",
              "      <th>Test RMSE</th>\n",
              "    </tr>\n",
              "  </thead>\n",
              "  <tbody>\n",
              "    <tr>\n",
              "      <th>0</th>\n",
              "      <td>[]</td>\n",
              "      <td>4.790863</td>\n",
              "      <td>4.830888</td>\n",
              "      <td>4.835060</td>\n",
              "    </tr>\n",
              "    <tr>\n",
              "      <th>1</th>\n",
              "      <td>[1]</td>\n",
              "      <td>4.481736</td>\n",
              "      <td>4.534722</td>\n",
              "      <td>4.535605</td>\n",
              "    </tr>\n",
              "    <tr>\n",
              "      <th>2</th>\n",
              "      <td>[5]</td>\n",
              "      <td>3.909025</td>\n",
              "      <td>3.978667</td>\n",
              "      <td>3.996896</td>\n",
              "    </tr>\n",
              "    <tr>\n",
              "      <th>3</th>\n",
              "      <td>[200, 200]</td>\n",
              "      <td>1.282880</td>\n",
              "      <td>1.795164</td>\n",
              "      <td>1.796613</td>\n",
              "    </tr>\n",
              "  </tbody>\n",
              "</table>\n",
              "</div>"
            ],
            "text/plain": [
              "         Arch  Training RMSE  Validate RMSE  Test RMSE\n",
              "0          []       4.790863       4.830888   4.835060\n",
              "1         [1]       4.481736       4.534722   4.535605\n",
              "2         [5]       3.909025       3.978667   3.996896\n",
              "3  [200, 200]       1.282880       1.795164   1.796613"
            ]
          },
          "metadata": {
            "tags": []
          },
          "execution_count": 16
        }
      ]
    },
    {
      "cell_type": "markdown",
      "metadata": {
        "id": "uVzGx2zMF9C-"
      },
      "source": [
        "On average from the times that we have run the neural network on cpu vs gpu we are seeing a speed up of 2 to 3 times the cpu. This was slower than what was origopnaly expected, but this may be due to the quality of the gpu's that google colab provides."
      ]
    },
    {
      "cell_type": "markdown",
      "metadata": {
        "id": "arkmLQNNHw9g"
      },
      "source": [
        "This following command is to upload the DropTimes.csv to google colab. If a problem develops with the file a runtime factory reset has always fixed any problem encounted."
      ]
    },
    {
      "cell_type": "code",
      "metadata": {
        "id": "5KdXuwAEtWQG",
        "colab": {
          "resources": {
            "http://localhost:8080/nbextensions/google.colab/files.js": {
              "data": "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",
              "ok": true,
              "headers": [
                [
                  "content-type",
                  "application/javascript"
                ]
              ],
              "status": 200,
              "status_text": ""
            }
          },
          "base_uri": "https://localhost:8080/",
          "height": 72
        },
        "outputId": "db243ce7-0ee8-4aab-e63b-1f6a1d85b910"
      },
      "source": [
        "from google.colab import files\n",
        "uploaded = files.upload()\n"
      ],
      "execution_count": null,
      "outputs": [
        {
          "output_type": "display_data",
          "data": {
            "text/html": [
              "\n",
              "     <input type=\"file\" id=\"files-7ca9d7ff-ac88-4ba5-bd57-d267fe7d5092\" name=\"files[]\" multiple disabled\n",
              "        style=\"border:none\" />\n",
              "     <output id=\"result-7ca9d7ff-ac88-4ba5-bd57-d267fe7d5092\">\n",
              "      Upload widget is only available when the cell has been executed in the\n",
              "      current browser session. Please rerun this cell to enable.\n",
              "      </output>\n",
              "      <script src=\"/nbextensions/google.colab/files.js\"></script> "
            ],
            "text/plain": [
              "<IPython.core.display.HTML object>"
            ]
          },
          "metadata": {
            "tags": []
          }
        },
        {
          "output_type": "stream",
          "text": [
            "Saving DropTimes.csv to DropTimes.csv\n"
          ],
          "name": "stdout"
        }
      ]
    },
    {
      "cell_type": "markdown",
      "metadata": {
        "id": "uzQuj6SDI2EL"
      },
      "source": [
        "The DropTimes.csv contains the data of the time between a water drop and the previous drops. This was origonaly intended to determian the chaotic nature of a water droplets under different nozzle conditions, but for this instance we are using one run of data at a set nozzle size to train our network."
      ]
    },
    {
      "cell_type": "code",
      "metadata": {
        "id": "bv5RD0Iptwut",
        "colab": {
          "base_uri": "https://localhost:8080/",
          "height": 419
        },
        "outputId": "480067e1-d50c-40f8-c83c-c7b5e3c0a089"
      },
      "source": [
        "chaotic_drop_times = pandas.read_csv('DropTimes.csv', delimiter=',',\n",
        "                          names=('tn-5', 'tn-4', \n",
        "                                 'tn-3', 'tn-2', 'tn-1','tn'))\n",
        "chaotic_drop_times = chaotic_drop_times.dropna()\n",
        "chaotic_drop_times.isna().sum()\n",
        "chaotic_drop_times"
      ],
      "execution_count": null,
      "outputs": [
        {
          "output_type": "execute_result",
          "data": {
            "text/html": [
              "<div>\n",
              "<style scoped>\n",
              "    .dataframe tbody tr th:only-of-type {\n",
              "        vertical-align: middle;\n",
              "    }\n",
              "\n",
              "    .dataframe tbody tr th {\n",
              "        vertical-align: top;\n",
              "    }\n",
              "\n",
              "    .dataframe thead th {\n",
              "        text-align: right;\n",
              "    }\n",
              "</style>\n",
              "<table border=\"1\" class=\"dataframe\">\n",
              "  <thead>\n",
              "    <tr style=\"text-align: right;\">\n",
              "      <th></th>\n",
              "      <th>tn-5</th>\n",
              "      <th>tn-4</th>\n",
              "      <th>tn-3</th>\n",
              "      <th>tn-2</th>\n",
              "      <th>tn-1</th>\n",
              "      <th>tn</th>\n",
              "    </tr>\n",
              "  </thead>\n",
              "  <tbody>\n",
              "    <tr>\n",
              "      <th>0</th>\n",
              "      <td>2.073026</td>\n",
              "      <td>1.728606</td>\n",
              "      <td>1.381327</td>\n",
              "      <td>1.036856</td>\n",
              "      <td>0.69267</td>\n",
              "      <td>0.34702</td>\n",
              "    </tr>\n",
              "    <tr>\n",
              "      <th>1</th>\n",
              "      <td>2.070957</td>\n",
              "      <td>1.725747</td>\n",
              "      <td>1.381276</td>\n",
              "      <td>1.037090</td>\n",
              "      <td>0.69144</td>\n",
              "      <td>0.34442</td>\n",
              "    </tr>\n",
              "    <tr>\n",
              "      <th>2</th>\n",
              "      <td>2.074036</td>\n",
              "      <td>1.726486</td>\n",
              "      <td>1.382300</td>\n",
              "      <td>1.036650</td>\n",
              "      <td>0.68963</td>\n",
              "      <td>0.34521</td>\n",
              "    </tr>\n",
              "    <tr>\n",
              "      <th>3</th>\n",
              "      <td>2.075940</td>\n",
              "      <td>1.729850</td>\n",
              "      <td>1.384200</td>\n",
              "      <td>1.037180</td>\n",
              "      <td>0.69276</td>\n",
              "      <td>0.34755</td>\n",
              "    </tr>\n",
              "    <tr>\n",
              "      <th>4</th>\n",
              "      <td>2.076120</td>\n",
              "      <td>1.730290</td>\n",
              "      <td>1.383270</td>\n",
              "      <td>1.038850</td>\n",
              "      <td>0.69364</td>\n",
              "      <td>0.34609</td>\n",
              "    </tr>\n",
              "    <tr>\n",
              "      <th>...</th>\n",
              "      <td>...</td>\n",
              "      <td>...</td>\n",
              "      <td>...</td>\n",
              "      <td>...</td>\n",
              "      <td>...</td>\n",
              "      <td>...</td>\n",
              "    </tr>\n",
              "    <tr>\n",
              "      <th>13309</th>\n",
              "      <td>3.330000</td>\n",
              "      <td>2.780000</td>\n",
              "      <td>2.220000</td>\n",
              "      <td>1.670000</td>\n",
              "      <td>1.11000</td>\n",
              "      <td>0.56000</td>\n",
              "    </tr>\n",
              "    <tr>\n",
              "      <th>13310</th>\n",
              "      <td>3.330000</td>\n",
              "      <td>2.770000</td>\n",
              "      <td>2.220000</td>\n",
              "      <td>1.660000</td>\n",
              "      <td>1.11000</td>\n",
              "      <td>0.55000</td>\n",
              "    </tr>\n",
              "    <tr>\n",
              "      <th>13311</th>\n",
              "      <td>3.330000</td>\n",
              "      <td>2.780000</td>\n",
              "      <td>2.220000</td>\n",
              "      <td>1.670000</td>\n",
              "      <td>1.11000</td>\n",
              "      <td>0.56000</td>\n",
              "    </tr>\n",
              "    <tr>\n",
              "      <th>13312</th>\n",
              "      <td>3.330000</td>\n",
              "      <td>2.770000</td>\n",
              "      <td>2.220000</td>\n",
              "      <td>1.660000</td>\n",
              "      <td>1.11000</td>\n",
              "      <td>0.55000</td>\n",
              "    </tr>\n",
              "    <tr>\n",
              "      <th>13313</th>\n",
              "      <td>3.340000</td>\n",
              "      <td>2.780000</td>\n",
              "      <td>2.220000</td>\n",
              "      <td>1.670000</td>\n",
              "      <td>1.11000</td>\n",
              "      <td>0.56000</td>\n",
              "    </tr>\n",
              "  </tbody>\n",
              "</table>\n",
              "<p>13314 rows × 6 columns</p>\n",
              "</div>"
            ],
            "text/plain": [
              "           tn-5      tn-4      tn-3      tn-2     tn-1       tn\n",
              "0      2.073026  1.728606  1.381327  1.036856  0.69267  0.34702\n",
              "1      2.070957  1.725747  1.381276  1.037090  0.69144  0.34442\n",
              "2      2.074036  1.726486  1.382300  1.036650  0.68963  0.34521\n",
              "3      2.075940  1.729850  1.384200  1.037180  0.69276  0.34755\n",
              "4      2.076120  1.730290  1.383270  1.038850  0.69364  0.34609\n",
              "...         ...       ...       ...       ...      ...      ...\n",
              "13309  3.330000  2.780000  2.220000  1.670000  1.11000  0.56000\n",
              "13310  3.330000  2.770000  2.220000  1.660000  1.11000  0.55000\n",
              "13311  3.330000  2.780000  2.220000  1.670000  1.11000  0.56000\n",
              "13312  3.330000  2.770000  2.220000  1.660000  1.11000  0.55000\n",
              "13313  3.340000  2.780000  2.220000  1.670000  1.11000  0.56000\n",
              "\n",
              "[13314 rows x 6 columns]"
            ]
          },
          "metadata": {
            "tags": []
          },
          "execution_count": 13
        }
      ]
    },
    {
      "cell_type": "code",
      "metadata": {
        "id": "ss-QFM6s2n6T"
      },
      "source": [
        "X = chaotic_drop_times.iloc[:,:-1].to_numpy()\n",
        "Tn = chaotic_drop_times.iloc[:,-1:].to_numpy()\n",
        "Tn_prime=[]\n",
        "for i in range(len(X)):\n",
        "  Tn_prime.append(X[i][4]) "
      ],
      "execution_count": null,
      "outputs": []
    },
    {
      "cell_type": "code",
      "metadata": {
        "id": "ySIf4xa03Q_Z",
        "colab": {
          "base_uri": "https://localhost:8080/",
          "height": 279
        },
        "outputId": "17012672-3870-467a-b07c-02ffe7333e60"
      },
      "source": [
        "\n",
        "plt.ylabel('Time from previos drop(s)')\n",
        "plt.xlabel('Drop Number')\n",
        "plt.plot(Tn, '.', label='Training Data')\n",
        "plt.show()"
      ],
      "execution_count": null,
      "outputs": [
        {
          "output_type": "display_data",
          "data": {
            "image/png": "[encoded data removed]",
            "text/plain": [
              "<Figure size 432x288 with 1 Axes>"
            ]
          },
          "metadata": {
            "tags": [],
            "needs_background": "light"
          }
        }
      ]
    },
    {
      "cell_type": "code",
      "metadata": {
        "id": "BNJEvalwAJ0O",
        "colab": {
          "base_uri": "https://localhost:8080/",
          "height": 283
        },
        "outputId": "215f9084-1407-44f0-ecf4-712374735f39"
      },
      "source": [
        "plt.scatter(Tn,Tn_prime,.01)\n",
        "plt.xlim(.3,.6)\n",
        "plt.ylim(.6,1.1)\n",
        "plt.xlabel('Time from drop two drops before(s)')\n",
        "plt.ylabel('Time from previous drop(s)')\n",
        "plt.show()"
      ],
      "execution_count": null,
      "outputs": [
        {
          "output_type": "display_data",
          "data": {
            "image/png": "[encoded data removed]",
            "text/plain": [
              "<Figure size 432x288 with 1 Axes>"
            ]
          },
          "metadata": {
            "tags": [],
            "needs_background": "light"
          }
        }
      ]
    },
    {
      "cell_type": "markdown",
      "metadata": {
        "id": "lKGUNG9xXOlL"
      },
      "source": [
        "The previos graph was intended to show an interesting relation between drops and the previous times but plt is not showing full number of points "
      ]
    },
    {
      "cell_type": "code",
      "metadata": {
        "id": "tVMYp9U7BuT5",
        "colab": {
          "base_uri": "https://localhost:8080/",
          "height": 190
        },
        "outputId": "3942f285-f74a-4388-de9e-c48bfdb7440b"
      },
      "source": [
        "start = time.time()\n",
        "\n",
        "results = run_k_fold_cross_validation(X, Tn, 5,\n",
        "                                      [[], [1], [5], [200, 200]],\n",
        "                                      200, 0.01, 'tanh')\n",
        "\n",
        "elapsed = (time.time() - start)\n",
        "print(f'Took {elapsed:.2f} seconds')\n",
        "results"
      ],
      "execution_count": null,
      "outputs": [
        {
          "output_type": "stream",
          "text": [
            "Took 196.80 seconds\n"
          ],
          "name": "stdout"
        },
        {
          "output_type": "execute_result",
          "data": {
            "text/html": [
              "<div>\n",
              "<style scoped>\n",
              "    .dataframe tbody tr th:only-of-type {\n",
              "        vertical-align: middle;\n",
              "    }\n",
              "\n",
              "    .dataframe tbody tr th {\n",
              "        vertical-align: top;\n",
              "    }\n",
              "\n",
              "    .dataframe thead th {\n",
              "        text-align: right;\n",
              "    }\n",
              "</style>\n",
              "<table border=\"1\" class=\"dataframe\">\n",
              "  <thead>\n",
              "    <tr style=\"text-align: right;\">\n",
              "      <th></th>\n",
              "      <th>Arch</th>\n",
              "      <th>Training RMSE</th>\n",
              "      <th>Validate RMSE</th>\n",
              "      <th>Test RMSE</th>\n",
              "    </tr>\n",
              "  </thead>\n",
              "  <tbody>\n",
              "    <tr>\n",
              "      <th>0</th>\n",
              "      <td>[]</td>\n",
              "      <td>0.008431</td>\n",
              "      <td>0.008470</td>\n",
              "      <td>0.008437</td>\n",
              "    </tr>\n",
              "    <tr>\n",
              "      <th>1</th>\n",
              "      <td>[1]</td>\n",
              "      <td>0.014219</td>\n",
              "      <td>0.014194</td>\n",
              "      <td>0.014281</td>\n",
              "    </tr>\n",
              "    <tr>\n",
              "      <th>2</th>\n",
              "      <td>[5]</td>\n",
              "      <td>0.008858</td>\n",
              "      <td>0.008853</td>\n",
              "      <td>0.008837</td>\n",
              "    </tr>\n",
              "    <tr>\n",
              "      <th>3</th>\n",
              "      <td>[200, 200]</td>\n",
              "      <td>0.007185</td>\n",
              "      <td>0.007344</td>\n",
              "      <td>0.007320</td>\n",
              "    </tr>\n",
              "  </tbody>\n",
              "</table>\n",
              "</div>"
            ],
            "text/plain": [
              "         Arch  Training RMSE  Validate RMSE  Test RMSE\n",
              "0          []       0.008431       0.008470   0.008437\n",
              "1         [1]       0.014219       0.014194   0.014281\n",
              "2         [5]       0.008858       0.008853   0.008837\n",
              "3  [200, 200]       0.007185       0.007344   0.007320"
            ]
          },
          "metadata": {
            "tags": []
          },
          "execution_count": 25
        }
      ]
    },
    {
      "cell_type": "code",
      "metadata": {
        "id": "snTbQcSuvx-2",
        "colab": {
          "base_uri": "https://localhost:8080/",
          "height": 190
        },
        "outputId": "a0bcec1d-e3bb-4799-ad98-85982b6fcd80"
      },
      "source": [
        "start = time.time()\n",
        "\n",
        "results = run_k_fold_cross_validation(X, Tn, 5,\n",
        "                                      [[], [1], [5], [200, 200]],\n",
        "                                      200, 0.01, 'tanh', True)\n",
        "\n",
        "elapsed = (time.time() - start)\n",
        "print(f'Took {elapsed:.2f} seconds')\n",
        "results"
      ],
      "execution_count": null,
      "outputs": [
        {
          "output_type": "stream",
          "text": [
            "Took 21.60 seconds\n"
          ],
          "name": "stdout"
        },
        {
          "output_type": "execute_result",
          "data": {
            "text/html": [
              "<div>\n",
              "<style scoped>\n",
              "    .dataframe tbody tr th:only-of-type {\n",
              "        vertical-align: middle;\n",
              "    }\n",
              "\n",
              "    .dataframe tbody tr th {\n",
              "        vertical-align: top;\n",
              "    }\n",
              "\n",
              "    .dataframe thead th {\n",
              "        text-align: right;\n",
              "    }\n",
              "</style>\n",
              "<table border=\"1\" class=\"dataframe\">\n",
              "  <thead>\n",
              "    <tr style=\"text-align: right;\">\n",
              "      <th></th>\n",
              "      <th>Arch</th>\n",
              "      <th>Training RMSE</th>\n",
              "      <th>Validate RMSE</th>\n",
              "      <th>Test RMSE</th>\n",
              "    </tr>\n",
              "  </thead>\n",
              "  <tbody>\n",
              "    <tr>\n",
              "      <th>0</th>\n",
              "      <td>[]</td>\n",
              "      <td>0.008408</td>\n",
              "      <td>0.008340</td>\n",
              "      <td>0.008442</td>\n",
              "    </tr>\n",
              "    <tr>\n",
              "      <th>1</th>\n",
              "      <td>[1]</td>\n",
              "      <td>0.013584</td>\n",
              "      <td>0.013571</td>\n",
              "      <td>0.013574</td>\n",
              "    </tr>\n",
              "    <tr>\n",
              "      <th>2</th>\n",
              "      <td>[5]</td>\n",
              "      <td>0.008963</td>\n",
              "      <td>0.008950</td>\n",
              "      <td>0.008950</td>\n",
              "    </tr>\n",
              "    <tr>\n",
              "      <th>3</th>\n",
              "      <td>[200, 200]</td>\n",
              "      <td>0.007213</td>\n",
              "      <td>0.007288</td>\n",
              "      <td>0.007294</td>\n",
              "    </tr>\n",
              "  </tbody>\n",
              "</table>\n",
              "</div>"
            ],
            "text/plain": [
              "         Arch  Training RMSE  Validate RMSE  Test RMSE\n",
              "0          []       0.008408       0.008340   0.008442\n",
              "1         [1]       0.013584       0.013571   0.013574\n",
              "2         [5]       0.008963       0.008950   0.008950\n",
              "3  [200, 200]       0.007213       0.007288   0.007294"
            ]
          },
          "metadata": {
            "tags": []
          },
          "execution_count": 23
        }
      ]
    },
    {
      "cell_type": "markdown",
      "metadata": {
        "id": "wsIS_AsxYvbr"
      },
      "source": [
        "For this data set we are seeing a much larger speed up with the gpu. On average we are seeing a 10-15 times speed increase. This is most likely due to the data set being around 10 times larger so it can take much more advantage of the gpu."
      ]
    },
    {
      "cell_type": "code",
      "metadata": {
        "id": "_M8HjQh8jfRH",
        "colab": {
          "base_uri": "https://localhost:8080/",
          "height": 297
        },
        "outputId": "75997bae-152f-4c42-9cdd-789b057b838b"
      },
      "source": [
        "plot_results(results)"
      ],
      "execution_count": null,
      "outputs": [
        {
          "output_type": "display_data",
          "data": {
            "image/png": "[encoded data removed]",
            "text/plain": [
              "<Figure size 432x288 with 1 Axes>"
            ]
          },
          "metadata": {
            "tags": [],
            "needs_background": "light"
          }
        }
      ]
    },
    {
      "cell_type": "markdown",
      "metadata": {
        "id": "Y2rBLMSvaUE9"
      },
      "source": [
        "From this Rmse data we can see that for this data set the Neural Network is extermly accurate for all values for hidden layers and all values. from this i feel confidant in saying that it has created a very usible model for this data set,  "
      ]
    }
  ]
}