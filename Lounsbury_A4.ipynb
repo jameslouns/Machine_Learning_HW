{
  "nbformat": 4,
  "nbformat_minor": 0,
  "metadata": {
    "colab": {
      "name": "Lounsbury-A4.ipynb",
      "provenance": [],
      "collapsed_sections": []
    },
    "kernelspec": {
      "display_name": "Python 3",
      "language": "python",
      "name": "python3"
    },
    "language_info": {
      "codemirror_mode": {
        "name": "ipython",
        "version": 3
      },
      "file_extension": ".py",
      "mimetype": "text/x-python",
      "name": "python",
      "nbconvert_exporter": "python",
      "pygments_lexer": "ipython3",
      "version": "3.8.3"
    },
    "toc": {
      "base_numbering": 1,
      "nav_menu": {},
      "number_sections": true,
      "sideBar": true,
      "skip_h1_title": false,
      "title_cell": "Table of Contents",
      "title_sidebar": "Contents",
      "toc_cell": false,
      "toc_position": {},
      "toc_section_display": true,
      "toc_window_display": true
    }
  },
  "cells": [
    {
      "cell_type": "markdown",
      "metadata": {
        "id": "ZQG4aW56ILlp"
      },
      "source": [
        "# A4 Classification of Hand-Drawn Digits\n",
        "\n",
        "In this assignment, you will define a new class named `NeuralNetworkClassifier` that extends the `NeuralNetwork` class provided here and is the solution to Assignment A2.  You will use `NeuralNetworkClassifier` to train a classifier of hand-drawn digits.\n",
        "\n",
        "You will also define the function `confusion_matrix`."
      ]
    },
    {
      "cell_type": "markdown",
      "metadata": {
        "id": "TL3C6tVsILlq"
      },
      "source": [
        "## `NeuralNetwork` class"
      ]
    },
    {
      "cell_type": "code",
      "metadata": {
        "id": "MrQik0CdILlr"
      },
      "source": [
        "import matplotlib.pyplot as plt"
      ],
      "execution_count": null,
      "outputs": []
    },
    {
      "cell_type": "markdown",
      "metadata": {
        "id": "4lvdBle9ILlx"
      },
      "source": [
        "The following code cell will write its contents to `optimizers.py` so the `import optimizers` statement in the code cell after it will work correctly."
      ]
    },
    {
      "cell_type": "code",
      "metadata": {
        "id": "1paHjL6hILlx",
        "colab": {
          "base_uri": "https://localhost:8080/"
        },
        "outputId": "9b398f05-3a07-46e4-a572-b0c41b4b2b41"
      },
      "source": [
        "%%writefile optimizers.py\n",
        "import numpy as np\n",
        "\n",
        "######################################################################\n",
        "## class Optimizers()\n",
        "######################################################################\n",
        "\n",
        "class Optimizers():\n",
        "\n",
        "    def __init__(self, all_weights):\n",
        "        '''all_weights is a vector of all of a neural networks weights concatenated into a one-dimensional vector'''\n",
        "        \n",
        "        self.all_weights = all_weights\n",
        "\n",
        "        # The following initializations are only used by adam.\n",
        "        # Only initializing m, v, beta1t and beta2t here allows multiple calls to adam to handle training\n",
        "        # with multiple subsets (batches) of training data.\n",
        "        self.mt = np.zeros_like(all_weights)\n",
        "        self.vt = np.zeros_like(all_weights)\n",
        "        self.beta1 = 0.9\n",
        "        self.beta2 = 0.999\n",
        "        self.beta1t = 1\n",
        "        self.beta2t = 1\n",
        "\n",
        "        \n",
        "    def sgd(self, error_f, gradient_f, fargs=[], n_epochs=100, learning_rate=0.001, verbose=True, error_convert_f=None):\n",
        "        '''\n",
        "error_f: function that requires X and T as arguments (given in fargs) and returns mean squared error.\n",
        "gradient_f: function that requires X and T as arguments (in fargs) and returns gradient of mean squared error\n",
        "            with respect to each weight.\n",
        "error_convert_f: function that converts the standardized error from error_f to original T units.\n",
        "        '''\n",
        "\n",
        "        error_trace = []\n",
        "        epochs_per_print = n_epochs // 10\n",
        "\n",
        "        for epoch in range(n_epochs):\n",
        "\n",
        "            error = error_f(*fargs)\n",
        "            grad = gradient_f(*fargs)\n",
        "\n",
        "            # Update all weights using -= to modify their values in-place.\n",
        "            self.all_weights -= learning_rate * grad\n",
        "\n",
        "            if error_convert_f:\n",
        "                error = error_convert_f(error)\n",
        "            error_trace.append(error)\n",
        "\n",
        "            if verbose and ((epoch + 1) % max(1, epochs_per_print) == 0):\n",
        "                print(f'sgd: Epoch {epoch+1:d} Error={error:.5f}')\n",
        "\n",
        "        return error_trace\n",
        "\n",
        "    def adam(self, error_f, gradient_f, fargs=[], n_epochs=100, learning_rate=0.001, verbose=True, error_convert_f=None):\n",
        "        '''\n",
        "error_f: function that requires X and T as arguments (given in fargs) and returns mean squared error.\n",
        "gradient_f: function that requires X and T as arguments (in fargs) and returns gradient of mean squared error\n",
        "            with respect to each weight.\n",
        "error_convert_f: function that converts the standardized error from error_f to original T units.\n",
        "        '''\n",
        "\n",
        "        alpha = learning_rate  # learning rate called alpha in original paper on adam\n",
        "        epsilon = 1e-8\n",
        "        error_trace = []\n",
        "        epochs_per_print = n_epochs // 10\n",
        "\n",
        "        for epoch in range(n_epochs):\n",
        "\n",
        "            error = error_f(*fargs)\n",
        "            grad = gradient_f(*fargs)\n",
        "\n",
        "            self.mt[:] = self.beta1 * self.mt + (1 - self.beta1) * grad\n",
        "            self.vt[:] = self.beta2 * self.vt + (1 - self.beta2) * grad * grad\n",
        "            self.beta1t *= self.beta1\n",
        "            self.beta2t *= self.beta2\n",
        "\n",
        "            m_hat = self.mt / (1 - self.beta1t)\n",
        "            v_hat = self.vt / (1 - self.beta2t)\n",
        "\n",
        "            # Update all weights using -= to modify their values in-place.\n",
        "            self.all_weights -= alpha * m_hat / (np.sqrt(v_hat) + epsilon)\n",
        "    \n",
        "            if error_convert_f:\n",
        "                error = error_convert_f(error)\n",
        "            error_trace.append(error)\n",
        "\n",
        "            if verbose and ((epoch + 1) % max(1, epochs_per_print) == 0):\n",
        "                print(f'Adam: Epoch {epoch+1:d} Error={error:.5f}')\n",
        "\n",
        "        return error_trace\n",
        "\n",
        "if __name__ == '__main__':\n",
        "\n",
        "    import matplotlib.pyplot as plt\n",
        "    plt.ion()\n",
        "\n",
        "    def parabola(wmin):\n",
        "        return ((w - wmin) ** 2)[0]\n",
        "\n",
        "    def parabola_gradient(wmin):\n",
        "        return 2 * (w - wmin)\n",
        "\n",
        "    w = np.array([0.0])\n",
        "    optimizer = Optimizers(w)\n",
        "\n",
        "    wmin = 5\n",
        "    optimizer.sgd(parabola, parabola_gradient, [wmin],\n",
        "                  n_epochs=500, learning_rate=0.1)\n",
        "\n",
        "    print(f'sgd: Minimum of parabola is at {wmin}. Value found is {w}')\n",
        "\n",
        "    w = np.array([0.0])\n",
        "    optimizer = Optimizers(w)\n",
        "    optimizer.adam(parabola, parabola_gradient, [wmin],\n",
        "                   n_epochs=500, learning_rate=0.1)\n",
        "    \n",
        "    print(f'adam: Minimum of parabola is at {wmin}. Value found is {w}')"
      ],
      "execution_count": null,
      "outputs": [
        {
          "output_type": "stream",
          "text": [
            "Writing optimizers.py\n"
          ],
          "name": "stdout"
        }
      ]
    },
    {
      "cell_type": "code",
      "metadata": {
        "id": "Mrln6bUhILl2"
      },
      "source": [
        "import numpy as np\n",
        "import optimizers\n",
        "import sys  # for sys.float_info.epsilon\n",
        "\n",
        "######################################################################\n",
        "## class NeuralNetwork()\n",
        "######################################################################\n",
        "\n",
        "class NeuralNetwork():\n",
        "\n",
        "\n",
        "    def __init__(self, n_inputs, n_hiddens_per_layer, n_outputs, activation_function='tanh'):\n",
        "        self.n_inputs = n_inputs\n",
        "        self.n_outputs = n_outputs\n",
        "        self.activation_function = activation_function\n",
        "\n",
        "        # Set self.n_hiddens_per_layer to [] if argument is 0, [], or [0]\n",
        "        if n_hiddens_per_layer == 0 or n_hiddens_per_layer == [] or n_hiddens_per_layer == [0]:\n",
        "            self.n_hiddens_per_layer = []\n",
        "        else:\n",
        "            self.n_hiddens_per_layer = n_hiddens_per_layer\n",
        "\n",
        "        # Initialize weights, by first building list of all weight matrix shapes.\n",
        "        n_in = n_inputs\n",
        "        shapes = []\n",
        "        for nh in self.n_hiddens_per_layer:\n",
        "            shapes.append((n_in + 1, nh))\n",
        "            n_in = nh\n",
        "        shapes.append((n_in + 1, n_outputs))\n",
        "\n",
        "        # self.all_weights:  vector of all weights\n",
        "        # self.Ws: list of weight matrices by layer\n",
        "        self.all_weights, self.Ws = self.make_weights_and_views(shapes)\n",
        "\n",
        "        # Define arrays to hold gradient values.\n",
        "        # One array for each W array with same shape.\n",
        "        self.all_gradients, self.dE_dWs = self.make_weights_and_views(shapes)\n",
        "\n",
        "        self.trained = False\n",
        "        self.total_epochs = 0\n",
        "        self.error_trace = []\n",
        "        self.Xmeans = None\n",
        "        self.Xstds = None\n",
        "        self.Tmeans = None\n",
        "        self.Tstds = None\n",
        "\n",
        "\n",
        "    def make_weights_and_views(self, shapes):\n",
        "        # vector of all weights built by horizontally stacking flatenned matrices\n",
        "        # for each layer initialized with uniformly-distributed values.\n",
        "        all_weights = np.hstack([np.random.uniform(size=shape).flat / np.sqrt(shape[0])\n",
        "                                 for shape in shapes])\n",
        "        # Build list of views by reshaping corresponding elements from vector of all weights\n",
        "        # into correct shape for each layer.\n",
        "        views = []\n",
        "        start = 0\n",
        "        for shape in shapes:\n",
        "            size =shape[0] * shape[1]\n",
        "            views.append(all_weights[start:start + size].reshape(shape))\n",
        "            start += size\n",
        "        return all_weights, views\n",
        "\n",
        "\n",
        "    # Return string that shows how the constructor was called\n",
        "    def __repr__(self):\n",
        "        return f'{type(self).__name__}({self.n_inputs}, {self.n_hiddens_per_layer}, {self.n_outputs}, \\'{self.activation_function}\\')'\n",
        "\n",
        "\n",
        "    # Return string that is more informative to the user about the state of this neural network.\n",
        "    def __str__(self):\n",
        "        result = self.__repr__()\n",
        "        if len(self.error_trace) > 0:\n",
        "            return self.__repr__() + f' trained for {len(self.error_trace)} epochs, final training error {self.error_trace[-1]:.4f}'\n",
        "\n",
        "\n",
        "    def train(self, X, T, n_epochs, learning_rate, method='sgd', verbose=True):\n",
        "        '''\n",
        "train: \n",
        "  X: n_samples x n_inputs matrix of input samples, one per row\n",
        "  T: n_samples x n_outputs matrix of target output values, one sample per row\n",
        "  n_epochs: number of passes to take through all samples updating weights each pass\n",
        "  learning_rate: factor controlling the step size of each update\n",
        "  method: is either 'sgd' or 'adam'\n",
        "        '''\n",
        "\n",
        "        # Setup standardization parameters\n",
        "        if self.Xmeans is None:\n",
        "            self.Xmeans = X.mean(axis=0)\n",
        "            self.Xstds = X.std(axis=0)\n",
        "            self.Xstds[self.Xstds == 0] = 1  # So we don't divide by zero when standardizing\n",
        "            self.Tmeans = T.mean(axis=0)\n",
        "            self.Tstds = T.std(axis=0)\n",
        "            \n",
        "        # Standardize X and T\n",
        "        X = (X - self.Xmeans) / self.Xstds\n",
        "        T = (T - self.Tmeans) / self.Tstds\n",
        "\n",
        "        # Instantiate Optimizers object by giving it vector of all weights\n",
        "        optimizer = optimizers.Optimizers(self.all_weights)\n",
        "\n",
        "        # Define function to convert value from error_f into error in original T units, \n",
        "        # but only if the network has a single output. Multiplying by self.Tstds for \n",
        "        # multiple outputs does not correctly unstandardize the error.\n",
        "        if len(self.Tstds) == 1:\n",
        "            error_convert_f = lambda err: (np.sqrt(err) * self.Tstds)[0] # to scalar\n",
        "        else:\n",
        "            error_convert_f = lambda err: np.sqrt(err)[0] # to scalar\n",
        "            \n",
        "\n",
        "        if method == 'sgd':\n",
        "\n",
        "            error_trace = optimizer.sgd(self.error_f, self.gradient_f,\n",
        "                                        fargs=[X, T], n_epochs=n_epochs,\n",
        "                                        learning_rate=learning_rate,\n",
        "                                        verbose=True,\n",
        "                                        error_convert_f=error_convert_f)\n",
        "\n",
        "        elif method == 'adam':\n",
        "\n",
        "            error_trace = optimizer.adam(self.error_f, self.gradient_f,\n",
        "                                         fargs=[X, T], n_epochs=n_epochs,\n",
        "                                         learning_rate=learning_rate,\n",
        "                                         verbose=True,\n",
        "                                         error_convert_f=error_convert_f)\n",
        "\n",
        "        else:\n",
        "            raise Exception(\"method must be 'sgd' or 'adam'\")\n",
        "        \n",
        "        self.error_trace = error_trace\n",
        "\n",
        "        # Return neural network object to allow applying other methods after training.\n",
        "        #  Example:    Y = nnet.train(X, T, 100, 0.01).use(X)\n",
        "        return self\n",
        "\n",
        "    def relu(self, s):\n",
        "        s[s < 0] = 0\n",
        "        return s\n",
        "\n",
        "    def grad_relu(self, s):\n",
        "        return (s > 0).astype(int)\n",
        "    \n",
        "    def forward_pass(self, X):\n",
        "        '''X assumed already standardized. Output returned as standardized.'''\n",
        "        self.Ys = [X]\n",
        "        for W in self.Ws[:-1]:\n",
        "            if self.activation_function == 'relu':\n",
        "                self.Ys.append(self.relu(self.Ys[-1] @ W[1:, :] + W[0:1, :]))\n",
        "            else:\n",
        "                self.Ys.append(np.tanh(self.Ys[-1] @ W[1:, :] + W[0:1, :]))\n",
        "        last_W = self.Ws[-1]\n",
        "        self.Ys.append(self.Ys[-1] @ last_W[1:, :] + last_W[0:1, :])\n",
        "        return self.Ys\n",
        "\n",
        "    # Function to be minimized by optimizer method, mean squared error\n",
        "    def error_f(self, X, T):\n",
        "        Ys = self.forward_pass(X)\n",
        "        mean_sq_error = np.mean((T - Ys[-1]) ** 2)\n",
        "        return mean_sq_error\n",
        "\n",
        "    # Gradient of function to be minimized for use by optimizer method\n",
        "    def gradient_f(self, X, T):\n",
        "        '''Assumes forward_pass just called with layer outputs in self.Ys.'''\n",
        "        error = T - self.Ys[-1]\n",
        "        n_samples = X.shape[0]\n",
        "        n_outputs = T.shape[1]\n",
        "        delta = - error / (n_samples * n_outputs)\n",
        "        n_layers = len(self.n_hiddens_per_layer) + 1\n",
        "        # Step backwards through the layers to back-propagate the error (delta)\n",
        "        for layeri in range(n_layers - 1, -1, -1):\n",
        "            # gradient of all but bias weights\n",
        "            self.dE_dWs[layeri][1:, :] = self.Ys[layeri].T @ delta\n",
        "            # gradient of just the bias weights\n",
        "            self.dE_dWs[layeri][0:1, :] = np.sum(delta, 0)\n",
        "            # Back-propagate this layer's delta to previous layer\n",
        "            if self.activation_function == 'relu':\n",
        "                delta = delta @ self.Ws[layeri][1:, :].T * self.grad_relu(self.Ys[layeri])\n",
        "            else:\n",
        "                delta = delta @ self.Ws[layeri][1:, :].T * (1 - self.Ys[layeri] ** 2)\n",
        "        return self.all_gradients\n",
        "\n",
        "    def use(self, X):\n",
        "        '''X assumed to not be standardized'''\n",
        "        # Standardize X\n",
        "        X = (X - self.Xmeans) / self.Xstds\n",
        "        Ys = self.forward_pass(X)\n",
        "        Y = Ys[-1]\n",
        "        # Unstandardize output Y before returning it\n",
        "        return Y * self.Tstds + self.Tmeans"
      ],
      "execution_count": null,
      "outputs": []
    },
    {
      "cell_type": "code",
      "metadata": {
        "id": "MWTG8h5GILl5",
        "colab": {
          "base_uri": "https://localhost:8080/",
          "height": 452
        },
        "outputId": "037a0769-92c0-4818-ae9a-6ab910ee876a"
      },
      "source": [
        "X = np.arange(100).reshape((-1, 1))\n",
        "T = (X - 20) ** 3 / 300000\n",
        "\n",
        "hiddens = [10]\n",
        "nnet = NeuralNetwork(X.shape[1], hiddens, T.shape[1])\n",
        "nnet.train(X, T, 250, 0.01, method='adam')\n",
        "\n",
        "plt.subplot(1, 2, 1)\n",
        "plt.plot(nnet.error_trace)\n",
        "\n",
        "plt.subplot(1, 2, 2)\n",
        "plt.plot(T, label='T')\n",
        "plt.plot(nnet.use(X), label='Y')\n",
        "plt.legend()"
      ],
      "execution_count": null,
      "outputs": [
        {
          "output_type": "stream",
          "text": [
            "Adam: Epoch 25 Error=0.23706\n",
            "Adam: Epoch 50 Error=0.22585\n",
            "Adam: Epoch 75 Error=0.21116\n",
            "Adam: Epoch 100 Error=0.18261\n",
            "Adam: Epoch 125 Error=0.13368\n",
            "Adam: Epoch 150 Error=0.08973\n",
            "Adam: Epoch 175 Error=0.07096\n",
            "Adam: Epoch 200 Error=0.06214\n",
            "Adam: Epoch 225 Error=0.05538\n",
            "Adam: Epoch 250 Error=0.04952\n"
          ],
          "name": "stdout"
        },
        {
          "output_type": "execute_result",
          "data": {
            "text/plain": [
              "<matplotlib.legend.Legend at 0x7fe45b8091d0>"
            ]
          },
          "metadata": {
            "tags": []
          },
          "execution_count": 4
        },
        {
          "output_type": "display_data",
          "data": {
            "image/png": "[encoded data removed]",
            "text/plain": [
              "<Figure size 432x288 with 2 Axes>"
            ]
          },
          "metadata": {
            "tags": [],
            "needs_background": "light"
          }
        }
      ]
    },
    {
      "cell_type": "markdown",
      "metadata": {
        "id": "-4rmp0bCILl9"
      },
      "source": [
        "## Your `NeuralNetworkClassifier` class"
      ]
    },
    {
      "cell_type": "markdown",
      "metadata": {
        "id": "jE3p86BtILl_"
      },
      "source": [
        "Complete the following definition of `NeuralNetworkClassifier` as discussed in class. You will need to override the functions\n",
        "\n",
        "* `train`\n",
        "* `error_f`\n",
        "* `gradient_f`\n",
        "* `use`\n",
        "\n",
        "and define the following new functions\n",
        "\n",
        "* `makeIndicatorVars`\n",
        "* `softmax`"
      ]
    },
    {
      "cell_type": "code",
      "metadata": {
        "id": "hOnpsfUCILl_"
      },
      "source": [
        "class NeuralNetworkClassifier(NeuralNetwork):\n",
        "\n",
        "  def makeIndicatorVars(self, T):\n",
        "      # Make sure T is two-dimensional. Should be nSamples x 1.\n",
        "      if T.ndim == 1:\n",
        "          T = T.reshape((-1, 1))\n",
        "      retT = (T == np.unique(T)).astype(int)\n",
        "      return retT\n",
        "      \n",
        "  def softmax (self, X):\n",
        "      fs = np.exp(X)  # N x K\n",
        "      denom = np.sum(fs, axis=1).reshape((-1, 1))\n",
        "      gs = fs / (denom + sys.float_info.epsilon)\n",
        "      return gs\n",
        "\n",
        "  def train(self, X, T, n_epochs, learning_rate, method='sgd', verbose=True):\n",
        "        '''\n",
        "train: \n",
        "  X: n_samples x n_inputs matrix of input samples, one per row\n",
        "  T: n_samples x n_outputs matrix of target output values, one sample per row\n",
        "  n_epochs: number of passes to take through all samples updating weights each pass\n",
        "  learning_rate: factor controlling the step size of each update\n",
        "  method: is either 'sgd' or 'adam'\n",
        "        '''\n",
        "\n",
        "        # Setup standardization parameters\n",
        "        if self.Xmeans is None:\n",
        "            self.Xmeans = X.mean(axis=0)\n",
        "            self.Xstds = X.std(axis=0)\n",
        "            self.Xstds[self.Xstds == 0] = 1  # So we don't divide by zero when standardizing\n",
        "            self.Tmeans = T.mean(axis=0)\n",
        "            self.Tstds = T.std(axis=0)\n",
        "            \n",
        "        # Standardize X and T\n",
        "        X = (X - self.Xmeans) / self.Xstds\n",
        "        self.TtrainI = self.makeIndicatorVars(T)\n",
        "        self.uniqueT=np.unique(T)\n",
        "        # Instantiate Optimizers object by giving it vector of all weights\n",
        "        optimizer = optimizers.Optimizers(self.all_weights)\n",
        "\n",
        "        # Define function to convert value from error_f into error in original T units, \n",
        "        # but only if the network has a single output. Multiplying by self.Tstds for \n",
        "        # multiple outputs does not correctly unstandardize the error.\n",
        "        error_convert_f = lambda nll: (np.exp(-nll))\n",
        "\n",
        "        if method == 'sgd':\n",
        "\n",
        "            error_trace = optimizer.sgd(self.error_f, self.gradient_f,\n",
        "                                        fargs=[X, self.TtrainI], n_epochs=n_epochs,\n",
        "                                        learning_rate=learning_rate,\n",
        "                                        verbose=True,\n",
        "                                        error_convert_f=error_convert_f)\n",
        "\n",
        "        elif method == 'adam':\n",
        "\n",
        "            error_trace = optimizer.adam(self.error_f, self.gradient_f,\n",
        "                                         fargs=[X, self.TtrainI], n_epochs=n_epochs,\n",
        "                                         learning_rate=learning_rate,\n",
        "                                         verbose=True,\n",
        "                                         error_convert_f=error_convert_f)\n",
        "\n",
        "        else:\n",
        "            raise Exception(\"method must be 'sgd' or 'adam'\")\n",
        "        \n",
        "        self.error_trace = error_trace\n",
        "\n",
        "        # Return neural network object to allow applying other methods after training.\n",
        "        #  Example:    Y = nnet.train(X, T, 100, 0.01).use(X)\n",
        "        return self\n",
        "\n",
        "    # Function to be minimized by optimizer method, mean squared error  \n",
        "  def error_f(self, X, T):\n",
        "      temp = self.forward_pass(X)\n",
        "      Y = self.softmax(temp[-1])\n",
        "      #mean_sq_error = np.mean((T - Ys[-1]) ** 2)\n",
        "      return - np.mean((T * np.log(Y)))\n",
        "\n",
        "\n",
        "  # Gradient of function to be minimized for use by optimizer method \n",
        "  # Look at Lecture 10\n",
        "  def gradient_f(self, X, T):\n",
        "      Y = self.softmax(self.Ys[-1])\n",
        "      delta = (Y - T) / (T.shape[0] * T.shape[1])\n",
        "      n_layers = len(self.n_hiddens_per_layer) + 1\n",
        "      for layeri in range(n_layers - 1, -1, -1):\n",
        "            # gradient of all but bias weights\n",
        "            self.dE_dWs[layeri][1:, :] = self.Ys[layeri].T @ delta\n",
        "            # gradient of just the bias weights\n",
        "            self.dE_dWs[layeri][0:1, :] = np.sum(delta, 0)\n",
        "            # Back-propagate this layer's delta to previous layer\n",
        "            if self.activation_function == 'relu':\n",
        "                delta = delta @ self.Ws[layeri][1:, :].T * self.grad_relu(self.Ys[layeri])\n",
        "            else:\n",
        "                delta = delta @ self.Ws[layeri][1:, :].T * (1 - self.Ys[layeri] ** 2)\n",
        "      return self.all_gradients\n",
        "\n",
        "  def use(self, X):\n",
        "      Xtest = ((X - self.Xmeans)/self.Xstds)\n",
        "      #Xtest1 = np.hstack(( np.ones((Xtest.shape[0],1)), Xtest))\n",
        "      temp = self.forward_pass(Xtest)\n",
        "      logregOutput = self.softmax(temp[-1])\n",
        "      predictedTrain = np.argmax(logregOutput,axis=1)\n",
        "      result = np.array(list(map(lambda x: [self.uniqueT[x].astype(int)] , predictedTrain)))\n",
        "      return result , logregOutput\n",
        "      \n",
        "\n",
        "\n",
        "\n"
      ],
      "execution_count": null,
      "outputs": []
    },
    {
      "cell_type": "markdown",
      "metadata": {
        "id": "fq4PZPm1ILmE"
      },
      "source": [
        "Here is a simple test of your new class.  For inputs from 0 to 100, classify values less than or equal to 25 as Class Label 25, greater than 25 and less than or equal to 75 as Class Label 75, and greater than 75 as Class Label 100. "
      ]
    },
    {
      "cell_type": "code",
      "metadata": {
        "id": "xBlHfjdYILmF",
        "colab": {
          "base_uri": "https://localhost:8080/",
          "height": 279
        },
        "outputId": "8f8215a1-7d18-4499-9011-9612cefd3b34"
      },
      "source": [
        "X = np.arange(100).reshape((-1, 1))\n",
        "T = X.copy()\n",
        "T[T <= 25] = 25\n",
        "T[np.logical_and(25 < T, T <= 75)] = 75\n",
        "T[T > 75] = 100\n",
        "\n",
        "plt.plot(X, T, 'o-')\n",
        "plt.xlabel('X')\n",
        "plt.ylabel('Class');"
      ],
      "execution_count": null,
      "outputs": [
        {
          "output_type": "display_data",
          "data": {
            "image/png": "[encoded data removed]",
            "text/plain": [
              "<Figure size 432x288 with 1 Axes>"
            ]
          },
          "metadata": {
            "tags": [],
            "needs_background": "light"
          }
        }
      ]
    },
    {
      "cell_type": "code",
      "metadata": {
        "id": "0d0783tZILmI",
        "colab": {
          "base_uri": "https://localhost:8080/",
          "height": 466
        },
        "outputId": "5362a5e1-6271-41f3-f0ae-b774a8beacb7"
      },
      "source": [
        "hiddens = [10]\n",
        "nnet = NeuralNetworkClassifier(X.shape[1], hiddens, len(np.unique(T)))\n",
        "\n",
        "nnet.train(X, T, 200, 0.01, method='adam', verbose=True)\n",
        "\n",
        "plt.subplot(1, 2, 1)\n",
        "plt.plot(nnet.error_trace)\n",
        "plt.xlabel('Epoch')\n",
        "plt.ylabel('Likelihood')\n",
        "\n",
        "plt.subplot(1, 2, 2)\n",
        "plt.plot(T + 5, 'o-', label='T + 5')  # to see, when predicted overlap T very closely\n",
        "plt.plot(nnet.use(X)[0], 'o-', label='Y')\n",
        "plt.legend()"
      ],
      "execution_count": null,
      "outputs": [
        {
          "output_type": "stream",
          "text": [
            "Adam: Epoch 20 Error=0.79055\n",
            "Adam: Epoch 40 Error=0.86051\n",
            "Adam: Epoch 60 Error=0.90738\n",
            "Adam: Epoch 80 Error=0.93517\n",
            "Adam: Epoch 100 Error=0.95024\n",
            "Adam: Epoch 120 Error=0.95899\n",
            "Adam: Epoch 140 Error=0.96468\n",
            "Adam: Epoch 160 Error=0.96873\n",
            "Adam: Epoch 180 Error=0.97180\n",
            "Adam: Epoch 200 Error=0.97422\n"
          ],
          "name": "stdout"
        },
        {
          "output_type": "execute_result",
          "data": {
            "text/plain": [
              "<matplotlib.legend.Legend at 0x7fe45b2387b8>"
            ]
          },
          "metadata": {
            "tags": []
          },
          "execution_count": 7
        },
        {
          "output_type": "display_data",
          "data": {
            "image/png": "[encoded data removed]",
            "text/plain": [
              "<Figure size 432x288 with 2 Axes>"
            ]
          },
          "metadata": {
            "tags": [],
            "needs_background": "light"
          }
        }
      ]
    },
    {
      "cell_type": "markdown",
      "metadata": {
        "id": "cgaYub-oILmN"
      },
      "source": [
        "## Now for the Hand-Draw Digits\n",
        "\n",
        "We will use a bunch (50,000) images of hand drawn digits from [this deeplearning.net site](http://deeplearning.net/tutorial/gettingstarted.html).  Download `mnist.pkl.gz`. \n",
        "\n",
        "This pickle file includes data already partitioned into training, validation, and test sets.  To read it into python, use the following steps"
      ]
    },
    {
      "cell_type": "code",
      "metadata": {
        "id": "3JtW2iMQaeZ6",
        "colab": {
          "base_uri": "https://localhost:8080/"
        },
        "outputId": "24210b83-e3de-4f0a-eb22-70303f0f3733"
      },
      "source": [
        "!curl -O http://deeplearning.net/data/mnist/mnist.pkl.gz"
      ],
      "execution_count": null,
      "outputs": [
        {
          "output_type": "stream",
          "text": [
            "  % Total    % Received % Xferd  Average Speed   Time    Time     Time  Current\n",
            "                                 Dload  Upload   Total   Spent    Left  Speed\n",
            "  0     0    0     0    0     0      0      0 --:--:--  0:00:31 --:--:--     0curl: (7) Failed to connect to deeplearning.net port 80: Connection timed out\n"
          ],
          "name": "stdout"
        }
      ]
    },
    {
      "cell_type": "code",
      "metadata": {
        "id": "qANvFvDuILmO",
        "colab": {
          "base_uri": "https://localhost:8080/",
          "height": 374
        },
        "outputId": "4a882cc9-d11a-42d4-f1cd-e309795562e9"
      },
      "source": [
        "import pickle\n",
        "import gzip\n",
        "\n",
        "with gzip.open('mnist.pkl.gz', 'rb') as f:\n",
        "    train_set, valid_set, test_set = pickle.load(f, encoding='latin1')\n",
        "\n",
        "Xtrain = train_set[0]\n",
        "Ttrain = train_set[1].reshape(-1, 1)\n",
        "\n",
        "Xval = valid_set[0]\n",
        "Tval = valid_set[1].reshape(-1, 1)\n",
        "\n",
        "Xtest = test_set[0]\n",
        "Ttest = test_set[1].reshape(-1, 1)\n",
        "\n",
        "print(Xtrain.shape, Ttrain.shape,  Xval.shape, Tval.shape,  Xtest.shape, Ttest.shape)"
      ],
      "execution_count": null,
      "outputs": [
        {
          "output_type": "error",
          "ename": "FileNotFoundError",
          "evalue": "ignored",
          "traceback": [
            "\u001b[0;31m---------------------------------------------------------------------------\u001b[0m",
            "\u001b[0;31mFileNotFoundError\u001b[0m                         Traceback (most recent call last)",
            "\u001b[0;32m<ipython-input-9-a106246ce417>\u001b[0m in \u001b[0;36m<module>\u001b[0;34m()\u001b[0m\n\u001b[1;32m      2\u001b[0m \u001b[0;32mimport\u001b[0m \u001b[0mgzip\u001b[0m\u001b[0;34m\u001b[0m\u001b[0;34m\u001b[0m\u001b[0m\n\u001b[1;32m      3\u001b[0m \u001b[0;34m\u001b[0m\u001b[0m\n\u001b[0;32m----> 4\u001b[0;31m \u001b[0;32mwith\u001b[0m \u001b[0mgzip\u001b[0m\u001b[0;34m.\u001b[0m\u001b[0mopen\u001b[0m\u001b[0;34m(\u001b[0m\u001b[0;34m'mnist.pkl.gz'\u001b[0m\u001b[0;34m,\u001b[0m \u001b[0;34m'rb'\u001b[0m\u001b[0;34m)\u001b[0m \u001b[0;32mas\u001b[0m \u001b[0mf\u001b[0m\u001b[0;34m:\u001b[0m\u001b[0;34m\u001b[0m\u001b[0;34m\u001b[0m\u001b[0m\n\u001b[0m\u001b[1;32m      5\u001b[0m     \u001b[0mtrain_set\u001b[0m\u001b[0;34m,\u001b[0m \u001b[0mvalid_set\u001b[0m\u001b[0;34m,\u001b[0m \u001b[0mtest_set\u001b[0m \u001b[0;34m=\u001b[0m \u001b[0mpickle\u001b[0m\u001b[0;34m.\u001b[0m\u001b[0mload\u001b[0m\u001b[0;34m(\u001b[0m\u001b[0mf\u001b[0m\u001b[0;34m,\u001b[0m \u001b[0mencoding\u001b[0m\u001b[0;34m=\u001b[0m\u001b[0;34m'latin1'\u001b[0m\u001b[0;34m)\u001b[0m\u001b[0;34m\u001b[0m\u001b[0;34m\u001b[0m\u001b[0m\n\u001b[1;32m      6\u001b[0m \u001b[0;34m\u001b[0m\u001b[0m\n",
            "\u001b[0;32m/usr/lib/python3.6/gzip.py\u001b[0m in \u001b[0;36mopen\u001b[0;34m(filename, mode, compresslevel, encoding, errors, newline)\u001b[0m\n\u001b[1;32m     51\u001b[0m     \u001b[0mgz_mode\u001b[0m \u001b[0;34m=\u001b[0m \u001b[0mmode\u001b[0m\u001b[0;34m.\u001b[0m\u001b[0mreplace\u001b[0m\u001b[0;34m(\u001b[0m\u001b[0;34m\"t\"\u001b[0m\u001b[0;34m,\u001b[0m \u001b[0;34m\"\"\u001b[0m\u001b[0;34m)\u001b[0m\u001b[0;34m\u001b[0m\u001b[0;34m\u001b[0m\u001b[0m\n\u001b[1;32m     52\u001b[0m     \u001b[0;32mif\u001b[0m \u001b[0misinstance\u001b[0m\u001b[0;34m(\u001b[0m\u001b[0mfilename\u001b[0m\u001b[0;34m,\u001b[0m \u001b[0;34m(\u001b[0m\u001b[0mstr\u001b[0m\u001b[0;34m,\u001b[0m \u001b[0mbytes\u001b[0m\u001b[0;34m,\u001b[0m \u001b[0mos\u001b[0m\u001b[0;34m.\u001b[0m\u001b[0mPathLike\u001b[0m\u001b[0;34m)\u001b[0m\u001b[0;34m)\u001b[0m\u001b[0;34m:\u001b[0m\u001b[0;34m\u001b[0m\u001b[0;34m\u001b[0m\u001b[0m\n\u001b[0;32m---> 53\u001b[0;31m         \u001b[0mbinary_file\u001b[0m \u001b[0;34m=\u001b[0m \u001b[0mGzipFile\u001b[0m\u001b[0;34m(\u001b[0m\u001b[0mfilename\u001b[0m\u001b[0;34m,\u001b[0m \u001b[0mgz_mode\u001b[0m\u001b[0;34m,\u001b[0m \u001b[0mcompresslevel\u001b[0m\u001b[0;34m)\u001b[0m\u001b[0;34m\u001b[0m\u001b[0;34m\u001b[0m\u001b[0m\n\u001b[0m\u001b[1;32m     54\u001b[0m     \u001b[0;32melif\u001b[0m \u001b[0mhasattr\u001b[0m\u001b[0;34m(\u001b[0m\u001b[0mfilename\u001b[0m\u001b[0;34m,\u001b[0m \u001b[0;34m\"read\"\u001b[0m\u001b[0;34m)\u001b[0m \u001b[0;32mor\u001b[0m \u001b[0mhasattr\u001b[0m\u001b[0;34m(\u001b[0m\u001b[0mfilename\u001b[0m\u001b[0;34m,\u001b[0m \u001b[0;34m\"write\"\u001b[0m\u001b[0;34m)\u001b[0m\u001b[0;34m:\u001b[0m\u001b[0;34m\u001b[0m\u001b[0;34m\u001b[0m\u001b[0m\n\u001b[1;32m     55\u001b[0m         \u001b[0mbinary_file\u001b[0m \u001b[0;34m=\u001b[0m \u001b[0mGzipFile\u001b[0m\u001b[0;34m(\u001b[0m\u001b[0;32mNone\u001b[0m\u001b[0;34m,\u001b[0m \u001b[0mgz_mode\u001b[0m\u001b[0;34m,\u001b[0m \u001b[0mcompresslevel\u001b[0m\u001b[0;34m,\u001b[0m \u001b[0mfilename\u001b[0m\u001b[0;34m)\u001b[0m\u001b[0;34m\u001b[0m\u001b[0;34m\u001b[0m\u001b[0m\n",
            "\u001b[0;32m/usr/lib/python3.6/gzip.py\u001b[0m in \u001b[0;36m__init__\u001b[0;34m(self, filename, mode, compresslevel, fileobj, mtime)\u001b[0m\n\u001b[1;32m    161\u001b[0m             \u001b[0mmode\u001b[0m \u001b[0;34m+=\u001b[0m \u001b[0;34m'b'\u001b[0m\u001b[0;34m\u001b[0m\u001b[0;34m\u001b[0m\u001b[0m\n\u001b[1;32m    162\u001b[0m         \u001b[0;32mif\u001b[0m \u001b[0mfileobj\u001b[0m \u001b[0;32mis\u001b[0m \u001b[0;32mNone\u001b[0m\u001b[0;34m:\u001b[0m\u001b[0;34m\u001b[0m\u001b[0;34m\u001b[0m\u001b[0m\n\u001b[0;32m--> 163\u001b[0;31m             \u001b[0mfileobj\u001b[0m \u001b[0;34m=\u001b[0m \u001b[0mself\u001b[0m\u001b[0;34m.\u001b[0m\u001b[0mmyfileobj\u001b[0m \u001b[0;34m=\u001b[0m \u001b[0mbuiltins\u001b[0m\u001b[0;34m.\u001b[0m\u001b[0mopen\u001b[0m\u001b[0;34m(\u001b[0m\u001b[0mfilename\u001b[0m\u001b[0;34m,\u001b[0m \u001b[0mmode\u001b[0m \u001b[0;32mor\u001b[0m \u001b[0;34m'rb'\u001b[0m\u001b[0;34m)\u001b[0m\u001b[0;34m\u001b[0m\u001b[0;34m\u001b[0m\u001b[0m\n\u001b[0m\u001b[1;32m    164\u001b[0m         \u001b[0;32mif\u001b[0m \u001b[0mfilename\u001b[0m \u001b[0;32mis\u001b[0m \u001b[0;32mNone\u001b[0m\u001b[0;34m:\u001b[0m\u001b[0;34m\u001b[0m\u001b[0;34m\u001b[0m\u001b[0m\n\u001b[1;32m    165\u001b[0m             \u001b[0mfilename\u001b[0m \u001b[0;34m=\u001b[0m \u001b[0mgetattr\u001b[0m\u001b[0;34m(\u001b[0m\u001b[0mfileobj\u001b[0m\u001b[0;34m,\u001b[0m \u001b[0;34m'name'\u001b[0m\u001b[0;34m,\u001b[0m \u001b[0;34m''\u001b[0m\u001b[0;34m)\u001b[0m\u001b[0;34m\u001b[0m\u001b[0;34m\u001b[0m\u001b[0m\n",
            "\u001b[0;31mFileNotFoundError\u001b[0m: [Errno 2] No such file or directory: 'mnist.pkl.gz'"
          ]
        }
      ]
    },
    {
      "cell_type": "code",
      "metadata": {
        "id": "k6wCw3zyILmS"
      },
      "source": [
        "Ttrain[:10]"
      ],
      "execution_count": null,
      "outputs": []
    },
    {
      "cell_type": "markdown",
      "metadata": {
        "id": "ry-Y9lCpILmV"
      },
      "source": [
        "Those must be the digits.  What the heck is in those 784 columns in the input matrices?"
      ]
    },
    {
      "cell_type": "code",
      "metadata": {
        "id": "E3DuFVxHILmW"
      },
      "source": [
        "plt.plot(Xtrain[0, :]);"
      ],
      "execution_count": null,
      "outputs": []
    },
    {
      "cell_type": "markdown",
      "metadata": {
        "id": "yLKYWnwvILma"
      },
      "source": [
        "Well, values between 0 and 1.  That doesn't help much.  These are actually intensity values for 784 pixels in an image.\n",
        "\n",
        "How can we rearrange these values into an image to be displayed?  We must first figure out how many columns and rows the image would have.  Perhaps the image is a square image, with equal numbers of rows and columns."
      ]
    },
    {
      "cell_type": "code",
      "metadata": {
        "id": "ZD0wErb4ILmb"
      },
      "source": [
        "import math\n",
        "math.sqrt(784)"
      ],
      "execution_count": null,
      "outputs": []
    },
    {
      "cell_type": "markdown",
      "metadata": {
        "id": "oVvg2mh6ILme"
      },
      "source": [
        "Ah, cool."
      ]
    },
    {
      "cell_type": "code",
      "metadata": {
        "id": "9yPCPd9PILmf"
      },
      "source": [
        "28 * 28"
      ],
      "execution_count": null,
      "outputs": []
    },
    {
      "cell_type": "markdown",
      "metadata": {
        "id": "uT9DICPSILmj"
      },
      "source": [
        "Ok Let's reshape it and look at the numbers."
      ]
    },
    {
      "cell_type": "code",
      "metadata": {
        "id": "qJdhmF39ILmk"
      },
      "source": [
        "image0 = Xtrain[0, :]\n",
        "image0 = image0.reshape(28, 28)\n",
        "image0"
      ],
      "execution_count": null,
      "outputs": []
    },
    {
      "cell_type": "markdown",
      "metadata": {
        "id": "yfX1jH2FILmq"
      },
      "source": [
        "Not that helpful.  Ok, let's use `matplotlib` to make an image display."
      ]
    },
    {
      "cell_type": "code",
      "metadata": {
        "id": "Mv0Sd59wILmq"
      },
      "source": [
        "plt.imshow(image0);"
      ],
      "execution_count": null,
      "outputs": []
    },
    {
      "cell_type": "markdown",
      "metadata": {
        "id": "MQMWLL4qILmt"
      },
      "source": [
        "Humm.  Try a grayscale color map."
      ]
    },
    {
      "cell_type": "code",
      "metadata": {
        "id": "kS2yWe8JILmu"
      },
      "source": [
        "plt.imshow(image0, cmap='gray');"
      ],
      "execution_count": null,
      "outputs": []
    },
    {
      "cell_type": "markdown",
      "metadata": {
        "id": "iw9heSACILmx"
      },
      "source": [
        "With a little more work, we can make it look like a pencil drawing."
      ]
    },
    {
      "cell_type": "code",
      "metadata": {
        "id": "lVte9hQxILm6"
      },
      "source": [
        "plt.imshow(-image0, cmap='gray')  # notice the negative sign\n",
        "plt.axis('off');"
      ],
      "execution_count": null,
      "outputs": []
    },
    {
      "cell_type": "markdown",
      "metadata": {
        "id": "BoW5tremILm-"
      },
      "source": [
        "Looks like a 5.  What class label is associated with this image?"
      ]
    },
    {
      "cell_type": "code",
      "metadata": {
        "id": "17YMAXbyILm_"
      },
      "source": [
        "Ttrain[0]"
      ],
      "execution_count": null,
      "outputs": []
    },
    {
      "cell_type": "markdown",
      "metadata": {
        "id": "qxd5p0ECILnD"
      },
      "source": [
        "Okay.  Makes sense.  Let's look at the first 100 images and their labels, as plot titles."
      ]
    },
    {
      "cell_type": "code",
      "metadata": {
        "id": "nIUgz6K-ILnE"
      },
      "source": [
        "plt.figure(figsize=(20, 20))\n",
        "for i in range(100):\n",
        "    plt.subplot(10, 10, i + 1)\n",
        "    plt.imshow(-Xtrain[i, :].reshape(28, 28), cmap='gray')\n",
        "    plt.title(Ttrain[i, 0])\n",
        "    plt.axis('off');"
      ],
      "execution_count": null,
      "outputs": []
    },
    {
      "cell_type": "markdown",
      "metadata": {
        "id": "_99NoHFcILnH"
      },
      "source": [
        "Okay.  We are ready to try to classify, right?\n",
        "\n",
        "First we should check the proportions of each digit in the given data partitions."
      ]
    },
    {
      "cell_type": "code",
      "metadata": {
        "id": "ofQLhWTWILnH"
      },
      "source": [
        "classes = np.arange(10)\n",
        "(Ttrain == classes).shape"
      ],
      "execution_count": null,
      "outputs": []
    },
    {
      "cell_type": "code",
      "metadata": {
        "id": "Bn-hDTJ3ILnK"
      },
      "source": [
        "(Ttrain == classes).sum(axis=0)"
      ],
      "execution_count": null,
      "outputs": []
    },
    {
      "cell_type": "code",
      "metadata": {
        "id": "8u70qYJhILnQ"
      },
      "source": [
        "(Ttrain == classes).sum(axis=0) / Ttrain.shape[0]"
      ],
      "execution_count": null,
      "outputs": []
    },
    {
      "cell_type": "code",
      "metadata": {
        "id": "HrQ5uzDXILnV"
      },
      "source": [
        "['Ttrain', *(Ttrain == classes).sum(axis=0) / Ttrain.shape[0]]"
      ],
      "execution_count": null,
      "outputs": []
    },
    {
      "cell_type": "code",
      "metadata": {
        "id": "k12oWsBvILnZ",
        "colab": {
          "base_uri": "https://localhost:8080/",
          "height": 231
        },
        "outputId": "a3e83a88-e65b-463c-a170-d4634bccd25f"
      },
      "source": [
        "import pandas\n",
        "\n",
        "result = []\n",
        "result.append(['Train', *(Ttrain == classes).sum(axis=0) / Ttrain.shape[0]])\n",
        "result.append(['Tval', *(Tval == classes).sum(axis=0) / Tval.shape[0]])\n",
        "result.append(['Ttest', *(Ttest == classes).sum(axis=0) / Ttest.shape[0]])\n",
        "pandas.DataFrame(result)"
      ],
      "execution_count": null,
      "outputs": [
        {
          "output_type": "error",
          "ename": "NameError",
          "evalue": "ignored",
          "traceback": [
            "\u001b[0;31m---------------------------------------------------------------------------\u001b[0m",
            "\u001b[0;31mNameError\u001b[0m                                 Traceback (most recent call last)",
            "\u001b[0;32m<ipython-input-12-8ad4a797abbd>\u001b[0m in \u001b[0;36m<module>\u001b[0;34m()\u001b[0m\n\u001b[1;32m      2\u001b[0m \u001b[0;34m\u001b[0m\u001b[0m\n\u001b[1;32m      3\u001b[0m \u001b[0mresult\u001b[0m \u001b[0;34m=\u001b[0m \u001b[0;34m[\u001b[0m\u001b[0;34m]\u001b[0m\u001b[0;34m\u001b[0m\u001b[0;34m\u001b[0m\u001b[0m\n\u001b[0;32m----> 4\u001b[0;31m \u001b[0mresult\u001b[0m\u001b[0;34m.\u001b[0m\u001b[0mappend\u001b[0m\u001b[0;34m(\u001b[0m\u001b[0;34m[\u001b[0m\u001b[0;34m'Train'\u001b[0m\u001b[0;34m,\u001b[0m \u001b[0;34m*\u001b[0m\u001b[0;34m(\u001b[0m\u001b[0mTtrain\u001b[0m \u001b[0;34m==\u001b[0m \u001b[0mclasses\u001b[0m\u001b[0;34m)\u001b[0m\u001b[0;34m.\u001b[0m\u001b[0msum\u001b[0m\u001b[0;34m(\u001b[0m\u001b[0maxis\u001b[0m\u001b[0;34m=\u001b[0m\u001b[0;36m0\u001b[0m\u001b[0;34m)\u001b[0m \u001b[0;34m/\u001b[0m \u001b[0mTtrain\u001b[0m\u001b[0;34m.\u001b[0m\u001b[0mshape\u001b[0m\u001b[0;34m[\u001b[0m\u001b[0;36m0\u001b[0m\u001b[0;34m]\u001b[0m\u001b[0;34m]\u001b[0m\u001b[0;34m)\u001b[0m\u001b[0;34m\u001b[0m\u001b[0;34m\u001b[0m\u001b[0m\n\u001b[0m\u001b[1;32m      5\u001b[0m \u001b[0mresult\u001b[0m\u001b[0;34m.\u001b[0m\u001b[0mappend\u001b[0m\u001b[0;34m(\u001b[0m\u001b[0;34m[\u001b[0m\u001b[0;34m'Tval'\u001b[0m\u001b[0;34m,\u001b[0m \u001b[0;34m*\u001b[0m\u001b[0;34m(\u001b[0m\u001b[0mTval\u001b[0m \u001b[0;34m==\u001b[0m \u001b[0mclasses\u001b[0m\u001b[0;34m)\u001b[0m\u001b[0;34m.\u001b[0m\u001b[0msum\u001b[0m\u001b[0;34m(\u001b[0m\u001b[0maxis\u001b[0m\u001b[0;34m=\u001b[0m\u001b[0;36m0\u001b[0m\u001b[0;34m)\u001b[0m \u001b[0;34m/\u001b[0m \u001b[0mTval\u001b[0m\u001b[0;34m.\u001b[0m\u001b[0mshape\u001b[0m\u001b[0;34m[\u001b[0m\u001b[0;36m0\u001b[0m\u001b[0;34m]\u001b[0m\u001b[0;34m]\u001b[0m\u001b[0;34m)\u001b[0m\u001b[0;34m\u001b[0m\u001b[0;34m\u001b[0m\u001b[0m\n\u001b[1;32m      6\u001b[0m \u001b[0mresult\u001b[0m\u001b[0;34m.\u001b[0m\u001b[0mappend\u001b[0m\u001b[0;34m(\u001b[0m\u001b[0;34m[\u001b[0m\u001b[0;34m'Ttest'\u001b[0m\u001b[0;34m,\u001b[0m \u001b[0;34m*\u001b[0m\u001b[0;34m(\u001b[0m\u001b[0mTtest\u001b[0m \u001b[0;34m==\u001b[0m \u001b[0mclasses\u001b[0m\u001b[0;34m)\u001b[0m\u001b[0;34m.\u001b[0m\u001b[0msum\u001b[0m\u001b[0;34m(\u001b[0m\u001b[0maxis\u001b[0m\u001b[0;34m=\u001b[0m\u001b[0;36m0\u001b[0m\u001b[0;34m)\u001b[0m \u001b[0;34m/\u001b[0m \u001b[0mTtest\u001b[0m\u001b[0;34m.\u001b[0m\u001b[0mshape\u001b[0m\u001b[0;34m[\u001b[0m\u001b[0;36m0\u001b[0m\u001b[0;34m]\u001b[0m\u001b[0;34m]\u001b[0m\u001b[0;34m)\u001b[0m\u001b[0;34m\u001b[0m\u001b[0;34m\u001b[0m\u001b[0m\n",
            "\u001b[0;31mNameError\u001b[0m: name 'Ttrain' is not defined"
          ]
        }
      ]
    },
    {
      "cell_type": "markdown",
      "metadata": {
        "id": "AE-iEGtWILnh"
      },
      "source": [
        "All very close to 0.1. Super."
      ]
    },
    {
      "cell_type": "markdown",
      "metadata": {
        "id": "cGmAJhilILnh"
      },
      "source": [
        "Time for our first experiment.  Let's train a small neural net with 5 hidden units in one layer for a small number of epochs using Adam."
      ]
    },
    {
      "cell_type": "code",
      "metadata": {
        "id": "-9VfR5oCILni"
      },
      "source": [
        "n_epochs = 100\n",
        "learning_rate = 0.01\n",
        "\n",
        "np.random.seed(142)\n",
        "\n",
        "nnet = NeuralNetworkClassifier(Xtrain.shape[1], [5], len(classes))\n",
        "nnet.train(Xtrain, Ttrain, n_epochs, learning_rate, method='adam', verbose=True)"
      ],
      "execution_count": null,
      "outputs": []
    },
    {
      "cell_type": "code",
      "metadata": {
        "id": "nbsIy_FtILns"
      },
      "source": [
        "print(nnet)  # uses the __str__ method"
      ],
      "execution_count": null,
      "outputs": []
    },
    {
      "cell_type": "code",
      "metadata": {
        "id": "eL-X7OMjILnv"
      },
      "source": [
        "plt.plot(nnet.error_trace);"
      ],
      "execution_count": null,
      "outputs": []
    },
    {
      "cell_type": "markdown",
      "metadata": {
        "id": "YxzYJ2DwILnx"
      },
      "source": [
        "Now it is time for you to run some longer experiments.  You must write the code to do the following steps:\n",
        "\n",
        "1. For each of at least five different hidden layer structures\n",
        "\n",
        "    1. Train a network for 500 epochs.\n",
        "    1. Collect percent of samples correctly classified in the given train, validate, and test partitions.\n",
        "\n",
        "2. Create a `pandas.DataFrame` with these results and with column headings `('Hidden Layers', 'Train', 'Validate', 'Test', 'Time')` where `'Time'` is the number of seconds required to train each network.\n",
        "\n",
        "3. Retrain a network using the best hidden layer structure, judged by the percent correct on the validation set.\n",
        "4. Use this network to find several images in the test set for which the network's probability of the correct class is the closest to zero, meaning images for which your network does the worst.  Draw these images and discuss why your network might not be doing well for those images."
      ]
    },
    {
      "cell_type": "markdown",
      "metadata": {
        "id": "YWAmttUCILny"
      },
      "source": [
        "## `confusion_matrix`\n",
        "\n",
        "Now, write a function named `confusion_matrix` that returns a confusion matrix for any classification problem, returned as a `pandas.DataFrame` as shown in Lecture Notes 12.  It must require two arguments, the predicted classes for each sample and the true classes for each sample.  Here is an example."
      ]
    },
    {
      "cell_type": "code",
      "metadata": {
        "id": "QH9DG6bsg9m3"
      },
      "source": [
        "import pandas\n",
        "def confusion_matrix(Y_classes, T):\n",
        "  class_names=np.unique(T)\n",
        "  table = []\n",
        "  for true_class in range(0,10):\n",
        "    row = []\n",
        "    for predicted_class in range(0,10):\n",
        "        row.append(100 * np.mean(Y_classes[T == true_class] == predicted_class))\n",
        "        # row.append(f'{100 * np.mean(Classes[Ttrain == true_class] == predicted_class):0.1f}')\n",
        "    table.append(row)\n",
        "    \n",
        "  print(f'Test percent correct {np.mean(Y_classes == Ttest) * 100:.2f}') \n",
        "\n",
        "  return pandas.DataFrame(table, index=class_names, columns=class_names)"
      ],
      "execution_count": null,
      "outputs": []
    },
    {
      "cell_type": "code",
      "metadata": {
        "id": "yCBAHn0rILny",
        "colab": {
          "base_uri": "https://localhost:8080/",
          "height": 376
        },
        "outputId": "1615013e-8351-4b7f-a2f0-9b6af170088b"
      },
      "source": [
        "Y_classes, Y_probs = nnet.use(Xtest)\n",
        "confusion_matrix(Y_classes, Ttest)"
      ],
      "execution_count": null,
      "outputs": [
        {
          "output_type": "stream",
          "text": [
            "Test percent correct 83.67\n"
          ],
          "name": "stdout"
        },
        {
          "output_type": "execute_result",
          "data": {
            "text/html": [
              "<div>\n",
              "<style scoped>\n",
              "    .dataframe tbody tr th:only-of-type {\n",
              "        vertical-align: middle;\n",
              "    }\n",
              "\n",
              "    .dataframe tbody tr th {\n",
              "        vertical-align: top;\n",
              "    }\n",
              "\n",
              "    .dataframe thead th {\n",
              "        text-align: right;\n",
              "    }\n",
              "</style>\n",
              "<table border=\"1\" class=\"dataframe\">\n",
              "  <thead>\n",
              "    <tr style=\"text-align: right;\">\n",
              "      <th></th>\n",
              "      <th>0</th>\n",
              "      <th>1</th>\n",
              "      <th>2</th>\n",
              "      <th>3</th>\n",
              "      <th>4</th>\n",
              "      <th>5</th>\n",
              "      <th>6</th>\n",
              "      <th>7</th>\n",
              "      <th>8</th>\n",
              "      <th>9</th>\n",
              "    </tr>\n",
              "  </thead>\n",
              "  <tbody>\n",
              "    <tr>\n",
              "      <th>0</th>\n",
              "      <td>89.897959</td>\n",
              "      <td>0.204082</td>\n",
              "      <td>1.530612</td>\n",
              "      <td>0.000000</td>\n",
              "      <td>1.326531</td>\n",
              "      <td>1.020408</td>\n",
              "      <td>3.877551</td>\n",
              "      <td>1.326531</td>\n",
              "      <td>0.204082</td>\n",
              "      <td>0.612245</td>\n",
              "    </tr>\n",
              "    <tr>\n",
              "      <th>1</th>\n",
              "      <td>0.176211</td>\n",
              "      <td>94.625551</td>\n",
              "      <td>1.321586</td>\n",
              "      <td>1.233480</td>\n",
              "      <td>0.264317</td>\n",
              "      <td>0.176211</td>\n",
              "      <td>0.352423</td>\n",
              "      <td>0.088106</td>\n",
              "      <td>1.762115</td>\n",
              "      <td>0.000000</td>\n",
              "    </tr>\n",
              "    <tr>\n",
              "      <th>2</th>\n",
              "      <td>1.162791</td>\n",
              "      <td>1.647287</td>\n",
              "      <td>85.658915</td>\n",
              "      <td>2.228682</td>\n",
              "      <td>1.356589</td>\n",
              "      <td>0.387597</td>\n",
              "      <td>3.294574</td>\n",
              "      <td>0.872093</td>\n",
              "      <td>3.100775</td>\n",
              "      <td>0.290698</td>\n",
              "    </tr>\n",
              "    <tr>\n",
              "      <th>3</th>\n",
              "      <td>0.000000</td>\n",
              "      <td>0.792079</td>\n",
              "      <td>8.514851</td>\n",
              "      <td>77.821782</td>\n",
              "      <td>0.693069</td>\n",
              "      <td>3.663366</td>\n",
              "      <td>2.376238</td>\n",
              "      <td>1.683168</td>\n",
              "      <td>3.465347</td>\n",
              "      <td>0.990099</td>\n",
              "    </tr>\n",
              "    <tr>\n",
              "      <th>4</th>\n",
              "      <td>0.814664</td>\n",
              "      <td>1.120163</td>\n",
              "      <td>1.120163</td>\n",
              "      <td>0.407332</td>\n",
              "      <td>82.179226</td>\n",
              "      <td>1.731161</td>\n",
              "      <td>0.610998</td>\n",
              "      <td>1.018330</td>\n",
              "      <td>0.407332</td>\n",
              "      <td>10.590631</td>\n",
              "    </tr>\n",
              "    <tr>\n",
              "      <th>5</th>\n",
              "      <td>2.690583</td>\n",
              "      <td>0.336323</td>\n",
              "      <td>1.233184</td>\n",
              "      <td>3.139013</td>\n",
              "      <td>1.793722</td>\n",
              "      <td>74.887892</td>\n",
              "      <td>4.708520</td>\n",
              "      <td>0.896861</td>\n",
              "      <td>6.726457</td>\n",
              "      <td>3.587444</td>\n",
              "    </tr>\n",
              "    <tr>\n",
              "      <th>6</th>\n",
              "      <td>3.131524</td>\n",
              "      <td>0.208768</td>\n",
              "      <td>3.027140</td>\n",
              "      <td>0.626305</td>\n",
              "      <td>0.521921</td>\n",
              "      <td>5.323591</td>\n",
              "      <td>84.237996</td>\n",
              "      <td>2.400835</td>\n",
              "      <td>0.313152</td>\n",
              "      <td>0.208768</td>\n",
              "    </tr>\n",
              "    <tr>\n",
              "      <th>7</th>\n",
              "      <td>1.167315</td>\n",
              "      <td>3.015564</td>\n",
              "      <td>1.361868</td>\n",
              "      <td>0.875486</td>\n",
              "      <td>2.918288</td>\n",
              "      <td>0.000000</td>\n",
              "      <td>0.583658</td>\n",
              "      <td>84.241245</td>\n",
              "      <td>0.000000</td>\n",
              "      <td>5.836576</td>\n",
              "    </tr>\n",
              "    <tr>\n",
              "      <th>8</th>\n",
              "      <td>1.129363</td>\n",
              "      <td>1.848049</td>\n",
              "      <td>0.821355</td>\n",
              "      <td>6.262834</td>\n",
              "      <td>0.513347</td>\n",
              "      <td>7.905544</td>\n",
              "      <td>1.129363</td>\n",
              "      <td>1.334702</td>\n",
              "      <td>76.591376</td>\n",
              "      <td>2.464066</td>\n",
              "    </tr>\n",
              "    <tr>\n",
              "      <th>9</th>\n",
              "      <td>2.081269</td>\n",
              "      <td>1.288404</td>\n",
              "      <td>0.000000</td>\n",
              "      <td>0.991080</td>\n",
              "      <td>5.748266</td>\n",
              "      <td>1.189296</td>\n",
              "      <td>0.000000</td>\n",
              "      <td>3.567889</td>\n",
              "      <td>1.090188</td>\n",
              "      <td>84.043608</td>\n",
              "    </tr>\n",
              "  </tbody>\n",
              "</table>\n",
              "</div>"
            ],
            "text/plain": [
              "           0          1          2  ...          7          8          9\n",
              "0  89.897959   0.204082   1.530612  ...   1.326531   0.204082   0.612245\n",
              "1   0.176211  94.625551   1.321586  ...   0.088106   1.762115   0.000000\n",
              "2   1.162791   1.647287  85.658915  ...   0.872093   3.100775   0.290698\n",
              "3   0.000000   0.792079   8.514851  ...   1.683168   3.465347   0.990099\n",
              "4   0.814664   1.120163   1.120163  ...   1.018330   0.407332  10.590631\n",
              "5   2.690583   0.336323   1.233184  ...   0.896861   6.726457   3.587444\n",
              "6   3.131524   0.208768   3.027140  ...   2.400835   0.313152   0.208768\n",
              "7   1.167315   3.015564   1.361868  ...  84.241245   0.000000   5.836576\n",
              "8   1.129363   1.848049   0.821355  ...   1.334702  76.591376   2.464066\n",
              "9   2.081269   1.288404   0.000000  ...   3.567889   1.090188  84.043608\n",
              "\n",
              "[10 rows x 10 columns]"
            ]
          },
          "metadata": {
            "tags": []
          },
          "execution_count": 313
        }
      ]
    },
    {
      "cell_type": "code",
      "metadata": {
        "colab": {
          "base_uri": "https://localhost:8080/",
          "height": 129
        },
        "id": "uLsEsJdzHbyV",
        "outputId": "aa73c411-3d46-4d39-cf20-6b17f36829db"
      },
      "source": [
        "import time\r\n",
        "results=[]\r\n",
        "for i in [[5],[3,5],[5,3],[3,5,3],[5,3,5]]:\r\n",
        "  nnet=NeuralNetworkClassifier(Xtrain.shape[1], i, len(classes)))\r\n",
        "  StartTime=time.time()\r\n",
        "  nnet.train(Xtrain, Ttrain, 500, .01, method='adam', verbose=False)\r\n",
        "  StopTime=time.time()\r\n",
        "  Y,prob=nnet.use(Xtrain)\r\n",
        "  train=np.mean(Y == Ttrain) * 100\r\n",
        "  Y,prob=nnet.use(Xtest)\r\n",
        "  test=np.mean(Y == Ttest) * 100\r\n",
        "  Y,prob=nnet.use(Xvalidate)\r\n",
        "  val=np.mean(Y == Tvalidate) * 100\r\n",
        "  results.append([i,train,val,test,StartTime-StopTime])\r\n",
        "df = pandas.DataFrame(results,columns=['Hidden Layers', 'Train', 'Validate', 'Test', 'Time'])\r\n",
        "df"
      ],
      "execution_count": null,
      "outputs": [
        {
          "output_type": "error",
          "ename": "SyntaxError",
          "evalue": "ignored",
          "traceback": [
            "\u001b[0;36m  File \u001b[0;32m\"<ipython-input-14-57d93428fbac>\"\u001b[0;36m, line \u001b[0;32m4\u001b[0m\n\u001b[0;31m    nnet=NeuralNetworkClassifier(Xtrain.shape[1], i, len(classes)))\u001b[0m\n\u001b[0m                                                                  ^\u001b[0m\n\u001b[0;31mSyntaxError\u001b[0m\u001b[0;31m:\u001b[0m invalid syntax\n"
          ]
        }
      ]
    },
    {
      "cell_type": "code",
      "metadata": {
        "id": "88B3qUWD7prS"
      },
      "source": [
        "curr=0\r\n",
        "HL=[]\r\n",
        "for i in results:\r\n",
        "  if i[2]>curr:\r\n",
        "    curr=i[2]\r\n",
        "    HL=i[0]\r\n",
        "Fnnet=NeuralNetworkClassifier(Xtrain.shape[1], HL, len(classes)))\r\n",
        "Fnnet.nnet.train(Xtrain, Ttrain, 500, .01, method='adam', verbose=False)"
      ],
      "execution_count": null,
      "outputs": []
    },
    {
      "cell_type": "code",
      "metadata": {
        "id": "gUhyE7wA8pyq"
      },
      "source": [
        "unable to do last part without dataset working"
      ],
      "execution_count": null,
      "outputs": []
    },
    {
      "cell_type": "markdown",
      "metadata": {
        "id": "8nzEE427ILn3"
      },
      "source": [
        "## Grading and Check-In\n",
        "\n",
        "Submit assignments through Canvas following the pattern of the previous assignments. 70 points for correct code, 30 points for assignment meetings. "
      ]
    },
    {
      "cell_type": "markdown",
      "metadata": {
        "id": "i1u9Tm8uILn3"
      },
      "source": [
        "## Extra Credit\n",
        "Earn 5 extra credit point on this assignment by doing the following.\n",
        "\n",
        "1. Combine the train, validate, and test partitions loaded from the MNIST data file into two matrices, `X` and `T`. \n",
        "2. Using `adam` , `relu` and just one value of `learning_rate` and `n_epochs`, compare several hidden layer architectures. Do so by applying our `generate_k_fold_cross_validation_sets` function as defined in Lecture Notes 12 which forms stratified partitioning, for use in classification problems, to your `X` and `T` matrices using `n_fold` of 3.\n",
        "3. Show results and discuss which architectures you find works the best, and how you determined this."
      ]
    },
    {
      "cell_type": "code",
      "metadata": {
        "id": "-DD9gH8iILn4"
      },
      "source": [
        ""
      ],
      "execution_count": null,
      "outputs": []
    }
  ]
}